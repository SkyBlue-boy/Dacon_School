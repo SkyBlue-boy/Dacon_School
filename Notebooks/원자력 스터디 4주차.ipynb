{
 "cells": [
  {
   "cell_type": "markdown",
   "metadata": {},
   "source": [
    "# 하이퍼 파라미터 최적화: Grid Search & Random Search\n",
    "\n",
    "- Grid Search는 최적지점을 놓칠 확률이 random search에 비해 상대적으로 높다, 사용자가 parameter를 지정해줌. 탐색시간은 상대적으로 조금 걸린다.\n",
    "\n",
    "- Random Search는 사용자가 범위를 설정해주고 샘플링 수를 정해주면 알고리즘이 알아서 랜덤하게 cross validation을 해서 최적점을 찾을려고 한다 그래서 최적점을 찾을 확률이 상대적으로 높다. 샘플링 수를 높이면 학습하는 시간은 더 오래 걸리지만 최적점을 찾는 확률은 더 높아짐."
   ]
  },
  {
   "cell_type": "code",
   "execution_count": 1,
   "metadata": {},
   "outputs": [],
   "source": [
    "import pandas as pd\n",
    "import time"
   ]
  },
  {
   "cell_type": "code",
   "execution_count": 8,
   "metadata": {},
   "outputs": [
    {
     "name": "stdout",
     "output_type": "stream",
     "text": [
      "125.44715166091919\n"
     ]
    }
   ],
   "source": [
    "start = time.time()\n",
    "train = pd.read_csv('../train.csv', index_col = 0)\n",
    "test = pd.read_csv('../test.csv', index_col = 0)\n",
    "print(time.time() - start)"
   ]
  },
  {
   "cell_type": "markdown",
   "metadata": {},
   "source": [
    "![](https://miro.medium.com/max/1200/1*ZTlQm_WRcrNqL-nLnx6GJA.png)"
   ]
  },
  {
   "cell_type": "code",
   "execution_count": 32,
   "metadata": {},
   "outputs": [],
   "source": [
    "X = train.iloc[:,:5]\n",
    "y = train['label']\n",
    "#시간이 오래 걸려서 데이터를 추출해서 진행."
   ]
  },
  {
   "cell_type": "markdown",
   "metadata": {},
   "source": [
    "## GridSearch"
   ]
  },
  {
   "cell_type": "code",
   "execution_count": 33,
   "metadata": {},
   "outputs": [
    {
     "data": {
      "text/plain": [
       "GridSearchCV(cv=3, error_score=nan,\n",
       "             estimator=LGBMClassifier(boosting_type='gbdt', class_weight=None,\n",
       "                                      colsample_bytree=1.0,\n",
       "                                      importance_type='split',\n",
       "                                      learning_rate=0.03, max_depth=-1,\n",
       "                                      min_child_samples=20,\n",
       "                                      min_child_weight=0.001,\n",
       "                                      min_split_gain=0.0, n_estimators=100,\n",
       "                                      n_jobs=-1, num_leaves=31, objective=None,\n",
       "                                      random_state=0, reg_alpha=0.0,\n",
       "                                      reg_lambda=0.0, silent=True,\n",
       "                                      subsample=1.0, subsample_for_bin=200000,\n",
       "                                      subsample_freq=0),\n",
       "             iid='deprecated', n_jobs=None,\n",
       "             param_grid={'n_estimators': [50], 'num_leaves': [10, 15]},\n",
       "             pre_dispatch='2*n_jobs', refit=True, return_train_score=False,\n",
       "             scoring='neg_log_loss', verbose=0)"
      ]
     },
     "execution_count": 33,
     "metadata": {},
     "output_type": "execute_result"
    }
   ],
   "source": [
    "import lightgbm as lgb\n",
    "from sklearn.model_selection import GridSearchCV # GridSearchCV에서 CV는 CROSS VALIDATION, 성능평가를 같이 하기위해\n",
    "param = {'num_leaves': [10, 15], # 총 2개의 조합으로 하이퍼파라미터를 설정 (50, 10), (50, 15)\n",
    "        'n_estimators': [50]} # gridsearch\n",
    "\n",
    "model = lgb.LGBMClassifier(random_state = 0, learning_rate=0.03)\n",
    "\n",
    "gs = GridSearchCV(estimator=model, param_grid=param, scoring = 'neg_log_loss', cv = 3) # cv = 3 : kfold는 3으로 가져옴. 3개의 분할로 나누겠다. 2개는 학습으로 1개는 val로 한것을 총 3개\n",
    "\n",
    "# GridSearchCV개발자가 모델이 높은 점수를 가질수록 좋은 지표라고 설정을 해둠 따라서\n",
    "# 로그로스는 낮을수록 좋은 지표이기 때문에 뒤집어야한다. 따라서 negative를 설정\n",
    "\n",
    "gs.fit(X, y)"
   ]
  },
  {
   "cell_type": "code",
   "execution_count": 34,
   "metadata": {},
   "outputs": [
    {
     "name": "stdout",
     "output_type": "stream",
     "text": [
      "{'n_estimators': 50, 'num_leaves': 10}\n",
      "{'mean_fit_time': array([5.62044366, 9.72578049]),\n",
      " 'mean_score_time': array([2.6352133 , 3.34682218]),\n",
      " 'mean_test_score': array([-4.34061464, -4.37139598]),\n",
      " 'param_n_estimators': masked_array(data=[50, 50],\n",
      "             mask=[False, False],\n",
      "       fill_value='?',\n",
      "            dtype=object),\n",
      " 'param_num_leaves': masked_array(data=[10, 15],\n",
      "             mask=[False, False],\n",
      "       fill_value='?',\n",
      "            dtype=object),\n",
      " 'params': [{'n_estimators': 50, 'num_leaves': 10},\n",
      "            {'n_estimators': 50, 'num_leaves': 15}],\n",
      " 'rank_test_score': array([1, 2]),\n",
      " 'split0_test_score': array([-4.333528  , -4.36132573]),\n",
      " 'split1_test_score': array([-4.34583619, -4.37842419]),\n",
      " 'split2_test_score': array([-4.34247974, -4.37443802]),\n",
      " 'std_fit_time': array([0.19897029, 0.87574399]),\n",
      " 'std_score_time': array([0.37787969, 0.12742558]),\n",
      " 'std_test_score': array([0.00519499, 0.00730433])}\n"
     ]
    }
   ],
   "source": [
    "import pprint # pretty print의 약자, 이쁘게 보여주기 위해\n",
    "pprint.pprint(gs.best_params_) # best_params_ 이 속성에 최고의 조합이 들어감.\n",
    "\n",
    "pprint.pprint(gs.cv_results_) # cv_results_ 이 속성에는 gs를 돌렸을 때 나온 결과값이 저장.\n",
    "#mean_test_score가 평가 점수.\n",
    "#rank_test_score가 랭킹\n",
    "#split0_test_score...가 3번의 kfold 점수."
   ]
  },
  {
   "cell_type": "code",
   "execution_count": 35,
   "metadata": {},
   "outputs": [],
   "source": [
    "y_pred = gs.predict_proba(test.iloc[:, :5]) \n",
    "# gs가 위에서 나온 최고의 하이퍼파라미터들을 가지고 자동적으로 다시 학습함.(GridSearchCV의 안에 알고리즘이 있어서) 따라서 predict만 진행하면 됨"
   ]
  },
  {
   "cell_type": "markdown",
   "metadata": {},
   "source": [
    "## Random search"
   ]
  },
  {
   "cell_type": "code",
   "execution_count": 24,
   "metadata": {},
   "outputs": [
    {
     "data": {
      "text/plain": [
       "RandomizedSearchCV(cv=3, error_score=nan,\n",
       "                   estimator=LGBMClassifier(boosting_type='gbdt',\n",
       "                                            class_weight=None,\n",
       "                                            colsample_bytree=1.0,\n",
       "                                            importance_type='split',\n",
       "                                            learning_rate=0.03, max_depth=-1,\n",
       "                                            min_child_samples=20,\n",
       "                                            min_child_weight=0.001,\n",
       "                                            min_split_gain=0.0,\n",
       "                                            n_estimators=100, n_jobs=-1,\n",
       "                                            num_leaves=31, objective=None,\n",
       "                                            random_state=0, reg_alpha=0.0,\n",
       "                                            reg_lambda=0.0, silent=True,\n",
       "                                            subsample=1.0,\n",
       "                                            subsample_for_bin=200000,\n",
       "                                            subsample_freq=0),\n",
       "                   iid='deprecated', n_iter=2, n_jobs=-1,\n",
       "                   param_distributions={'n_estimators': range(100, 200),\n",
       "                                        'num_leaves': range(10, 15)},\n",
       "                   pre_dispatch='2*n_jobs', random_state=0, refit=True,\n",
       "                   return_train_score=False, scoring='neg_log_loss', verbose=0)"
      ]
     },
     "execution_count": 24,
     "metadata": {},
     "output_type": "execute_result"
    }
   ],
   "source": [
    "# Random search\n",
    "from sklearn.model_selection import RandomizedSearchCV\n",
    "\n",
    "\n",
    "param = {'num_leaves': range(10, 15), # 범위를 설정해준다.\n",
    "        'n_estimators': range(100, 200)}\n",
    "\n",
    "model = lgb.LGBMClassifier(random_state = 0, learning_rate=0.03)\n",
    "\n",
    "rs = RandomizedSearchCV(estimator=model,  # 튜닝하고자 하는 모델\n",
    "                        param_distributions=param, \n",
    "                        n_iter = 2, # 내가 몇번 샘플링을 반복할 것인지, 2개의 조합만 샘플링 하겠다.\n",
    "                        random_state=0, \n",
    "                        scoring = 'neg_log_loss', \n",
    "                        n_jobs = -1, cv = 3) \n",
    "\n",
    "rs.fit(X, y)"
   ]
  },
  {
   "cell_type": "code",
   "execution_count": 25,
   "metadata": {},
   "outputs": [
    {
     "name": "stdout",
     "output_type": "stream",
     "text": [
      "{'n_estimators': 109, 'num_leaves': 12}\n",
      "{'mean_fit_time': array([60.57826002, 48.56829977]),\n",
      " 'mean_score_time': array([83.7765859 , 71.58044314]),\n",
      " 'mean_test_score': array([-4.49011554, -4.44166262]),\n",
      " 'param_n_estimators': masked_array(data=[134, 109],\n",
      "             mask=[False, False],\n",
      "       fill_value='?',\n",
      "            dtype=object),\n",
      " 'param_num_leaves': masked_array(data=[12, 12],\n",
      "             mask=[False, False],\n",
      "       fill_value='?',\n",
      "            dtype=object),\n",
      " 'params': [{'n_estimators': 134, 'num_leaves': 12},\n",
      "            {'n_estimators': 109, 'num_leaves': 12}],\n",
      " 'rank_test_score': array([2, 1]),\n",
      " 'split0_test_score': array([-4.48527946, -4.43597508]),\n",
      " 'split1_test_score': array([-4.49465466, -4.44535484]),\n",
      " 'split2_test_score': array([-4.4904125 , -4.44365794]),\n",
      " 'std_fit_time': array([0.82462336, 1.94688146]),\n",
      " 'std_score_time': array([0.11454041, 0.2121693 ]),\n",
      " 'std_test_score': array([0.00383316, 0.00408093])}\n"
     ]
    }
   ],
   "source": [
    "pprint.pprint(rs.best_params_) # 가장 좋았던 조합\n",
    "\n",
    "pprint.pprint(rs.cv_results_) # 결과표"
   ]
  },
  {
   "cell_type": "code",
   "execution_count": 26,
   "metadata": {},
   "outputs": [],
   "source": [
    "y_pred_rs = rs.predict(test.iloc[:, :5]) # 이 친구도 가장 좋았던 하이퍼파라미터로 자동적으로 다시 학습하기 때문에 예측만 해주면 됨."
   ]
  },
  {
   "cell_type": "markdown",
   "metadata": {},
   "source": [
    "# 모델 앙상블\n",
    "여러 모델을 합쳐서 예측을 하면 새로 들어오는 값에 대해 일반화가 잘될 수 있다."
   ]
  },
  {
   "cell_type": "markdown",
   "metadata": {},
   "source": [
    "##  배깅\n",
    "soft or hard voting 같은거"
   ]
  },
  {
   "cell_type": "code",
   "execution_count": 36,
   "metadata": {},
   "outputs": [],
   "source": [
    "from sklearn.ensemble import RandomForestClassifier, VotingClassifier"
   ]
  },
  {
   "cell_type": "code",
   "execution_count": 38,
   "metadata": {},
   "outputs": [],
   "source": [
    "clf1 = RandomForestClassifier(n_estimators =10, n_jobs = -1, random_state = 0)\n",
    "clf2 = lgb.LGBMClassifier(n_estimators=10, random_state = 0, learning_rate=0.03)\n",
    "#초기모델선언"
   ]
  },
  {
   "cell_type": "code",
   "execution_count": 39,
   "metadata": {},
   "outputs": [],
   "source": [
    "eclf1 = VotingClassifier(estimators=[('rf', clf1), ('lgbm', clf2)], \n",
    "                         voting='soft') # soft voting으로 설정해서 위의 두개의 모델을 합친다.\n",
    "\n",
    "eclf1 = eclf1.fit(X, y) #학습할 때는 fit함수"
   ]
  },
  {
   "cell_type": "code",
   "execution_count": 43,
   "metadata": {},
   "outputs": [
    {
     "data": {
      "text/plain": [
       "[('rf',\n",
       "  RandomForestClassifier(bootstrap=True, ccp_alpha=0.0, class_weight=None,\n",
       "                         criterion='gini', max_depth=None, max_features='auto',\n",
       "                         max_leaf_nodes=None, max_samples=None,\n",
       "                         min_impurity_decrease=0.0, min_impurity_split=None,\n",
       "                         min_samples_leaf=1, min_samples_split=2,\n",
       "                         min_weight_fraction_leaf=0.0, n_estimators=10, n_jobs=-1,\n",
       "                         oob_score=False, random_state=0, verbose=0,\n",
       "                         warm_start=False)),\n",
       " ('lgbm',\n",
       "  LGBMClassifier(boosting_type='gbdt', class_weight=None, colsample_bytree=1.0,\n",
       "                 importance_type='split', learning_rate=0.03, max_depth=-1,\n",
       "                 min_child_samples=20, min_child_weight=0.001, min_split_gain=0.0,\n",
       "                 n_estimators=10, n_jobs=-1, num_leaves=31, objective=None,\n",
       "                 random_state=0, reg_alpha=0.0, reg_lambda=0.0, silent=True,\n",
       "                 subsample=1.0, subsample_for_bin=200000, subsample_freq=0))]"
      ]
     },
     "execution_count": 43,
     "metadata": {},
     "output_type": "execute_result"
    }
   ],
   "source": [
    "eclf1.estimators"
   ]
  },
  {
   "cell_type": "code",
   "execution_count": 41,
   "metadata": {},
   "outputs": [],
   "source": [
    "y_pred_vote = eclf1.predict_proba(test.iloc[:, :5]) # 예측값의 평균으로 마지막에 산출"
   ]
  },
  {
   "cell_type": "code",
   "execution_count": 46,
   "metadata": {},
   "outputs": [
    {
     "data": {
      "text/plain": [
       "array([[0.00113591, 0.00109712, 0.00113622, ..., 0.00055586, 0.00053781,\n",
       "        0.000507  ],\n",
       "       [0.0011484 , 0.0010874 , 0.00112431, ..., 0.00050887, 0.00100015,\n",
       "        0.00051258],\n",
       "       [0.00109916, 0.00099029, 0.00136401, ..., 0.00046762, 0.00053066,\n",
       "        0.00050647],\n",
       "       ...,\n",
       "       [0.00095534, 0.00094977, 0.00092074, ..., 0.00044184, 0.00053738,\n",
       "        0.00046011],\n",
       "       [0.05109638, 0.00106991, 0.00111967, ..., 0.00046408, 0.00052065,\n",
       "        0.00055006],\n",
       "       [0.00109108, 0.00326838, 0.00103893, ..., 0.00053392, 0.00050373,\n",
       "        0.00049263]])"
      ]
     },
     "execution_count": 46,
     "metadata": {},
     "output_type": "execute_result"
    }
   ],
   "source": [
    "y_pred_vote"
   ]
  },
  {
   "cell_type": "markdown",
   "metadata": {},
   "source": [
    "## 스태킹\n",
    "평균 내기보다 확률 값별로의 가중치를 다르게 가져가서 예측"
   ]
  },
  {
   "cell_type": "code",
   "execution_count": 49,
   "metadata": {},
   "outputs": [],
   "source": [
    "from sklearn.ensemble import StackingClassifier\n",
    "from sklearn.linear_model import LogisticRegression"
   ]
  },
  {
   "cell_type": "code",
   "execution_count": 48,
   "metadata": {},
   "outputs": [],
   "source": [
    "clf1 = RandomForestClassifier(n_estimators =10, n_jobs = -1, random_state = 0)\n",
    "clf2 = lgb.LGBMClassifier(n_estimators=10, random_state = 0, learning_rate=0.03)\n",
    "# 모델선언"
   ]
  },
  {
   "cell_type": "code",
   "execution_count": 53,
   "metadata": {},
   "outputs": [],
   "source": [
    "clf = StackingClassifier(estimators=[('rf', clf1), ('lgbm', clf2)], #모델 합치기\n",
    "    final_estimator=LogisticRegression(),\n",
    "                        n_jobs = -1, \n",
    "                        stack_method = 'predict_proba',\n",
    "                        cv = 3)\n",
    "# rf랑 lgb로부터 나온 예측값에 가중치를 주어서 새로운 파이널 모델에 넣고 재학습. "
   ]
  },
  {
   "cell_type": "code",
   "execution_count": 54,
   "metadata": {},
   "outputs": [],
   "source": [
    "clf = clf.fit(X, y)"
   ]
  },
  {
   "cell_type": "code",
   "execution_count": 55,
   "metadata": {},
   "outputs": [],
   "source": [
    "y_pred_stack = clf.predict_proba(test.iloc[:, :5])"
   ]
  },
  {
   "cell_type": "code",
   "execution_count": 59,
   "metadata": {},
   "outputs": [
    {
     "data": {
      "text/plain": [
       "array([[0.00216586, 0.00210159, 0.0021522 , ..., 0.00127722, 0.00137432,\n",
       "        0.00135569],\n",
       "       [0.0020739 , 0.00215997, 0.00196321, ..., 0.00153504, 0.00146594,\n",
       "        0.00151122],\n",
       "       [0.00196064, 0.00182352, 0.00195937, ..., 0.00117609, 0.00134152,\n",
       "        0.00121692],\n",
       "       ...,\n",
       "       [0.00213839, 0.00195489, 0.00243081, ..., 0.00135868, 0.00124919,\n",
       "        0.00139169],\n",
       "       [0.00215344, 0.00206992, 0.00241268, ..., 0.00138046, 0.00138189,\n",
       "        0.00143969],\n",
       "       [0.00223416, 0.00217609, 0.00205226, ..., 0.00136906, 0.00130006,\n",
       "        0.00142649]])"
      ]
     },
     "execution_count": 59,
     "metadata": {},
     "output_type": "execute_result"
    }
   ],
   "source": [
    "y_pred_stack"
   ]
  },
  {
   "cell_type": "markdown",
   "metadata": {},
   "source": [
    "# Low Code ML"
   ]
  },
  {
   "cell_type": "code",
   "execution_count": 63,
   "metadata": {},
   "outputs": [],
   "source": [
    "train_pycaret = pd.concat([X, y], axis = 1)"
   ]
  },
  {
   "cell_type": "code",
   "execution_count": 64,
   "metadata": {},
   "outputs": [
    {
     "data": {
      "text/html": [
       "<div>\n",
       "<style scoped>\n",
       "    .dataframe tbody tr th:only-of-type {\n",
       "        vertical-align: middle;\n",
       "    }\n",
       "\n",
       "    .dataframe tbody tr th {\n",
       "        vertical-align: top;\n",
       "    }\n",
       "\n",
       "    .dataframe thead th {\n",
       "        text-align: right;\n",
       "    }\n",
       "</style>\n",
       "<table border=\"1\" class=\"dataframe\">\n",
       "  <thead>\n",
       "    <tr style=\"text-align: right;\">\n",
       "      <th></th>\n",
       "      <th>V0000</th>\n",
       "      <th>V0001</th>\n",
       "      <th>V0002</th>\n",
       "      <th>V0003</th>\n",
       "      <th>V0004</th>\n",
       "      <th>label</th>\n",
       "    </tr>\n",
       "  </thead>\n",
       "  <tbody>\n",
       "    <tr>\n",
       "      <th>0</th>\n",
       "      <td>30.474394</td>\n",
       "      <td>8.691177</td>\n",
       "      <td>8.714483</td>\n",
       "      <td>8.687399</td>\n",
       "      <td>8.721230</td>\n",
       "      <td>110</td>\n",
       "    </tr>\n",
       "    <tr>\n",
       "      <th>0</th>\n",
       "      <td>30.470463</td>\n",
       "      <td>8.736521</td>\n",
       "      <td>8.682769</td>\n",
       "      <td>8.717135</td>\n",
       "      <td>8.682402</td>\n",
       "      <td>110</td>\n",
       "    </tr>\n",
       "    <tr>\n",
       "      <th>0</th>\n",
       "      <td>30.465427</td>\n",
       "      <td>8.753559</td>\n",
       "      <td>8.663426</td>\n",
       "      <td>8.700049</td>\n",
       "      <td>8.734147</td>\n",
       "      <td>110</td>\n",
       "    </tr>\n",
       "    <tr>\n",
       "      <th>0</th>\n",
       "      <td>30.458532</td>\n",
       "      <td>8.715056</td>\n",
       "      <td>8.714854</td>\n",
       "      <td>8.717174</td>\n",
       "      <td>8.699257</td>\n",
       "      <td>110</td>\n",
       "    </tr>\n",
       "    <tr>\n",
       "      <th>0</th>\n",
       "      <td>30.475773</td>\n",
       "      <td>8.790241</td>\n",
       "      <td>8.735125</td>\n",
       "      <td>8.703167</td>\n",
       "      <td>8.721030</td>\n",
       "      <td>110</td>\n",
       "    </tr>\n",
       "  </tbody>\n",
       "</table>\n",
       "</div>"
      ],
      "text/plain": [
       "       V0000     V0001     V0002     V0003     V0004  label\n",
       "0  30.474394  8.691177  8.714483  8.687399  8.721230    110\n",
       "0  30.470463  8.736521  8.682769  8.717135  8.682402    110\n",
       "0  30.465427  8.753559  8.663426  8.700049  8.734147    110\n",
       "0  30.458532  8.715056  8.714854  8.717174  8.699257    110\n",
       "0  30.475773  8.790241  8.735125  8.703167  8.721030    110"
      ]
     },
     "execution_count": 64,
     "metadata": {},
     "output_type": "execute_result"
    }
   ],
   "source": [
    "train_pycaret.head()"
   ]
  },
  {
   "cell_type": "code",
   "execution_count": 3,
   "metadata": {},
   "outputs": [
    {
     "data": {
      "text/html": [
       "<div>\n",
       "<style scoped>\n",
       "    .dataframe tbody tr th:only-of-type {\n",
       "        vertical-align: middle;\n",
       "    }\n",
       "\n",
       "    .dataframe tbody tr th {\n",
       "        vertical-align: top;\n",
       "    }\n",
       "\n",
       "    .dataframe thead th {\n",
       "        text-align: right;\n",
       "    }\n",
       "</style>\n",
       "<table border=\"1\" class=\"dataframe\">\n",
       "  <thead>\n",
       "    <tr style=\"text-align: right;\">\n",
       "      <th></th>\n",
       "      <th>sepal_length</th>\n",
       "      <th>sepal_width</th>\n",
       "      <th>petal_length</th>\n",
       "      <th>petal_width</th>\n",
       "      <th>species</th>\n",
       "    </tr>\n",
       "  </thead>\n",
       "  <tbody>\n",
       "    <tr>\n",
       "      <th>0</th>\n",
       "      <td>5.1</td>\n",
       "      <td>3.5</td>\n",
       "      <td>1.4</td>\n",
       "      <td>0.2</td>\n",
       "      <td>Iris-setosa</td>\n",
       "    </tr>\n",
       "    <tr>\n",
       "      <th>1</th>\n",
       "      <td>4.9</td>\n",
       "      <td>3.0</td>\n",
       "      <td>1.4</td>\n",
       "      <td>0.2</td>\n",
       "      <td>Iris-setosa</td>\n",
       "    </tr>\n",
       "    <tr>\n",
       "      <th>2</th>\n",
       "      <td>4.7</td>\n",
       "      <td>3.2</td>\n",
       "      <td>1.3</td>\n",
       "      <td>0.2</td>\n",
       "      <td>Iris-setosa</td>\n",
       "    </tr>\n",
       "    <tr>\n",
       "      <th>3</th>\n",
       "      <td>4.6</td>\n",
       "      <td>3.1</td>\n",
       "      <td>1.5</td>\n",
       "      <td>0.2</td>\n",
       "      <td>Iris-setosa</td>\n",
       "    </tr>\n",
       "    <tr>\n",
       "      <th>4</th>\n",
       "      <td>5.0</td>\n",
       "      <td>3.6</td>\n",
       "      <td>1.4</td>\n",
       "      <td>0.2</td>\n",
       "      <td>Iris-setosa</td>\n",
       "    </tr>\n",
       "  </tbody>\n",
       "</table>\n",
       "</div>"
      ],
      "text/plain": [
       "   sepal_length  sepal_width  petal_length  petal_width      species\n",
       "0           5.1          3.5           1.4          0.2  Iris-setosa\n",
       "1           4.9          3.0           1.4          0.2  Iris-setosa\n",
       "2           4.7          3.2           1.3          0.2  Iris-setosa\n",
       "3           4.6          3.1           1.5          0.2  Iris-setosa\n",
       "4           5.0          3.6           1.4          0.2  Iris-setosa"
      ]
     },
     "metadata": {},
     "output_type": "display_data"
    }
   ],
   "source": [
    "from pycaret.datasets import get_data\n",
    "dataset = get_data('iris')"
   ]
  },
  {
   "cell_type": "code",
   "execution_count": 4,
   "metadata": {},
   "outputs": [],
   "source": [
    "from sklearn.model_selection import train_test_split\n",
    "\n",
    "train, test = train_test_split(dataset, test_size = 0.2, random_state = 0, shuffle = True)"
   ]
  },
  {
   "cell_type": "code",
   "execution_count": 65,
   "metadata": {},
   "outputs": [
    {
     "data": {
      "text/html": [
       "<style  type=\"text/css\" >\n",
       "</style><table id=\"T_9db3fb23_2d79_11eb_8e22_a0510bab058f\" ><thead>    <tr>        <th class=\"blank level0\" ></th>        <th class=\"col_heading level0 col0\" >Description</th>        <th class=\"col_heading level0 col1\" >Value</th>    </tr></thead><tbody>\n",
       "                <tr>\n",
       "                        <th id=\"T_9db3fb23_2d79_11eb_8e22_a0510bab058flevel0_row0\" class=\"row_heading level0 row0\" >0</th>\n",
       "                        <td id=\"T_9db3fb23_2d79_11eb_8e22_a0510bab058frow0_col0\" class=\"data row0 col0\" >session_id</td>\n",
       "                        <td id=\"T_9db3fb23_2d79_11eb_8e22_a0510bab058frow0_col1\" class=\"data row0 col1\" >0</td>\n",
       "            </tr>\n",
       "            <tr>\n",
       "                        <th id=\"T_9db3fb23_2d79_11eb_8e22_a0510bab058flevel0_row1\" class=\"row_heading level0 row1\" >1</th>\n",
       "                        <td id=\"T_9db3fb23_2d79_11eb_8e22_a0510bab058frow1_col0\" class=\"data row1 col0\" >Target</td>\n",
       "                        <td id=\"T_9db3fb23_2d79_11eb_8e22_a0510bab058frow1_col1\" class=\"data row1 col1\" >label</td>\n",
       "            </tr>\n",
       "            <tr>\n",
       "                        <th id=\"T_9db3fb23_2d79_11eb_8e22_a0510bab058flevel0_row2\" class=\"row_heading level0 row2\" >2</th>\n",
       "                        <td id=\"T_9db3fb23_2d79_11eb_8e22_a0510bab058frow2_col0\" class=\"data row2 col0\" >Target Type</td>\n",
       "                        <td id=\"T_9db3fb23_2d79_11eb_8e22_a0510bab058frow2_col1\" class=\"data row2 col1\" >Multiclass</td>\n",
       "            </tr>\n",
       "            <tr>\n",
       "                        <th id=\"T_9db3fb23_2d79_11eb_8e22_a0510bab058flevel0_row3\" class=\"row_heading level0 row3\" >3</th>\n",
       "                        <td id=\"T_9db3fb23_2d79_11eb_8e22_a0510bab058frow3_col0\" class=\"data row3 col0\" >Label Encoded</td>\n",
       "                        <td id=\"T_9db3fb23_2d79_11eb_8e22_a0510bab058frow3_col1\" class=\"data row3 col1\" >None</td>\n",
       "            </tr>\n",
       "            <tr>\n",
       "                        <th id=\"T_9db3fb23_2d79_11eb_8e22_a0510bab058flevel0_row4\" class=\"row_heading level0 row4\" >4</th>\n",
       "                        <td id=\"T_9db3fb23_2d79_11eb_8e22_a0510bab058frow4_col0\" class=\"data row4 col0\" >Original Data</td>\n",
       "                        <td id=\"T_9db3fb23_2d79_11eb_8e22_a0510bab058frow4_col1\" class=\"data row4 col1\" >(24810, 6)</td>\n",
       "            </tr>\n",
       "            <tr>\n",
       "                        <th id=\"T_9db3fb23_2d79_11eb_8e22_a0510bab058flevel0_row5\" class=\"row_heading level0 row5\" >5</th>\n",
       "                        <td id=\"T_9db3fb23_2d79_11eb_8e22_a0510bab058frow5_col0\" class=\"data row5 col0\" >Missing Values</td>\n",
       "                        <td id=\"T_9db3fb23_2d79_11eb_8e22_a0510bab058frow5_col1\" class=\"data row5 col1\" >False</td>\n",
       "            </tr>\n",
       "            <tr>\n",
       "                        <th id=\"T_9db3fb23_2d79_11eb_8e22_a0510bab058flevel0_row6\" class=\"row_heading level0 row6\" >6</th>\n",
       "                        <td id=\"T_9db3fb23_2d79_11eb_8e22_a0510bab058frow6_col0\" class=\"data row6 col0\" >Numeric Features</td>\n",
       "                        <td id=\"T_9db3fb23_2d79_11eb_8e22_a0510bab058frow6_col1\" class=\"data row6 col1\" >5</td>\n",
       "            </tr>\n",
       "            <tr>\n",
       "                        <th id=\"T_9db3fb23_2d79_11eb_8e22_a0510bab058flevel0_row7\" class=\"row_heading level0 row7\" >7</th>\n",
       "                        <td id=\"T_9db3fb23_2d79_11eb_8e22_a0510bab058frow7_col0\" class=\"data row7 col0\" >Categorical Features</td>\n",
       "                        <td id=\"T_9db3fb23_2d79_11eb_8e22_a0510bab058frow7_col1\" class=\"data row7 col1\" >0</td>\n",
       "            </tr>\n",
       "            <tr>\n",
       "                        <th id=\"T_9db3fb23_2d79_11eb_8e22_a0510bab058flevel0_row8\" class=\"row_heading level0 row8\" >8</th>\n",
       "                        <td id=\"T_9db3fb23_2d79_11eb_8e22_a0510bab058frow8_col0\" class=\"data row8 col0\" >Ordinal Features</td>\n",
       "                        <td id=\"T_9db3fb23_2d79_11eb_8e22_a0510bab058frow8_col1\" class=\"data row8 col1\" >False</td>\n",
       "            </tr>\n",
       "            <tr>\n",
       "                        <th id=\"T_9db3fb23_2d79_11eb_8e22_a0510bab058flevel0_row9\" class=\"row_heading level0 row9\" >9</th>\n",
       "                        <td id=\"T_9db3fb23_2d79_11eb_8e22_a0510bab058frow9_col0\" class=\"data row9 col0\" >High Cardinality Features</td>\n",
       "                        <td id=\"T_9db3fb23_2d79_11eb_8e22_a0510bab058frow9_col1\" class=\"data row9 col1\" >False</td>\n",
       "            </tr>\n",
       "            <tr>\n",
       "                        <th id=\"T_9db3fb23_2d79_11eb_8e22_a0510bab058flevel0_row10\" class=\"row_heading level0 row10\" >10</th>\n",
       "                        <td id=\"T_9db3fb23_2d79_11eb_8e22_a0510bab058frow10_col0\" class=\"data row10 col0\" >High Cardinality Method</td>\n",
       "                        <td id=\"T_9db3fb23_2d79_11eb_8e22_a0510bab058frow10_col1\" class=\"data row10 col1\" >None</td>\n",
       "            </tr>\n",
       "            <tr>\n",
       "                        <th id=\"T_9db3fb23_2d79_11eb_8e22_a0510bab058flevel0_row11\" class=\"row_heading level0 row11\" >11</th>\n",
       "                        <td id=\"T_9db3fb23_2d79_11eb_8e22_a0510bab058frow11_col0\" class=\"data row11 col0\" >Transformed Train Set</td>\n",
       "                        <td id=\"T_9db3fb23_2d79_11eb_8e22_a0510bab058frow11_col1\" class=\"data row11 col1\" >(17366, 5)</td>\n",
       "            </tr>\n",
       "            <tr>\n",
       "                        <th id=\"T_9db3fb23_2d79_11eb_8e22_a0510bab058flevel0_row12\" class=\"row_heading level0 row12\" >12</th>\n",
       "                        <td id=\"T_9db3fb23_2d79_11eb_8e22_a0510bab058frow12_col0\" class=\"data row12 col0\" >Transformed Test Set</td>\n",
       "                        <td id=\"T_9db3fb23_2d79_11eb_8e22_a0510bab058frow12_col1\" class=\"data row12 col1\" >(7444, 5)</td>\n",
       "            </tr>\n",
       "            <tr>\n",
       "                        <th id=\"T_9db3fb23_2d79_11eb_8e22_a0510bab058flevel0_row13\" class=\"row_heading level0 row13\" >13</th>\n",
       "                        <td id=\"T_9db3fb23_2d79_11eb_8e22_a0510bab058frow13_col0\" class=\"data row13 col0\" >Shuffle Train-Test</td>\n",
       "                        <td id=\"T_9db3fb23_2d79_11eb_8e22_a0510bab058frow13_col1\" class=\"data row13 col1\" >True</td>\n",
       "            </tr>\n",
       "            <tr>\n",
       "                        <th id=\"T_9db3fb23_2d79_11eb_8e22_a0510bab058flevel0_row14\" class=\"row_heading level0 row14\" >14</th>\n",
       "                        <td id=\"T_9db3fb23_2d79_11eb_8e22_a0510bab058frow14_col0\" class=\"data row14 col0\" >Stratify Train-Test</td>\n",
       "                        <td id=\"T_9db3fb23_2d79_11eb_8e22_a0510bab058frow14_col1\" class=\"data row14 col1\" >False</td>\n",
       "            </tr>\n",
       "            <tr>\n",
       "                        <th id=\"T_9db3fb23_2d79_11eb_8e22_a0510bab058flevel0_row15\" class=\"row_heading level0 row15\" >15</th>\n",
       "                        <td id=\"T_9db3fb23_2d79_11eb_8e22_a0510bab058frow15_col0\" class=\"data row15 col0\" >Fold Generator</td>\n",
       "                        <td id=\"T_9db3fb23_2d79_11eb_8e22_a0510bab058frow15_col1\" class=\"data row15 col1\" >StratifiedKFold</td>\n",
       "            </tr>\n",
       "            <tr>\n",
       "                        <th id=\"T_9db3fb23_2d79_11eb_8e22_a0510bab058flevel0_row16\" class=\"row_heading level0 row16\" >16</th>\n",
       "                        <td id=\"T_9db3fb23_2d79_11eb_8e22_a0510bab058frow16_col0\" class=\"data row16 col0\" >Fold Number</td>\n",
       "                        <td id=\"T_9db3fb23_2d79_11eb_8e22_a0510bab058frow16_col1\" class=\"data row16 col1\" >10</td>\n",
       "            </tr>\n",
       "            <tr>\n",
       "                        <th id=\"T_9db3fb23_2d79_11eb_8e22_a0510bab058flevel0_row17\" class=\"row_heading level0 row17\" >17</th>\n",
       "                        <td id=\"T_9db3fb23_2d79_11eb_8e22_a0510bab058frow17_col0\" class=\"data row17 col0\" >CPU Jobs</td>\n",
       "                        <td id=\"T_9db3fb23_2d79_11eb_8e22_a0510bab058frow17_col1\" class=\"data row17 col1\" >-1</td>\n",
       "            </tr>\n",
       "            <tr>\n",
       "                        <th id=\"T_9db3fb23_2d79_11eb_8e22_a0510bab058flevel0_row18\" class=\"row_heading level0 row18\" >18</th>\n",
       "                        <td id=\"T_9db3fb23_2d79_11eb_8e22_a0510bab058frow18_col0\" class=\"data row18 col0\" >Use GPU</td>\n",
       "                        <td id=\"T_9db3fb23_2d79_11eb_8e22_a0510bab058frow18_col1\" class=\"data row18 col1\" >False</td>\n",
       "            </tr>\n",
       "            <tr>\n",
       "                        <th id=\"T_9db3fb23_2d79_11eb_8e22_a0510bab058flevel0_row19\" class=\"row_heading level0 row19\" >19</th>\n",
       "                        <td id=\"T_9db3fb23_2d79_11eb_8e22_a0510bab058frow19_col0\" class=\"data row19 col0\" >Log Experiment</td>\n",
       "                        <td id=\"T_9db3fb23_2d79_11eb_8e22_a0510bab058frow19_col1\" class=\"data row19 col1\" >False</td>\n",
       "            </tr>\n",
       "            <tr>\n",
       "                        <th id=\"T_9db3fb23_2d79_11eb_8e22_a0510bab058flevel0_row20\" class=\"row_heading level0 row20\" >20</th>\n",
       "                        <td id=\"T_9db3fb23_2d79_11eb_8e22_a0510bab058frow20_col0\" class=\"data row20 col0\" >Experiment Name</td>\n",
       "                        <td id=\"T_9db3fb23_2d79_11eb_8e22_a0510bab058frow20_col1\" class=\"data row20 col1\" >clf-default-name</td>\n",
       "            </tr>\n",
       "            <tr>\n",
       "                        <th id=\"T_9db3fb23_2d79_11eb_8e22_a0510bab058flevel0_row21\" class=\"row_heading level0 row21\" >21</th>\n",
       "                        <td id=\"T_9db3fb23_2d79_11eb_8e22_a0510bab058frow21_col0\" class=\"data row21 col0\" >USI</td>\n",
       "                        <td id=\"T_9db3fb23_2d79_11eb_8e22_a0510bab058frow21_col1\" class=\"data row21 col1\" >5e02</td>\n",
       "            </tr>\n",
       "            <tr>\n",
       "                        <th id=\"T_9db3fb23_2d79_11eb_8e22_a0510bab058flevel0_row22\" class=\"row_heading level0 row22\" >22</th>\n",
       "                        <td id=\"T_9db3fb23_2d79_11eb_8e22_a0510bab058frow22_col0\" class=\"data row22 col0\" >Imputation Type</td>\n",
       "                        <td id=\"T_9db3fb23_2d79_11eb_8e22_a0510bab058frow22_col1\" class=\"data row22 col1\" >simple</td>\n",
       "            </tr>\n",
       "            <tr>\n",
       "                        <th id=\"T_9db3fb23_2d79_11eb_8e22_a0510bab058flevel0_row23\" class=\"row_heading level0 row23\" >23</th>\n",
       "                        <td id=\"T_9db3fb23_2d79_11eb_8e22_a0510bab058frow23_col0\" class=\"data row23 col0\" >Iterative Imputation Iteration</td>\n",
       "                        <td id=\"T_9db3fb23_2d79_11eb_8e22_a0510bab058frow23_col1\" class=\"data row23 col1\" >None</td>\n",
       "            </tr>\n",
       "            <tr>\n",
       "                        <th id=\"T_9db3fb23_2d79_11eb_8e22_a0510bab058flevel0_row24\" class=\"row_heading level0 row24\" >24</th>\n",
       "                        <td id=\"T_9db3fb23_2d79_11eb_8e22_a0510bab058frow24_col0\" class=\"data row24 col0\" >Numeric Imputer</td>\n",
       "                        <td id=\"T_9db3fb23_2d79_11eb_8e22_a0510bab058frow24_col1\" class=\"data row24 col1\" >mean</td>\n",
       "            </tr>\n",
       "            <tr>\n",
       "                        <th id=\"T_9db3fb23_2d79_11eb_8e22_a0510bab058flevel0_row25\" class=\"row_heading level0 row25\" >25</th>\n",
       "                        <td id=\"T_9db3fb23_2d79_11eb_8e22_a0510bab058frow25_col0\" class=\"data row25 col0\" >Iterative Imputation Numeric Model</td>\n",
       "                        <td id=\"T_9db3fb23_2d79_11eb_8e22_a0510bab058frow25_col1\" class=\"data row25 col1\" >None</td>\n",
       "            </tr>\n",
       "            <tr>\n",
       "                        <th id=\"T_9db3fb23_2d79_11eb_8e22_a0510bab058flevel0_row26\" class=\"row_heading level0 row26\" >26</th>\n",
       "                        <td id=\"T_9db3fb23_2d79_11eb_8e22_a0510bab058frow26_col0\" class=\"data row26 col0\" >Categorical Imputer</td>\n",
       "                        <td id=\"T_9db3fb23_2d79_11eb_8e22_a0510bab058frow26_col1\" class=\"data row26 col1\" >constant</td>\n",
       "            </tr>\n",
       "            <tr>\n",
       "                        <th id=\"T_9db3fb23_2d79_11eb_8e22_a0510bab058flevel0_row27\" class=\"row_heading level0 row27\" >27</th>\n",
       "                        <td id=\"T_9db3fb23_2d79_11eb_8e22_a0510bab058frow27_col0\" class=\"data row27 col0\" >Iterative Imputation Categorical Model</td>\n",
       "                        <td id=\"T_9db3fb23_2d79_11eb_8e22_a0510bab058frow27_col1\" class=\"data row27 col1\" >None</td>\n",
       "            </tr>\n",
       "            <tr>\n",
       "                        <th id=\"T_9db3fb23_2d79_11eb_8e22_a0510bab058flevel0_row28\" class=\"row_heading level0 row28\" >28</th>\n",
       "                        <td id=\"T_9db3fb23_2d79_11eb_8e22_a0510bab058frow28_col0\" class=\"data row28 col0\" >Unknown Categoricals Handling</td>\n",
       "                        <td id=\"T_9db3fb23_2d79_11eb_8e22_a0510bab058frow28_col1\" class=\"data row28 col1\" >least_frequent</td>\n",
       "            </tr>\n",
       "            <tr>\n",
       "                        <th id=\"T_9db3fb23_2d79_11eb_8e22_a0510bab058flevel0_row29\" class=\"row_heading level0 row29\" >29</th>\n",
       "                        <td id=\"T_9db3fb23_2d79_11eb_8e22_a0510bab058frow29_col0\" class=\"data row29 col0\" >Normalize</td>\n",
       "                        <td id=\"T_9db3fb23_2d79_11eb_8e22_a0510bab058frow29_col1\" class=\"data row29 col1\" >False</td>\n",
       "            </tr>\n",
       "            <tr>\n",
       "                        <th id=\"T_9db3fb23_2d79_11eb_8e22_a0510bab058flevel0_row30\" class=\"row_heading level0 row30\" >30</th>\n",
       "                        <td id=\"T_9db3fb23_2d79_11eb_8e22_a0510bab058frow30_col0\" class=\"data row30 col0\" >Normalize Method</td>\n",
       "                        <td id=\"T_9db3fb23_2d79_11eb_8e22_a0510bab058frow30_col1\" class=\"data row30 col1\" >None</td>\n",
       "            </tr>\n",
       "            <tr>\n",
       "                        <th id=\"T_9db3fb23_2d79_11eb_8e22_a0510bab058flevel0_row31\" class=\"row_heading level0 row31\" >31</th>\n",
       "                        <td id=\"T_9db3fb23_2d79_11eb_8e22_a0510bab058frow31_col0\" class=\"data row31 col0\" >Transformation</td>\n",
       "                        <td id=\"T_9db3fb23_2d79_11eb_8e22_a0510bab058frow31_col1\" class=\"data row31 col1\" >False</td>\n",
       "            </tr>\n",
       "            <tr>\n",
       "                        <th id=\"T_9db3fb23_2d79_11eb_8e22_a0510bab058flevel0_row32\" class=\"row_heading level0 row32\" >32</th>\n",
       "                        <td id=\"T_9db3fb23_2d79_11eb_8e22_a0510bab058frow32_col0\" class=\"data row32 col0\" >Transformation Method</td>\n",
       "                        <td id=\"T_9db3fb23_2d79_11eb_8e22_a0510bab058frow32_col1\" class=\"data row32 col1\" >None</td>\n",
       "            </tr>\n",
       "            <tr>\n",
       "                        <th id=\"T_9db3fb23_2d79_11eb_8e22_a0510bab058flevel0_row33\" class=\"row_heading level0 row33\" >33</th>\n",
       "                        <td id=\"T_9db3fb23_2d79_11eb_8e22_a0510bab058frow33_col0\" class=\"data row33 col0\" >PCA</td>\n",
       "                        <td id=\"T_9db3fb23_2d79_11eb_8e22_a0510bab058frow33_col1\" class=\"data row33 col1\" >False</td>\n",
       "            </tr>\n",
       "            <tr>\n",
       "                        <th id=\"T_9db3fb23_2d79_11eb_8e22_a0510bab058flevel0_row34\" class=\"row_heading level0 row34\" >34</th>\n",
       "                        <td id=\"T_9db3fb23_2d79_11eb_8e22_a0510bab058frow34_col0\" class=\"data row34 col0\" >PCA Method</td>\n",
       "                        <td id=\"T_9db3fb23_2d79_11eb_8e22_a0510bab058frow34_col1\" class=\"data row34 col1\" >None</td>\n",
       "            </tr>\n",
       "            <tr>\n",
       "                        <th id=\"T_9db3fb23_2d79_11eb_8e22_a0510bab058flevel0_row35\" class=\"row_heading level0 row35\" >35</th>\n",
       "                        <td id=\"T_9db3fb23_2d79_11eb_8e22_a0510bab058frow35_col0\" class=\"data row35 col0\" >PCA Components</td>\n",
       "                        <td id=\"T_9db3fb23_2d79_11eb_8e22_a0510bab058frow35_col1\" class=\"data row35 col1\" >None</td>\n",
       "            </tr>\n",
       "            <tr>\n",
       "                        <th id=\"T_9db3fb23_2d79_11eb_8e22_a0510bab058flevel0_row36\" class=\"row_heading level0 row36\" >36</th>\n",
       "                        <td id=\"T_9db3fb23_2d79_11eb_8e22_a0510bab058frow36_col0\" class=\"data row36 col0\" >Ignore Low Variance</td>\n",
       "                        <td id=\"T_9db3fb23_2d79_11eb_8e22_a0510bab058frow36_col1\" class=\"data row36 col1\" >False</td>\n",
       "            </tr>\n",
       "            <tr>\n",
       "                        <th id=\"T_9db3fb23_2d79_11eb_8e22_a0510bab058flevel0_row37\" class=\"row_heading level0 row37\" >37</th>\n",
       "                        <td id=\"T_9db3fb23_2d79_11eb_8e22_a0510bab058frow37_col0\" class=\"data row37 col0\" >Combine Rare Levels</td>\n",
       "                        <td id=\"T_9db3fb23_2d79_11eb_8e22_a0510bab058frow37_col1\" class=\"data row37 col1\" >False</td>\n",
       "            </tr>\n",
       "            <tr>\n",
       "                        <th id=\"T_9db3fb23_2d79_11eb_8e22_a0510bab058flevel0_row38\" class=\"row_heading level0 row38\" >38</th>\n",
       "                        <td id=\"T_9db3fb23_2d79_11eb_8e22_a0510bab058frow38_col0\" class=\"data row38 col0\" >Rare Level Threshold</td>\n",
       "                        <td id=\"T_9db3fb23_2d79_11eb_8e22_a0510bab058frow38_col1\" class=\"data row38 col1\" >None</td>\n",
       "            </tr>\n",
       "            <tr>\n",
       "                        <th id=\"T_9db3fb23_2d79_11eb_8e22_a0510bab058flevel0_row39\" class=\"row_heading level0 row39\" >39</th>\n",
       "                        <td id=\"T_9db3fb23_2d79_11eb_8e22_a0510bab058frow39_col0\" class=\"data row39 col0\" >Numeric Binning</td>\n",
       "                        <td id=\"T_9db3fb23_2d79_11eb_8e22_a0510bab058frow39_col1\" class=\"data row39 col1\" >False</td>\n",
       "            </tr>\n",
       "            <tr>\n",
       "                        <th id=\"T_9db3fb23_2d79_11eb_8e22_a0510bab058flevel0_row40\" class=\"row_heading level0 row40\" >40</th>\n",
       "                        <td id=\"T_9db3fb23_2d79_11eb_8e22_a0510bab058frow40_col0\" class=\"data row40 col0\" >Remove Outliers</td>\n",
       "                        <td id=\"T_9db3fb23_2d79_11eb_8e22_a0510bab058frow40_col1\" class=\"data row40 col1\" >False</td>\n",
       "            </tr>\n",
       "            <tr>\n",
       "                        <th id=\"T_9db3fb23_2d79_11eb_8e22_a0510bab058flevel0_row41\" class=\"row_heading level0 row41\" >41</th>\n",
       "                        <td id=\"T_9db3fb23_2d79_11eb_8e22_a0510bab058frow41_col0\" class=\"data row41 col0\" >Outliers Threshold</td>\n",
       "                        <td id=\"T_9db3fb23_2d79_11eb_8e22_a0510bab058frow41_col1\" class=\"data row41 col1\" >None</td>\n",
       "            </tr>\n",
       "            <tr>\n",
       "                        <th id=\"T_9db3fb23_2d79_11eb_8e22_a0510bab058flevel0_row42\" class=\"row_heading level0 row42\" >42</th>\n",
       "                        <td id=\"T_9db3fb23_2d79_11eb_8e22_a0510bab058frow42_col0\" class=\"data row42 col0\" >Remove Multicollinearity</td>\n",
       "                        <td id=\"T_9db3fb23_2d79_11eb_8e22_a0510bab058frow42_col1\" class=\"data row42 col1\" >False</td>\n",
       "            </tr>\n",
       "            <tr>\n",
       "                        <th id=\"T_9db3fb23_2d79_11eb_8e22_a0510bab058flevel0_row43\" class=\"row_heading level0 row43\" >43</th>\n",
       "                        <td id=\"T_9db3fb23_2d79_11eb_8e22_a0510bab058frow43_col0\" class=\"data row43 col0\" >Multicollinearity Threshold</td>\n",
       "                        <td id=\"T_9db3fb23_2d79_11eb_8e22_a0510bab058frow43_col1\" class=\"data row43 col1\" >None</td>\n",
       "            </tr>\n",
       "            <tr>\n",
       "                        <th id=\"T_9db3fb23_2d79_11eb_8e22_a0510bab058flevel0_row44\" class=\"row_heading level0 row44\" >44</th>\n",
       "                        <td id=\"T_9db3fb23_2d79_11eb_8e22_a0510bab058frow44_col0\" class=\"data row44 col0\" >Clustering</td>\n",
       "                        <td id=\"T_9db3fb23_2d79_11eb_8e22_a0510bab058frow44_col1\" class=\"data row44 col1\" >False</td>\n",
       "            </tr>\n",
       "            <tr>\n",
       "                        <th id=\"T_9db3fb23_2d79_11eb_8e22_a0510bab058flevel0_row45\" class=\"row_heading level0 row45\" >45</th>\n",
       "                        <td id=\"T_9db3fb23_2d79_11eb_8e22_a0510bab058frow45_col0\" class=\"data row45 col0\" >Clustering Iteration</td>\n",
       "                        <td id=\"T_9db3fb23_2d79_11eb_8e22_a0510bab058frow45_col1\" class=\"data row45 col1\" >None</td>\n",
       "            </tr>\n",
       "            <tr>\n",
       "                        <th id=\"T_9db3fb23_2d79_11eb_8e22_a0510bab058flevel0_row46\" class=\"row_heading level0 row46\" >46</th>\n",
       "                        <td id=\"T_9db3fb23_2d79_11eb_8e22_a0510bab058frow46_col0\" class=\"data row46 col0\" >Polynomial Features</td>\n",
       "                        <td id=\"T_9db3fb23_2d79_11eb_8e22_a0510bab058frow46_col1\" class=\"data row46 col1\" >False</td>\n",
       "            </tr>\n",
       "            <tr>\n",
       "                        <th id=\"T_9db3fb23_2d79_11eb_8e22_a0510bab058flevel0_row47\" class=\"row_heading level0 row47\" >47</th>\n",
       "                        <td id=\"T_9db3fb23_2d79_11eb_8e22_a0510bab058frow47_col0\" class=\"data row47 col0\" >Polynomial Degree</td>\n",
       "                        <td id=\"T_9db3fb23_2d79_11eb_8e22_a0510bab058frow47_col1\" class=\"data row47 col1\" >None</td>\n",
       "            </tr>\n",
       "            <tr>\n",
       "                        <th id=\"T_9db3fb23_2d79_11eb_8e22_a0510bab058flevel0_row48\" class=\"row_heading level0 row48\" >48</th>\n",
       "                        <td id=\"T_9db3fb23_2d79_11eb_8e22_a0510bab058frow48_col0\" class=\"data row48 col0\" >Trignometry Features</td>\n",
       "                        <td id=\"T_9db3fb23_2d79_11eb_8e22_a0510bab058frow48_col1\" class=\"data row48 col1\" >False</td>\n",
       "            </tr>\n",
       "            <tr>\n",
       "                        <th id=\"T_9db3fb23_2d79_11eb_8e22_a0510bab058flevel0_row49\" class=\"row_heading level0 row49\" >49</th>\n",
       "                        <td id=\"T_9db3fb23_2d79_11eb_8e22_a0510bab058frow49_col0\" class=\"data row49 col0\" >Polynomial Threshold</td>\n",
       "                        <td id=\"T_9db3fb23_2d79_11eb_8e22_a0510bab058frow49_col1\" class=\"data row49 col1\" >None</td>\n",
       "            </tr>\n",
       "            <tr>\n",
       "                        <th id=\"T_9db3fb23_2d79_11eb_8e22_a0510bab058flevel0_row50\" class=\"row_heading level0 row50\" >50</th>\n",
       "                        <td id=\"T_9db3fb23_2d79_11eb_8e22_a0510bab058frow50_col0\" class=\"data row50 col0\" >Group Features</td>\n",
       "                        <td id=\"T_9db3fb23_2d79_11eb_8e22_a0510bab058frow50_col1\" class=\"data row50 col1\" >False</td>\n",
       "            </tr>\n",
       "            <tr>\n",
       "                        <th id=\"T_9db3fb23_2d79_11eb_8e22_a0510bab058flevel0_row51\" class=\"row_heading level0 row51\" >51</th>\n",
       "                        <td id=\"T_9db3fb23_2d79_11eb_8e22_a0510bab058frow51_col0\" class=\"data row51 col0\" >Feature Selection</td>\n",
       "                        <td id=\"T_9db3fb23_2d79_11eb_8e22_a0510bab058frow51_col1\" class=\"data row51 col1\" >False</td>\n",
       "            </tr>\n",
       "            <tr>\n",
       "                        <th id=\"T_9db3fb23_2d79_11eb_8e22_a0510bab058flevel0_row52\" class=\"row_heading level0 row52\" >52</th>\n",
       "                        <td id=\"T_9db3fb23_2d79_11eb_8e22_a0510bab058frow52_col0\" class=\"data row52 col0\" >Features Selection Threshold</td>\n",
       "                        <td id=\"T_9db3fb23_2d79_11eb_8e22_a0510bab058frow52_col1\" class=\"data row52 col1\" >None</td>\n",
       "            </tr>\n",
       "            <tr>\n",
       "                        <th id=\"T_9db3fb23_2d79_11eb_8e22_a0510bab058flevel0_row53\" class=\"row_heading level0 row53\" >53</th>\n",
       "                        <td id=\"T_9db3fb23_2d79_11eb_8e22_a0510bab058frow53_col0\" class=\"data row53 col0\" >Feature Interaction</td>\n",
       "                        <td id=\"T_9db3fb23_2d79_11eb_8e22_a0510bab058frow53_col1\" class=\"data row53 col1\" >False</td>\n",
       "            </tr>\n",
       "            <tr>\n",
       "                        <th id=\"T_9db3fb23_2d79_11eb_8e22_a0510bab058flevel0_row54\" class=\"row_heading level0 row54\" >54</th>\n",
       "                        <td id=\"T_9db3fb23_2d79_11eb_8e22_a0510bab058frow54_col0\" class=\"data row54 col0\" >Feature Ratio</td>\n",
       "                        <td id=\"T_9db3fb23_2d79_11eb_8e22_a0510bab058frow54_col1\" class=\"data row54 col1\" >False</td>\n",
       "            </tr>\n",
       "            <tr>\n",
       "                        <th id=\"T_9db3fb23_2d79_11eb_8e22_a0510bab058flevel0_row55\" class=\"row_heading level0 row55\" >55</th>\n",
       "                        <td id=\"T_9db3fb23_2d79_11eb_8e22_a0510bab058frow55_col0\" class=\"data row55 col0\" >Interaction Threshold</td>\n",
       "                        <td id=\"T_9db3fb23_2d79_11eb_8e22_a0510bab058frow55_col1\" class=\"data row55 col1\" >None</td>\n",
       "            </tr>\n",
       "            <tr>\n",
       "                        <th id=\"T_9db3fb23_2d79_11eb_8e22_a0510bab058flevel0_row56\" class=\"row_heading level0 row56\" >56</th>\n",
       "                        <td id=\"T_9db3fb23_2d79_11eb_8e22_a0510bab058frow56_col0\" class=\"data row56 col0\" >Fix Imbalance</td>\n",
       "                        <td id=\"T_9db3fb23_2d79_11eb_8e22_a0510bab058frow56_col1\" class=\"data row56 col1\" >False</td>\n",
       "            </tr>\n",
       "            <tr>\n",
       "                        <th id=\"T_9db3fb23_2d79_11eb_8e22_a0510bab058flevel0_row57\" class=\"row_heading level0 row57\" >57</th>\n",
       "                        <td id=\"T_9db3fb23_2d79_11eb_8e22_a0510bab058frow57_col0\" class=\"data row57 col0\" >Fix Imbalance Method</td>\n",
       "                        <td id=\"T_9db3fb23_2d79_11eb_8e22_a0510bab058frow57_col1\" class=\"data row57 col1\" >SMOTE</td>\n",
       "            </tr>\n",
       "    </tbody></table>"
      ],
      "text/plain": [
       "<pandas.io.formats.style.Styler at 0x2315261fa60>"
      ]
     },
     "metadata": {},
     "output_type": "display_data"
    }
   ],
   "source": [
    "from pycaret.classification import *\n",
    "clf = setup(data = train_pycaret, target = 'label', session_id=0)"
   ]
  },
  {
   "cell_type": "code",
   "execution_count": null,
   "metadata": {},
   "outputs": [
    {
     "data": {
      "application/vnd.jupyter.widget-view+json": {
       "model_id": "3a836e81a4fb43f080096a367689e7d3",
       "version_major": 2,
       "version_minor": 0
      },
      "text/plain": [
       "IntProgress(value=0, description='Processing: ', max=19)"
      ]
     },
     "metadata": {},
     "output_type": "display_data"
    },
    {
     "data": {
      "text/html": [
       "<div>\n",
       "<style scoped>\n",
       "    .dataframe tbody tr th:only-of-type {\n",
       "        vertical-align: middle;\n",
       "    }\n",
       "\n",
       "    .dataframe tbody tr th {\n",
       "        vertical-align: top;\n",
       "    }\n",
       "\n",
       "    .dataframe thead th {\n",
       "        text-align: right;\n",
       "    }\n",
       "</style>\n",
       "<table border=\"1\" class=\"dataframe\">\n",
       "  <thead>\n",
       "    <tr style=\"text-align: right;\">\n",
       "      <th></th>\n",
       "      <th></th>\n",
       "      <th></th>\n",
       "    </tr>\n",
       "    <tr>\n",
       "      <th></th>\n",
       "      <th></th>\n",
       "      <th></th>\n",
       "    </tr>\n",
       "  </thead>\n",
       "  <tbody>\n",
       "    <tr>\n",
       "      <th>Initiated</th>\n",
       "      <td>. . . . . . . . . . . . . . . . . .</td>\n",
       "      <td>19:50:10</td>\n",
       "    </tr>\n",
       "    <tr>\n",
       "      <th>Status</th>\n",
       "      <td>. . . . . . . . . . . . . . . . . .</td>\n",
       "      <td>Fitting 10 Folds</td>\n",
       "    </tr>\n",
       "    <tr>\n",
       "      <th>Estimator</th>\n",
       "      <td>. . . . . . . . . . . . . . . . . .</td>\n",
       "      <td>Light Gradient Boosting Machine</td>\n",
       "    </tr>\n",
       "  </tbody>\n",
       "</table>\n",
       "</div>"
      ],
      "text/plain": [
       "                                                \\\n",
       "                                                 \n",
       "Initiated  . . . . . . . . . . . . . . . . . .   \n",
       "Status     . . . . . . . . . . . . . . . . . .   \n",
       "Estimator  . . . . . . . . . . . . . . . . . .   \n",
       "\n",
       "                                            \n",
       "                                            \n",
       "Initiated                         19:50:10  \n",
       "Status                    Fitting 10 Folds  \n",
       "Estimator  Light Gradient Boosting Machine  "
      ]
     },
     "metadata": {},
     "output_type": "display_data"
    },
    {
     "data": {
      "text/html": [
       "<style  type=\"text/css\" >\n",
       "    #T_000892b8_2d7a_11eb_bb62_a0510bab058f th {\n",
       "          text-align: left;\n",
       "    }    #T_000892b8_2d7a_11eb_bb62_a0510bab058frow0_col0 {\n",
       "            text-align:  left;\n",
       "        }    #T_000892b8_2d7a_11eb_bb62_a0510bab058frow0_col1 {\n",
       "            text-align:  left;\n",
       "        }    #T_000892b8_2d7a_11eb_bb62_a0510bab058frow0_col2 {\n",
       "            text-align:  left;\n",
       "        }    #T_000892b8_2d7a_11eb_bb62_a0510bab058frow0_col3 {\n",
       "            text-align:  left;\n",
       "        }    #T_000892b8_2d7a_11eb_bb62_a0510bab058frow0_col4 {\n",
       "            text-align:  left;\n",
       "        }    #T_000892b8_2d7a_11eb_bb62_a0510bab058frow0_col5 {\n",
       "            text-align:  left;\n",
       "        }    #T_000892b8_2d7a_11eb_bb62_a0510bab058frow0_col6 {\n",
       "            text-align:  left;\n",
       "        }    #T_000892b8_2d7a_11eb_bb62_a0510bab058frow0_col7 {\n",
       "            text-align:  left;\n",
       "        }    #T_000892b8_2d7a_11eb_bb62_a0510bab058frow0_col8 {\n",
       "            text-align:  left;\n",
       "        }</style><table id=\"T_000892b8_2d7a_11eb_bb62_a0510bab058f\" ><thead>    <tr>        <th class=\"blank level0\" ></th>        <th class=\"col_heading level0 col0\" >Model</th>        <th class=\"col_heading level0 col1\" >Accuracy</th>        <th class=\"col_heading level0 col2\" >AUC</th>        <th class=\"col_heading level0 col3\" >Recall</th>        <th class=\"col_heading level0 col4\" >Prec.</th>        <th class=\"col_heading level0 col5\" >F1</th>        <th class=\"col_heading level0 col6\" >Kappa</th>        <th class=\"col_heading level0 col7\" >MCC</th>        <th class=\"col_heading level0 col8\" >TT (Sec)</th>    </tr></thead><tbody>\n",
       "                <tr>\n",
       "                        <th id=\"T_000892b8_2d7a_11eb_bb62_a0510bab058flevel0_row0\" class=\"row_heading level0 row0\" >rf</th>\n",
       "                        <td id=\"T_000892b8_2d7a_11eb_bb62_a0510bab058frow0_col0\" class=\"data row0 col0\" >Random Forest Classifier</td>\n",
       "                        <td id=\"T_000892b8_2d7a_11eb_bb62_a0510bab058frow0_col1\" class=\"data row0 col1\" >0.0228</td>\n",
       "                        <td id=\"T_000892b8_2d7a_11eb_bb62_a0510bab058frow0_col2\" class=\"data row0 col2\" >0.1177</td>\n",
       "                        <td id=\"T_000892b8_2d7a_11eb_bb62_a0510bab058frow0_col3\" class=\"data row0 col3\" >0.0139</td>\n",
       "                        <td id=\"T_000892b8_2d7a_11eb_bb62_a0510bab058frow0_col4\" class=\"data row0 col4\" >0.0210</td>\n",
       "                        <td id=\"T_000892b8_2d7a_11eb_bb62_a0510bab058frow0_col5\" class=\"data row0 col5\" >0.0215</td>\n",
       "                        <td id=\"T_000892b8_2d7a_11eb_bb62_a0510bab058frow0_col6\" class=\"data row0 col6\" >0.0201</td>\n",
       "                        <td id=\"T_000892b8_2d7a_11eb_bb62_a0510bab058frow0_col7\" class=\"data row0 col7\" >0.0202</td>\n",
       "                        <td id=\"T_000892b8_2d7a_11eb_bb62_a0510bab058frow0_col8\" class=\"data row0 col8\" >6.9370</td>\n",
       "            </tr>\n",
       "    </tbody></table>"
      ],
      "text/plain": [
       "<pandas.io.formats.style.Styler at 0x231526263a0>"
      ]
     },
     "metadata": {},
     "output_type": "display_data"
    }
   ],
   "source": [
    "best = compare_models(n_select = 3, sort = 'acc', include = ['rf', 'lightgbm', 'dt'], folds = 3)"
   ]
  }
 ],
 "metadata": {
  "kernelspec": {
   "display_name": "Python 3",
   "language": "python",
   "name": "python3"
  },
  "language_info": {
   "codemirror_mode": {
    "name": "ipython",
    "version": 3
   },
   "file_extension": ".py",
   "mimetype": "text/x-python",
   "name": "python",
   "nbconvert_exporter": "python",
   "pygments_lexer": "ipython3",
   "version": "3.8.3"
  },
  "toc": {
   "base_numbering": 1,
   "nav_menu": {},
   "number_sections": true,
   "sideBar": true,
   "skip_h1_title": false,
   "title_cell": "Table of Contents",
   "title_sidebar": "Contents",
   "toc_cell": false,
   "toc_position": {},
   "toc_section_display": true,
   "toc_window_display": false
  }
 },
 "nbformat": 4,
 "nbformat_minor": 4
}
