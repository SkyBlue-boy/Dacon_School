{
 "cells": [
  {
   "cell_type": "markdown",
   "metadata": {},
   "source": [
    "# 데이터 전처리와 탐색적 분석"
   ]
  },
  {
   "cell_type": "markdown",
   "metadata": {},
   "source": [
    "### pd.DataFrame.isnull()\n",
    "- 결측치 여부를 확인해줍니다.\n",
    "- 결측치면 True, 아니면 False"
   ]
  },
  {
   "cell_type": "code",
   "execution_count": 40,
   "metadata": {},
   "outputs": [
    {
     "data": {
      "text/html": [
       "<div>\n",
       "<style scoped>\n",
       "    .dataframe tbody tr th:only-of-type {\n",
       "        vertical-align: middle;\n",
       "    }\n",
       "\n",
       "    .dataframe tbody tr th {\n",
       "        vertical-align: top;\n",
       "    }\n",
       "\n",
       "    .dataframe thead th {\n",
       "        text-align: right;\n",
       "    }\n",
       "</style>\n",
       "<table border=\"1\" class=\"dataframe\">\n",
       "  <thead>\n",
       "    <tr style=\"text-align: right;\">\n",
       "      <th></th>\n",
       "      <th>V0000</th>\n",
       "      <th>V0001</th>\n",
       "      <th>V0002</th>\n",
       "      <th>V0003</th>\n",
       "      <th>V0004</th>\n",
       "      <th>V0005</th>\n",
       "      <th>V0006</th>\n",
       "      <th>V0007</th>\n",
       "      <th>V0008</th>\n",
       "      <th>V0009</th>\n",
       "      <th>...</th>\n",
       "      <th>V5112</th>\n",
       "      <th>V5113</th>\n",
       "      <th>V5114</th>\n",
       "      <th>V5115</th>\n",
       "      <th>V5116</th>\n",
       "      <th>V5117</th>\n",
       "      <th>V5118</th>\n",
       "      <th>V5119</th>\n",
       "      <th>V5120</th>\n",
       "      <th>label</th>\n",
       "    </tr>\n",
       "  </thead>\n",
       "  <tbody>\n",
       "    <tr>\n",
       "      <th>0</th>\n",
       "      <td>False</td>\n",
       "      <td>False</td>\n",
       "      <td>False</td>\n",
       "      <td>False</td>\n",
       "      <td>False</td>\n",
       "      <td>False</td>\n",
       "      <td>False</td>\n",
       "      <td>False</td>\n",
       "      <td>False</td>\n",
       "      <td>False</td>\n",
       "      <td>...</td>\n",
       "      <td>False</td>\n",
       "      <td>False</td>\n",
       "      <td>False</td>\n",
       "      <td>False</td>\n",
       "      <td>False</td>\n",
       "      <td>False</td>\n",
       "      <td>False</td>\n",
       "      <td>False</td>\n",
       "      <td>False</td>\n",
       "      <td>False</td>\n",
       "    </tr>\n",
       "    <tr>\n",
       "      <th>0</th>\n",
       "      <td>False</td>\n",
       "      <td>False</td>\n",
       "      <td>False</td>\n",
       "      <td>False</td>\n",
       "      <td>False</td>\n",
       "      <td>False</td>\n",
       "      <td>False</td>\n",
       "      <td>False</td>\n",
       "      <td>False</td>\n",
       "      <td>False</td>\n",
       "      <td>...</td>\n",
       "      <td>False</td>\n",
       "      <td>False</td>\n",
       "      <td>False</td>\n",
       "      <td>False</td>\n",
       "      <td>False</td>\n",
       "      <td>False</td>\n",
       "      <td>False</td>\n",
       "      <td>False</td>\n",
       "      <td>False</td>\n",
       "      <td>False</td>\n",
       "    </tr>\n",
       "    <tr>\n",
       "      <th>0</th>\n",
       "      <td>False</td>\n",
       "      <td>False</td>\n",
       "      <td>False</td>\n",
       "      <td>False</td>\n",
       "      <td>False</td>\n",
       "      <td>False</td>\n",
       "      <td>False</td>\n",
       "      <td>False</td>\n",
       "      <td>False</td>\n",
       "      <td>False</td>\n",
       "      <td>...</td>\n",
       "      <td>False</td>\n",
       "      <td>False</td>\n",
       "      <td>False</td>\n",
       "      <td>False</td>\n",
       "      <td>False</td>\n",
       "      <td>False</td>\n",
       "      <td>False</td>\n",
       "      <td>False</td>\n",
       "      <td>False</td>\n",
       "      <td>False</td>\n",
       "    </tr>\n",
       "    <tr>\n",
       "      <th>0</th>\n",
       "      <td>False</td>\n",
       "      <td>False</td>\n",
       "      <td>False</td>\n",
       "      <td>False</td>\n",
       "      <td>False</td>\n",
       "      <td>False</td>\n",
       "      <td>False</td>\n",
       "      <td>False</td>\n",
       "      <td>False</td>\n",
       "      <td>False</td>\n",
       "      <td>...</td>\n",
       "      <td>False</td>\n",
       "      <td>False</td>\n",
       "      <td>False</td>\n",
       "      <td>False</td>\n",
       "      <td>False</td>\n",
       "      <td>False</td>\n",
       "      <td>False</td>\n",
       "      <td>False</td>\n",
       "      <td>False</td>\n",
       "      <td>False</td>\n",
       "    </tr>\n",
       "    <tr>\n",
       "      <th>0</th>\n",
       "      <td>False</td>\n",
       "      <td>False</td>\n",
       "      <td>False</td>\n",
       "      <td>False</td>\n",
       "      <td>False</td>\n",
       "      <td>False</td>\n",
       "      <td>False</td>\n",
       "      <td>False</td>\n",
       "      <td>False</td>\n",
       "      <td>False</td>\n",
       "      <td>...</td>\n",
       "      <td>False</td>\n",
       "      <td>False</td>\n",
       "      <td>False</td>\n",
       "      <td>False</td>\n",
       "      <td>False</td>\n",
       "      <td>False</td>\n",
       "      <td>False</td>\n",
       "      <td>False</td>\n",
       "      <td>False</td>\n",
       "      <td>False</td>\n",
       "    </tr>\n",
       "    <tr>\n",
       "      <th>...</th>\n",
       "      <td>...</td>\n",
       "      <td>...</td>\n",
       "      <td>...</td>\n",
       "      <td>...</td>\n",
       "      <td>...</td>\n",
       "      <td>...</td>\n",
       "      <td>...</td>\n",
       "      <td>...</td>\n",
       "      <td>...</td>\n",
       "      <td>...</td>\n",
       "      <td>...</td>\n",
       "      <td>...</td>\n",
       "      <td>...</td>\n",
       "      <td>...</td>\n",
       "      <td>...</td>\n",
       "      <td>...</td>\n",
       "      <td>...</td>\n",
       "      <td>...</td>\n",
       "      <td>...</td>\n",
       "      <td>...</td>\n",
       "      <td>...</td>\n",
       "    </tr>\n",
       "    <tr>\n",
       "      <th>99</th>\n",
       "      <td>False</td>\n",
       "      <td>False</td>\n",
       "      <td>False</td>\n",
       "      <td>False</td>\n",
       "      <td>False</td>\n",
       "      <td>False</td>\n",
       "      <td>False</td>\n",
       "      <td>False</td>\n",
       "      <td>False</td>\n",
       "      <td>False</td>\n",
       "      <td>...</td>\n",
       "      <td>False</td>\n",
       "      <td>False</td>\n",
       "      <td>False</td>\n",
       "      <td>False</td>\n",
       "      <td>False</td>\n",
       "      <td>False</td>\n",
       "      <td>False</td>\n",
       "      <td>False</td>\n",
       "      <td>False</td>\n",
       "      <td>False</td>\n",
       "    </tr>\n",
       "    <tr>\n",
       "      <th>99</th>\n",
       "      <td>False</td>\n",
       "      <td>False</td>\n",
       "      <td>False</td>\n",
       "      <td>False</td>\n",
       "      <td>False</td>\n",
       "      <td>False</td>\n",
       "      <td>False</td>\n",
       "      <td>False</td>\n",
       "      <td>False</td>\n",
       "      <td>False</td>\n",
       "      <td>...</td>\n",
       "      <td>False</td>\n",
       "      <td>False</td>\n",
       "      <td>False</td>\n",
       "      <td>False</td>\n",
       "      <td>False</td>\n",
       "      <td>False</td>\n",
       "      <td>False</td>\n",
       "      <td>False</td>\n",
       "      <td>False</td>\n",
       "      <td>False</td>\n",
       "    </tr>\n",
       "    <tr>\n",
       "      <th>99</th>\n",
       "      <td>False</td>\n",
       "      <td>False</td>\n",
       "      <td>False</td>\n",
       "      <td>False</td>\n",
       "      <td>False</td>\n",
       "      <td>False</td>\n",
       "      <td>False</td>\n",
       "      <td>False</td>\n",
       "      <td>False</td>\n",
       "      <td>False</td>\n",
       "      <td>...</td>\n",
       "      <td>False</td>\n",
       "      <td>False</td>\n",
       "      <td>False</td>\n",
       "      <td>False</td>\n",
       "      <td>False</td>\n",
       "      <td>False</td>\n",
       "      <td>False</td>\n",
       "      <td>False</td>\n",
       "      <td>False</td>\n",
       "      <td>False</td>\n",
       "    </tr>\n",
       "    <tr>\n",
       "      <th>99</th>\n",
       "      <td>False</td>\n",
       "      <td>False</td>\n",
       "      <td>False</td>\n",
       "      <td>False</td>\n",
       "      <td>False</td>\n",
       "      <td>False</td>\n",
       "      <td>False</td>\n",
       "      <td>False</td>\n",
       "      <td>False</td>\n",
       "      <td>False</td>\n",
       "      <td>...</td>\n",
       "      <td>False</td>\n",
       "      <td>False</td>\n",
       "      <td>False</td>\n",
       "      <td>False</td>\n",
       "      <td>False</td>\n",
       "      <td>False</td>\n",
       "      <td>False</td>\n",
       "      <td>False</td>\n",
       "      <td>False</td>\n",
       "      <td>False</td>\n",
       "    </tr>\n",
       "    <tr>\n",
       "      <th>99</th>\n",
       "      <td>False</td>\n",
       "      <td>False</td>\n",
       "      <td>False</td>\n",
       "      <td>False</td>\n",
       "      <td>False</td>\n",
       "      <td>False</td>\n",
       "      <td>False</td>\n",
       "      <td>False</td>\n",
       "      <td>False</td>\n",
       "      <td>False</td>\n",
       "      <td>...</td>\n",
       "      <td>False</td>\n",
       "      <td>False</td>\n",
       "      <td>False</td>\n",
       "      <td>False</td>\n",
       "      <td>False</td>\n",
       "      <td>False</td>\n",
       "      <td>False</td>\n",
       "      <td>False</td>\n",
       "      <td>False</td>\n",
       "      <td>False</td>\n",
       "    </tr>\n",
       "  </tbody>\n",
       "</table>\n",
       "<p>24780 rows × 5122 columns</p>\n",
       "</div>"
      ],
      "text/plain": [
       "    V0000  V0001  V0002  V0003  V0004  V0005  V0006  V0007  V0008  V0009  ...  \\\n",
       "0   False  False  False  False  False  False  False  False  False  False  ...   \n",
       "0   False  False  False  False  False  False  False  False  False  False  ...   \n",
       "0   False  False  False  False  False  False  False  False  False  False  ...   \n",
       "0   False  False  False  False  False  False  False  False  False  False  ...   \n",
       "0   False  False  False  False  False  False  False  False  False  False  ...   \n",
       "..    ...    ...    ...    ...    ...    ...    ...    ...    ...    ...  ...   \n",
       "99  False  False  False  False  False  False  False  False  False  False  ...   \n",
       "99  False  False  False  False  False  False  False  False  False  False  ...   \n",
       "99  False  False  False  False  False  False  False  False  False  False  ...   \n",
       "99  False  False  False  False  False  False  False  False  False  False  ...   \n",
       "99  False  False  False  False  False  False  False  False  False  False  ...   \n",
       "\n",
       "    V5112  V5113  V5114  V5115  V5116  V5117  V5118  V5119  V5120  label  \n",
       "0   False  False  False  False  False  False  False  False  False  False  \n",
       "0   False  False  False  False  False  False  False  False  False  False  \n",
       "0   False  False  False  False  False  False  False  False  False  False  \n",
       "0   False  False  False  False  False  False  False  False  False  False  \n",
       "0   False  False  False  False  False  False  False  False  False  False  \n",
       "..    ...    ...    ...    ...    ...    ...    ...    ...    ...    ...  \n",
       "99  False  False  False  False  False  False  False  False  False  False  \n",
       "99  False  False  False  False  False  False  False  False  False  False  \n",
       "99  False  False  False  False  False  False  False  False  False  False  \n",
       "99  False  False  False  False  False  False  False  False  False  False  \n",
       "99  False  False  False  False  False  False  False  False  False  False  \n",
       "\n",
       "[24780 rows x 5122 columns]"
      ]
     },
     "execution_count": 40,
     "metadata": {},
     "output_type": "execute_result"
    }
   ],
   "source": [
    "train.isnull()"
   ]
  },
  {
   "cell_type": "code",
   "execution_count": 41,
   "metadata": {},
   "outputs": [
    {
     "data": {
      "text/plain": [
       "V0000    0\n",
       "V0001    0\n",
       "V0002    0\n",
       "V0003    0\n",
       "V0004    0\n",
       "        ..\n",
       "V5117    0\n",
       "V5118    0\n",
       "V5119    0\n",
       "V5120    0\n",
       "label    0\n",
       "Length: 5122, dtype: int64"
      ]
     },
     "execution_count": 41,
     "metadata": {},
     "output_type": "execute_result"
    }
   ],
   "source": [
    "train.isnull().sum()"
   ]
  },
  {
   "cell_type": "code",
   "execution_count": 42,
   "metadata": {},
   "outputs": [
    {
     "data": {
      "text/plain": [
       "0"
      ]
     },
     "execution_count": 42,
     "metadata": {},
     "output_type": "execute_result"
    }
   ],
   "source": [
    "train.isnull().sum().sum()"
   ]
  },
  {
   "cell_type": "markdown",
   "metadata": {},
   "source": [
    "### msno.bar()\n",
    "- 칼럼별 값이 채워진 비율을 시각화 "
   ]
  },
  {
   "cell_type": "code",
   "execution_count": null,
   "metadata": {},
   "outputs": [],
   "source": [
    "#!pip install missingno-->jupyter에서 패키지 바로 설치할때"
   ]
  },
  {
   "cell_type": "code",
   "execution_count": 44,
   "metadata": {},
   "outputs": [],
   "source": [
    "import missingno as msno"
   ]
  },
  {
   "cell_type": "code",
   "execution_count": 45,
   "metadata": {
    "scrolled": true
   },
   "outputs": [
    {
     "data": {
      "text/plain": [
       "<matplotlib.axes._subplots.AxesSubplot at 0x2dc0678fd30>"
      ]
     },
     "execution_count": 45,
     "metadata": {},
     "output_type": "execute_result"
    },
    {
     "data": {
      "image/png": "[encoded data removed]",
      "text/plain": [
       "<Figure size 1728x720 with 3 Axes>"
      ]
     },
     "metadata": {
      "needs_background": "light"
     },
     "output_type": "display_data"
    }
   ],
   "source": [
    "msno.bar(train.loc[:, :'V0004'])\n",
    "#5개 칼럼만 가져옴 # 해당칼럼에 얼마나 채워져 있냐 퍼센트로"
   ]
  },
  {
   "cell_type": "markdown",
   "metadata": {},
   "source": [
    "### msno.matrix()\n",
    "- 칼럼별 값이 채워진 위치를 시각화\n",
    "- 결측치 위치를 파악할 때 유용함"
   ]
  },
  {
   "cell_type": "code",
   "execution_count": 46,
   "metadata": {},
   "outputs": [
    {
     "data": {
      "text/plain": [
       "<matplotlib.axes._subplots.AxesSubplot at 0x2dc08ecdb20>"
      ]
     },
     "execution_count": 46,
     "metadata": {},
     "output_type": "execute_result"
    },
    {
     "data": {
      "image/png": "[encoded data removed]",
      "text/plain": [
       "<Figure size 1800x720 with 2 Axes>"
      ]
     },
     "metadata": {
      "needs_background": "light"
     },
     "output_type": "display_data"
    }
   ],
   "source": [
    "msno.matrix(train.loc[:, :'V0004'])"
   ]
  },
  {
   "cell_type": "code",
   "execution_count": 50,
   "metadata": {},
   "outputs": [],
   "source": [
    "_save = train.iloc[:10000, 1].values.copy() # copy()를 꼭 해 줘야 hard copy가 됨.\n",
    "train.iloc[:10000, 1] = np.nan # train데이터에서 첫번째 열에서 1만번째 값까지 nan값으로 변경."
   ]
  },
  {
   "cell_type": "code",
   "execution_count": 62,
   "metadata": {},
   "outputs": [
    {
     "data": {
      "text/html": [
       "<div>\n",
       "<style scoped>\n",
       "    .dataframe tbody tr th:only-of-type {\n",
       "        vertical-align: middle;\n",
       "    }\n",
       "\n",
       "    .dataframe tbody tr th {\n",
       "        vertical-align: top;\n",
       "    }\n",
       "\n",
       "    .dataframe thead th {\n",
       "        text-align: right;\n",
       "    }\n",
       "</style>\n",
       "<table border=\"1\" class=\"dataframe\">\n",
       "  <thead>\n",
       "    <tr style=\"text-align: right;\">\n",
       "      <th></th>\n",
       "      <th>V0000</th>\n",
       "      <th>V0001</th>\n",
       "      <th>V0002</th>\n",
       "      <th>V0003</th>\n",
       "      <th>V0004</th>\n",
       "      <th>V0005</th>\n",
       "      <th>V0006</th>\n",
       "      <th>V0007</th>\n",
       "      <th>V0008</th>\n",
       "      <th>V0009</th>\n",
       "      <th>...</th>\n",
       "      <th>V5112</th>\n",
       "      <th>V5113</th>\n",
       "      <th>V5114</th>\n",
       "      <th>V5115</th>\n",
       "      <th>V5116</th>\n",
       "      <th>V5117</th>\n",
       "      <th>V5118</th>\n",
       "      <th>V5119</th>\n",
       "      <th>V5120</th>\n",
       "      <th>label</th>\n",
       "    </tr>\n",
       "  </thead>\n",
       "  <tbody>\n",
       "    <tr>\n",
       "      <th>0</th>\n",
       "      <td>30.474394</td>\n",
       "      <td>8.691177</td>\n",
       "      <td>8.714483</td>\n",
       "      <td>8.687399</td>\n",
       "      <td>8.721230</td>\n",
       "      <td>207.697895</td>\n",
       "      <td>165.865730</td>\n",
       "      <td>-6.018877e-19</td>\n",
       "      <td>0.0</td>\n",
       "      <td>-0.002136</td>\n",
       "      <td>...</td>\n",
       "      <td>1.0</td>\n",
       "      <td>1.0</td>\n",
       "      <td>1.0</td>\n",
       "      <td>60.0</td>\n",
       "      <td>0.0</td>\n",
       "      <td>0.0</td>\n",
       "      <td>1.421620e-05</td>\n",
       "      <td>85.4</td>\n",
       "      <td>0.0</td>\n",
       "      <td>110</td>\n",
       "    </tr>\n",
       "    <tr>\n",
       "      <th>0</th>\n",
       "      <td>30.470463</td>\n",
       "      <td>8.736521</td>\n",
       "      <td>8.682769</td>\n",
       "      <td>8.717135</td>\n",
       "      <td>8.682402</td>\n",
       "      <td>192.665080</td>\n",
       "      <td>191.006871</td>\n",
       "      <td>-3.918758e-19</td>\n",
       "      <td>0.0</td>\n",
       "      <td>0.001710</td>\n",
       "      <td>...</td>\n",
       "      <td>1.0</td>\n",
       "      <td>1.0</td>\n",
       "      <td>1.0</td>\n",
       "      <td>60.0</td>\n",
       "      <td>0.0</td>\n",
       "      <td>0.0</td>\n",
       "      <td>-6.114455e-06</td>\n",
       "      <td>85.4</td>\n",
       "      <td>0.0</td>\n",
       "      <td>110</td>\n",
       "    </tr>\n",
       "    <tr>\n",
       "      <th>0</th>\n",
       "      <td>30.465427</td>\n",
       "      <td>8.753559</td>\n",
       "      <td>8.663426</td>\n",
       "      <td>8.700049</td>\n",
       "      <td>8.734147</td>\n",
       "      <td>187.065171</td>\n",
       "      <td>192.700238</td>\n",
       "      <td>-1.799179e-19</td>\n",
       "      <td>0.0</td>\n",
       "      <td>0.000493</td>\n",
       "      <td>...</td>\n",
       "      <td>1.0</td>\n",
       "      <td>1.0</td>\n",
       "      <td>1.0</td>\n",
       "      <td>60.0</td>\n",
       "      <td>0.0</td>\n",
       "      <td>0.0</td>\n",
       "      <td>-1.813291e-05</td>\n",
       "      <td>85.4</td>\n",
       "      <td>0.0</td>\n",
       "      <td>110</td>\n",
       "    </tr>\n",
       "    <tr>\n",
       "      <th>0</th>\n",
       "      <td>30.458532</td>\n",
       "      <td>8.715056</td>\n",
       "      <td>8.714854</td>\n",
       "      <td>8.717174</td>\n",
       "      <td>8.699257</td>\n",
       "      <td>188.500036</td>\n",
       "      <td>180.150567</td>\n",
       "      <td>-6.636971e-19</td>\n",
       "      <td>0.0</td>\n",
       "      <td>0.000318</td>\n",
       "      <td>...</td>\n",
       "      <td>1.0</td>\n",
       "      <td>1.0</td>\n",
       "      <td>1.0</td>\n",
       "      <td>60.0</td>\n",
       "      <td>0.0</td>\n",
       "      <td>0.0</td>\n",
       "      <td>-5.745568e-07</td>\n",
       "      <td>85.4</td>\n",
       "      <td>0.0</td>\n",
       "      <td>110</td>\n",
       "    </tr>\n",
       "    <tr>\n",
       "      <th>0</th>\n",
       "      <td>30.475773</td>\n",
       "      <td>8.790241</td>\n",
       "      <td>8.735125</td>\n",
       "      <td>8.703167</td>\n",
       "      <td>8.721030</td>\n",
       "      <td>193.269046</td>\n",
       "      <td>195.984890</td>\n",
       "      <td>-6.379752e-20</td>\n",
       "      <td>0.0</td>\n",
       "      <td>-0.000091</td>\n",
       "      <td>...</td>\n",
       "      <td>1.0</td>\n",
       "      <td>1.0</td>\n",
       "      <td>1.0</td>\n",
       "      <td>60.0</td>\n",
       "      <td>0.0</td>\n",
       "      <td>0.0</td>\n",
       "      <td>8.437883e-06</td>\n",
       "      <td>85.4</td>\n",
       "      <td>0.0</td>\n",
       "      <td>110</td>\n",
       "    </tr>\n",
       "    <tr>\n",
       "      <th>...</th>\n",
       "      <td>...</td>\n",
       "      <td>...</td>\n",
       "      <td>...</td>\n",
       "      <td>...</td>\n",
       "      <td>...</td>\n",
       "      <td>...</td>\n",
       "      <td>...</td>\n",
       "      <td>...</td>\n",
       "      <td>...</td>\n",
       "      <td>...</td>\n",
       "      <td>...</td>\n",
       "      <td>...</td>\n",
       "      <td>...</td>\n",
       "      <td>...</td>\n",
       "      <td>...</td>\n",
       "      <td>...</td>\n",
       "      <td>...</td>\n",
       "      <td>...</td>\n",
       "      <td>...</td>\n",
       "      <td>...</td>\n",
       "      <td>...</td>\n",
       "    </tr>\n",
       "    <tr>\n",
       "      <th>99</th>\n",
       "      <td>30.467389</td>\n",
       "      <td>8.667824</td>\n",
       "      <td>8.688698</td>\n",
       "      <td>8.675708</td>\n",
       "      <td>8.677447</td>\n",
       "      <td>247.317747</td>\n",
       "      <td>235.228012</td>\n",
       "      <td>-2.822292e-19</td>\n",
       "      <td>0.0</td>\n",
       "      <td>0.000271</td>\n",
       "      <td>...</td>\n",
       "      <td>1.0</td>\n",
       "      <td>1.0</td>\n",
       "      <td>1.0</td>\n",
       "      <td>60.0</td>\n",
       "      <td>0.0</td>\n",
       "      <td>0.0</td>\n",
       "      <td>-5.678521e-06</td>\n",
       "      <td>85.4</td>\n",
       "      <td>0.0</td>\n",
       "      <td>156</td>\n",
       "    </tr>\n",
       "    <tr>\n",
       "      <th>99</th>\n",
       "      <td>30.460052</td>\n",
       "      <td>8.701218</td>\n",
       "      <td>8.705593</td>\n",
       "      <td>8.677823</td>\n",
       "      <td>8.700603</td>\n",
       "      <td>225.258851</td>\n",
       "      <td>236.321720</td>\n",
       "      <td>5.962155e-19</td>\n",
       "      <td>0.0</td>\n",
       "      <td>-0.000625</td>\n",
       "      <td>...</td>\n",
       "      <td>1.0</td>\n",
       "      <td>1.0</td>\n",
       "      <td>1.0</td>\n",
       "      <td>60.0</td>\n",
       "      <td>0.0</td>\n",
       "      <td>0.0</td>\n",
       "      <td>9.612709e-06</td>\n",
       "      <td>85.4</td>\n",
       "      <td>0.0</td>\n",
       "      <td>156</td>\n",
       "    </tr>\n",
       "    <tr>\n",
       "      <th>99</th>\n",
       "      <td>30.452393</td>\n",
       "      <td>8.798497</td>\n",
       "      <td>8.702983</td>\n",
       "      <td>8.714415</td>\n",
       "      <td>8.674383</td>\n",
       "      <td>248.134756</td>\n",
       "      <td>219.790195</td>\n",
       "      <td>4.982188e-19</td>\n",
       "      <td>0.0</td>\n",
       "      <td>0.000123</td>\n",
       "      <td>...</td>\n",
       "      <td>1.0</td>\n",
       "      <td>1.0</td>\n",
       "      <td>1.0</td>\n",
       "      <td>60.0</td>\n",
       "      <td>0.0</td>\n",
       "      <td>0.0</td>\n",
       "      <td>-1.285006e-05</td>\n",
       "      <td>85.4</td>\n",
       "      <td>0.0</td>\n",
       "      <td>156</td>\n",
       "    </tr>\n",
       "    <tr>\n",
       "      <th>99</th>\n",
       "      <td>30.459519</td>\n",
       "      <td>8.741143</td>\n",
       "      <td>8.718227</td>\n",
       "      <td>8.651756</td>\n",
       "      <td>8.712503</td>\n",
       "      <td>218.261447</td>\n",
       "      <td>189.666757</td>\n",
       "      <td>7.138593e-20</td>\n",
       "      <td>0.0</td>\n",
       "      <td>0.001317</td>\n",
       "      <td>...</td>\n",
       "      <td>1.0</td>\n",
       "      <td>1.0</td>\n",
       "      <td>1.0</td>\n",
       "      <td>60.0</td>\n",
       "      <td>0.0</td>\n",
       "      <td>0.0</td>\n",
       "      <td>2.867083e-05</td>\n",
       "      <td>85.4</td>\n",
       "      <td>0.0</td>\n",
       "      <td>156</td>\n",
       "    </tr>\n",
       "    <tr>\n",
       "      <th>99</th>\n",
       "      <td>30.473445</td>\n",
       "      <td>8.720518</td>\n",
       "      <td>8.663853</td>\n",
       "      <td>8.677289</td>\n",
       "      <td>8.700146</td>\n",
       "      <td>237.444185</td>\n",
       "      <td>203.964687</td>\n",
       "      <td>-3.905100e-19</td>\n",
       "      <td>0.0</td>\n",
       "      <td>0.000686</td>\n",
       "      <td>...</td>\n",
       "      <td>1.0</td>\n",
       "      <td>1.0</td>\n",
       "      <td>1.0</td>\n",
       "      <td>60.0</td>\n",
       "      <td>0.0</td>\n",
       "      <td>0.0</td>\n",
       "      <td>1.162793e-05</td>\n",
       "      <td>85.4</td>\n",
       "      <td>0.0</td>\n",
       "      <td>156</td>\n",
       "    </tr>\n",
       "  </tbody>\n",
       "</table>\n",
       "<p>24780 rows × 5122 columns</p>\n",
       "</div>"
      ],
      "text/plain": [
       "        V0000     V0001     V0002     V0003     V0004       V0005       V0006  \\\n",
       "0   30.474394  8.691177  8.714483  8.687399  8.721230  207.697895  165.865730   \n",
       "0   30.470463  8.736521  8.682769  8.717135  8.682402  192.665080  191.006871   \n",
       "0   30.465427  8.753559  8.663426  8.700049  8.734147  187.065171  192.700238   \n",
       "0   30.458532  8.715056  8.714854  8.717174  8.699257  188.500036  180.150567   \n",
       "0   30.475773  8.790241  8.735125  8.703167  8.721030  193.269046  195.984890   \n",
       "..        ...       ...       ...       ...       ...         ...         ...   \n",
       "99  30.467389  8.667824  8.688698  8.675708  8.677447  247.317747  235.228012   \n",
       "99  30.460052  8.701218  8.705593  8.677823  8.700603  225.258851  236.321720   \n",
       "99  30.452393  8.798497  8.702983  8.714415  8.674383  248.134756  219.790195   \n",
       "99  30.459519  8.741143  8.718227  8.651756  8.712503  218.261447  189.666757   \n",
       "99  30.473445  8.720518  8.663853  8.677289  8.700146  237.444185  203.964687   \n",
       "\n",
       "           V0007  V0008     V0009  ...  V5112  V5113  V5114  V5115  V5116  \\\n",
       "0  -6.018877e-19    0.0 -0.002136  ...    1.0    1.0    1.0   60.0    0.0   \n",
       "0  -3.918758e-19    0.0  0.001710  ...    1.0    1.0    1.0   60.0    0.0   \n",
       "0  -1.799179e-19    0.0  0.000493  ...    1.0    1.0    1.0   60.0    0.0   \n",
       "0  -6.636971e-19    0.0  0.000318  ...    1.0    1.0    1.0   60.0    0.0   \n",
       "0  -6.379752e-20    0.0 -0.000091  ...    1.0    1.0    1.0   60.0    0.0   \n",
       "..           ...    ...       ...  ...    ...    ...    ...    ...    ...   \n",
       "99 -2.822292e-19    0.0  0.000271  ...    1.0    1.0    1.0   60.0    0.0   \n",
       "99  5.962155e-19    0.0 -0.000625  ...    1.0    1.0    1.0   60.0    0.0   \n",
       "99  4.982188e-19    0.0  0.000123  ...    1.0    1.0    1.0   60.0    0.0   \n",
       "99  7.138593e-20    0.0  0.001317  ...    1.0    1.0    1.0   60.0    0.0   \n",
       "99 -3.905100e-19    0.0  0.000686  ...    1.0    1.0    1.0   60.0    0.0   \n",
       "\n",
       "    V5117         V5118  V5119  V5120  label  \n",
       "0     0.0  1.421620e-05   85.4    0.0    110  \n",
       "0     0.0 -6.114455e-06   85.4    0.0    110  \n",
       "0     0.0 -1.813291e-05   85.4    0.0    110  \n",
       "0     0.0 -5.745568e-07   85.4    0.0    110  \n",
       "0     0.0  8.437883e-06   85.4    0.0    110  \n",
       "..    ...           ...    ...    ...    ...  \n",
       "99    0.0 -5.678521e-06   85.4    0.0    156  \n",
       "99    0.0  9.612709e-06   85.4    0.0    156  \n",
       "99    0.0 -1.285006e-05   85.4    0.0    156  \n",
       "99    0.0  2.867083e-05   85.4    0.0    156  \n",
       "99    0.0  1.162793e-05   85.4    0.0    156  \n",
       "\n",
       "[24780 rows x 5122 columns]"
      ]
     },
     "execution_count": 62,
     "metadata": {},
     "output_type": "execute_result"
    }
   ],
   "source": [
    "train.iloc[:10000, 1] = _save #nan값을 다시 원래 값으로 복원\n",
    "train"
   ]
  },
  {
   "cell_type": "code",
   "execution_count": 51,
   "metadata": {},
   "outputs": [
    {
     "data": {
      "text/plain": [
       "<matplotlib.axes._subplots.AxesSubplot at 0x2dc115e6c10>"
      ]
     },
     "execution_count": 51,
     "metadata": {},
     "output_type": "execute_result"
    },
    {
     "data": {
      "image/png": "[encoded data removed]",
      "text/plain": [
       "<Figure size 1728x720 with 3 Axes>"
      ]
     },
     "metadata": {
      "needs_background": "light"
     },
     "output_type": "display_data"
    }
   ],
   "source": [
    "msno.bar(train.loc[:, :'V0004']) #첫번째 열값에서 1만번째 행까지 nan 즉 결측치로 바꿨으므로 아래 그래프와 같이 결측치 위치를 파악가능."
   ]
  },
  {
   "cell_type": "markdown",
   "metadata": {},
   "source": [
    "### pd.Series.fillna()\n",
    "- 결측치를 채우고자 하는 column과 결측치를 대신하여 넣고자 하는 값을 명시해주어야 합니다.\n",
    "- 범주형 변수일 경우, 최빈값으로 대체할 수 있습니다. "
   ]
  },
  {
   "cell_type": "code",
   "execution_count": 54,
   "metadata": {},
   "outputs": [
    {
     "data": {
      "text/plain": [
       "8.728740887045525"
      ]
     },
     "execution_count": 54,
     "metadata": {},
     "output_type": "execute_result"
    }
   ],
   "source": [
    "train['V0001'].mean()"
   ]
  },
  {
   "cell_type": "code",
   "execution_count": 55,
   "metadata": {},
   "outputs": [
    {
     "data": {
      "text/plain": [
       "0     8.728741\n",
       "0     8.728741\n",
       "0     8.728741\n",
       "0     8.728741\n",
       "0     8.728741\n",
       "        ...   \n",
       "99    8.667824\n",
       "99    8.701218\n",
       "99    8.798497\n",
       "99    8.741143\n",
       "99    8.720518\n",
       "Name: V0001, Length: 24780, dtype: float64"
      ]
     },
     "execution_count": 55,
     "metadata": {},
     "output_type": "execute_result"
    }
   ],
   "source": [
    "train['V0001'].fillna(value = train['V0001'].mean()) #VOOO1의 평균값으로 채우기"
   ]
  },
  {
   "cell_type": "markdown",
   "metadata": {},
   "source": [
    "### pd.DataFrame.nunique()\n",
    "- 컬럼별 unique한 값의 개수 반환"
   ]
  },
  {
   "cell_type": "code",
   "execution_count": 56,
   "metadata": {},
   "outputs": [],
   "source": [
    "num_unique = train.nunique()"
   ]
  },
  {
   "cell_type": "code",
   "execution_count": 57,
   "metadata": {},
   "outputs": [
    {
     "data": {
      "text/plain": [
       "V0000     True\n",
       "V0001     True\n",
       "V0002     True\n",
       "V0003     True\n",
       "V0004     True\n",
       "         ...  \n",
       "V5117    False\n",
       "V5118     True\n",
       "V5119     True\n",
       "V5120    False\n",
       "label     True\n",
       "Length: 5122, dtype: bool"
      ]
     },
     "execution_count": 57,
     "metadata": {},
     "output_type": "execute_result"
    }
   ],
   "source": [
    "num_unique != 1 \n",
    "# 고유값이 1개면 분류에 도움이 안됨 \n",
    "# 의사결정트리에서 노드에서 질문할 때마다 값이 1개면 모든 데이터들이 한 쪽에 몰려서 순도율이 바뀌지않음."
   ]
  },
  {
   "cell_type": "code",
   "execution_count": 58,
   "metadata": {},
   "outputs": [
    {
     "data": {
      "text/html": [
       "<div>\n",
       "<style scoped>\n",
       "    .dataframe tbody tr th:only-of-type {\n",
       "        vertical-align: middle;\n",
       "    }\n",
       "\n",
       "    .dataframe tbody tr th {\n",
       "        vertical-align: top;\n",
       "    }\n",
       "\n",
       "    .dataframe thead th {\n",
       "        text-align: right;\n",
       "    }\n",
       "</style>\n",
       "<table border=\"1\" class=\"dataframe\">\n",
       "  <thead>\n",
       "    <tr style=\"text-align: right;\">\n",
       "      <th></th>\n",
       "      <th>V0000</th>\n",
       "      <th>V0001</th>\n",
       "      <th>V0002</th>\n",
       "      <th>V0003</th>\n",
       "      <th>V0004</th>\n",
       "      <th>V0005</th>\n",
       "      <th>V0006</th>\n",
       "      <th>V0007</th>\n",
       "      <th>V0008</th>\n",
       "      <th>V0009</th>\n",
       "      <th>...</th>\n",
       "      <th>V5085</th>\n",
       "      <th>V5086</th>\n",
       "      <th>V5087</th>\n",
       "      <th>V5088</th>\n",
       "      <th>V5089</th>\n",
       "      <th>V5090</th>\n",
       "      <th>V5115</th>\n",
       "      <th>V5118</th>\n",
       "      <th>V5119</th>\n",
       "      <th>label</th>\n",
       "    </tr>\n",
       "  </thead>\n",
       "  <tbody>\n",
       "    <tr>\n",
       "      <th>0</th>\n",
       "      <td>30.474394</td>\n",
       "      <td>NaN</td>\n",
       "      <td>8.714483</td>\n",
       "      <td>8.687399</td>\n",
       "      <td>8.721230</td>\n",
       "      <td>207.697895</td>\n",
       "      <td>165.865730</td>\n",
       "      <td>-6.018877e-19</td>\n",
       "      <td>0.0</td>\n",
       "      <td>-0.002136</td>\n",
       "      <td>...</td>\n",
       "      <td>110.981328</td>\n",
       "      <td>-0.292202</td>\n",
       "      <td>-0.227825</td>\n",
       "      <td>-0.199740</td>\n",
       "      <td>-0.155360</td>\n",
       "      <td>43.204967</td>\n",
       "      <td>60.0</td>\n",
       "      <td>1.421620e-05</td>\n",
       "      <td>85.4</td>\n",
       "      <td>110</td>\n",
       "    </tr>\n",
       "    <tr>\n",
       "      <th>0</th>\n",
       "      <td>30.470463</td>\n",
       "      <td>NaN</td>\n",
       "      <td>8.682769</td>\n",
       "      <td>8.717135</td>\n",
       "      <td>8.682402</td>\n",
       "      <td>192.665080</td>\n",
       "      <td>191.006871</td>\n",
       "      <td>-3.918758e-19</td>\n",
       "      <td>0.0</td>\n",
       "      <td>0.001710</td>\n",
       "      <td>...</td>\n",
       "      <td>110.994106</td>\n",
       "      <td>-0.286190</td>\n",
       "      <td>-0.240191</td>\n",
       "      <td>-0.183798</td>\n",
       "      <td>-0.149832</td>\n",
       "      <td>43.189223</td>\n",
       "      <td>60.0</td>\n",
       "      <td>-6.114455e-06</td>\n",
       "      <td>85.4</td>\n",
       "      <td>110</td>\n",
       "    </tr>\n",
       "    <tr>\n",
       "      <th>0</th>\n",
       "      <td>30.465427</td>\n",
       "      <td>NaN</td>\n",
       "      <td>8.663426</td>\n",
       "      <td>8.700049</td>\n",
       "      <td>8.734147</td>\n",
       "      <td>187.065171</td>\n",
       "      <td>192.700238</td>\n",
       "      <td>-1.799179e-19</td>\n",
       "      <td>0.0</td>\n",
       "      <td>0.000493</td>\n",
       "      <td>...</td>\n",
       "      <td>110.846185</td>\n",
       "      <td>-0.283542</td>\n",
       "      <td>-0.254116</td>\n",
       "      <td>-0.173975</td>\n",
       "      <td>-0.160714</td>\n",
       "      <td>43.193726</td>\n",
       "      <td>60.0</td>\n",
       "      <td>-1.813291e-05</td>\n",
       "      <td>85.4</td>\n",
       "      <td>110</td>\n",
       "    </tr>\n",
       "    <tr>\n",
       "      <th>0</th>\n",
       "      <td>30.458532</td>\n",
       "      <td>NaN</td>\n",
       "      <td>8.714854</td>\n",
       "      <td>8.717174</td>\n",
       "      <td>8.699257</td>\n",
       "      <td>188.500036</td>\n",
       "      <td>180.150567</td>\n",
       "      <td>-6.636971e-19</td>\n",
       "      <td>0.0</td>\n",
       "      <td>0.000318</td>\n",
       "      <td>...</td>\n",
       "      <td>111.074215</td>\n",
       "      <td>-0.302789</td>\n",
       "      <td>-0.228363</td>\n",
       "      <td>-0.135186</td>\n",
       "      <td>-0.147648</td>\n",
       "      <td>43.207052</td>\n",
       "      <td>60.0</td>\n",
       "      <td>-5.745568e-07</td>\n",
       "      <td>85.4</td>\n",
       "      <td>110</td>\n",
       "    </tr>\n",
       "    <tr>\n",
       "      <th>0</th>\n",
       "      <td>30.475773</td>\n",
       "      <td>NaN</td>\n",
       "      <td>8.735125</td>\n",
       "      <td>8.703167</td>\n",
       "      <td>8.721030</td>\n",
       "      <td>193.269046</td>\n",
       "      <td>195.984890</td>\n",
       "      <td>-6.379752e-20</td>\n",
       "      <td>0.0</td>\n",
       "      <td>-0.000091</td>\n",
       "      <td>...</td>\n",
       "      <td>110.839118</td>\n",
       "      <td>-0.296479</td>\n",
       "      <td>-0.249304</td>\n",
       "      <td>-0.193827</td>\n",
       "      <td>-0.141245</td>\n",
       "      <td>43.200405</td>\n",
       "      <td>60.0</td>\n",
       "      <td>8.437883e-06</td>\n",
       "      <td>85.4</td>\n",
       "      <td>110</td>\n",
       "    </tr>\n",
       "    <tr>\n",
       "      <th>...</th>\n",
       "      <td>...</td>\n",
       "      <td>...</td>\n",
       "      <td>...</td>\n",
       "      <td>...</td>\n",
       "      <td>...</td>\n",
       "      <td>...</td>\n",
       "      <td>...</td>\n",
       "      <td>...</td>\n",
       "      <td>...</td>\n",
       "      <td>...</td>\n",
       "      <td>...</td>\n",
       "      <td>...</td>\n",
       "      <td>...</td>\n",
       "      <td>...</td>\n",
       "      <td>...</td>\n",
       "      <td>...</td>\n",
       "      <td>...</td>\n",
       "      <td>...</td>\n",
       "      <td>...</td>\n",
       "      <td>...</td>\n",
       "      <td>...</td>\n",
       "    </tr>\n",
       "    <tr>\n",
       "      <th>99</th>\n",
       "      <td>30.467389</td>\n",
       "      <td>8.667824</td>\n",
       "      <td>8.688698</td>\n",
       "      <td>8.675708</td>\n",
       "      <td>8.677447</td>\n",
       "      <td>247.317747</td>\n",
       "      <td>235.228012</td>\n",
       "      <td>-2.822292e-19</td>\n",
       "      <td>0.0</td>\n",
       "      <td>0.000271</td>\n",
       "      <td>...</td>\n",
       "      <td>110.855242</td>\n",
       "      <td>-0.291317</td>\n",
       "      <td>-0.239526</td>\n",
       "      <td>-0.160873</td>\n",
       "      <td>-0.147279</td>\n",
       "      <td>43.192200</td>\n",
       "      <td>60.0</td>\n",
       "      <td>-5.678521e-06</td>\n",
       "      <td>85.4</td>\n",
       "      <td>156</td>\n",
       "    </tr>\n",
       "    <tr>\n",
       "      <th>99</th>\n",
       "      <td>30.460052</td>\n",
       "      <td>8.701218</td>\n",
       "      <td>8.705593</td>\n",
       "      <td>8.677823</td>\n",
       "      <td>8.700603</td>\n",
       "      <td>225.258851</td>\n",
       "      <td>236.321720</td>\n",
       "      <td>5.962155e-19</td>\n",
       "      <td>0.0</td>\n",
       "      <td>-0.000625</td>\n",
       "      <td>...</td>\n",
       "      <td>110.760693</td>\n",
       "      <td>-0.302359</td>\n",
       "      <td>-0.228090</td>\n",
       "      <td>-0.208819</td>\n",
       "      <td>-0.175458</td>\n",
       "      <td>43.206268</td>\n",
       "      <td>60.0</td>\n",
       "      <td>9.612709e-06</td>\n",
       "      <td>85.4</td>\n",
       "      <td>156</td>\n",
       "    </tr>\n",
       "    <tr>\n",
       "      <th>99</th>\n",
       "      <td>30.452393</td>\n",
       "      <td>8.798497</td>\n",
       "      <td>8.702983</td>\n",
       "      <td>8.714415</td>\n",
       "      <td>8.674383</td>\n",
       "      <td>248.134756</td>\n",
       "      <td>219.790195</td>\n",
       "      <td>4.982188e-19</td>\n",
       "      <td>0.0</td>\n",
       "      <td>0.000123</td>\n",
       "      <td>...</td>\n",
       "      <td>110.843740</td>\n",
       "      <td>-0.302417</td>\n",
       "      <td>-0.237594</td>\n",
       "      <td>-0.186483</td>\n",
       "      <td>-0.143880</td>\n",
       "      <td>43.198456</td>\n",
       "      <td>60.0</td>\n",
       "      <td>-1.285006e-05</td>\n",
       "      <td>85.4</td>\n",
       "      <td>156</td>\n",
       "    </tr>\n",
       "    <tr>\n",
       "      <th>99</th>\n",
       "      <td>30.459519</td>\n",
       "      <td>8.741143</td>\n",
       "      <td>8.718227</td>\n",
       "      <td>8.651756</td>\n",
       "      <td>8.712503</td>\n",
       "      <td>218.261447</td>\n",
       "      <td>189.666757</td>\n",
       "      <td>7.138593e-20</td>\n",
       "      <td>0.0</td>\n",
       "      <td>0.001317</td>\n",
       "      <td>...</td>\n",
       "      <td>110.918720</td>\n",
       "      <td>-0.295908</td>\n",
       "      <td>-0.229464</td>\n",
       "      <td>-0.177796</td>\n",
       "      <td>-0.148053</td>\n",
       "      <td>43.206099</td>\n",
       "      <td>60.0</td>\n",
       "      <td>2.867083e-05</td>\n",
       "      <td>85.4</td>\n",
       "      <td>156</td>\n",
       "    </tr>\n",
       "    <tr>\n",
       "      <th>99</th>\n",
       "      <td>30.473445</td>\n",
       "      <td>8.720518</td>\n",
       "      <td>8.663853</td>\n",
       "      <td>8.677289</td>\n",
       "      <td>8.700146</td>\n",
       "      <td>237.444185</td>\n",
       "      <td>203.964687</td>\n",
       "      <td>-3.905100e-19</td>\n",
       "      <td>0.0</td>\n",
       "      <td>0.000686</td>\n",
       "      <td>...</td>\n",
       "      <td>110.907659</td>\n",
       "      <td>-0.289498</td>\n",
       "      <td>-0.232649</td>\n",
       "      <td>-0.189393</td>\n",
       "      <td>-0.147538</td>\n",
       "      <td>43.202258</td>\n",
       "      <td>60.0</td>\n",
       "      <td>1.162793e-05</td>\n",
       "      <td>85.4</td>\n",
       "      <td>156</td>\n",
       "    </tr>\n",
       "  </tbody>\n",
       "</table>\n",
       "<p>24780 rows × 3221 columns</p>\n",
       "</div>"
      ],
      "text/plain": [
       "        V0000     V0001     V0002     V0003     V0004       V0005       V0006  \\\n",
       "0   30.474394       NaN  8.714483  8.687399  8.721230  207.697895  165.865730   \n",
       "0   30.470463       NaN  8.682769  8.717135  8.682402  192.665080  191.006871   \n",
       "0   30.465427       NaN  8.663426  8.700049  8.734147  187.065171  192.700238   \n",
       "0   30.458532       NaN  8.714854  8.717174  8.699257  188.500036  180.150567   \n",
       "0   30.475773       NaN  8.735125  8.703167  8.721030  193.269046  195.984890   \n",
       "..        ...       ...       ...       ...       ...         ...         ...   \n",
       "99  30.467389  8.667824  8.688698  8.675708  8.677447  247.317747  235.228012   \n",
       "99  30.460052  8.701218  8.705593  8.677823  8.700603  225.258851  236.321720   \n",
       "99  30.452393  8.798497  8.702983  8.714415  8.674383  248.134756  219.790195   \n",
       "99  30.459519  8.741143  8.718227  8.651756  8.712503  218.261447  189.666757   \n",
       "99  30.473445  8.720518  8.663853  8.677289  8.700146  237.444185  203.964687   \n",
       "\n",
       "           V0007  V0008     V0009  ...       V5085     V5086     V5087  \\\n",
       "0  -6.018877e-19    0.0 -0.002136  ...  110.981328 -0.292202 -0.227825   \n",
       "0  -3.918758e-19    0.0  0.001710  ...  110.994106 -0.286190 -0.240191   \n",
       "0  -1.799179e-19    0.0  0.000493  ...  110.846185 -0.283542 -0.254116   \n",
       "0  -6.636971e-19    0.0  0.000318  ...  111.074215 -0.302789 -0.228363   \n",
       "0  -6.379752e-20    0.0 -0.000091  ...  110.839118 -0.296479 -0.249304   \n",
       "..           ...    ...       ...  ...         ...       ...       ...   \n",
       "99 -2.822292e-19    0.0  0.000271  ...  110.855242 -0.291317 -0.239526   \n",
       "99  5.962155e-19    0.0 -0.000625  ...  110.760693 -0.302359 -0.228090   \n",
       "99  4.982188e-19    0.0  0.000123  ...  110.843740 -0.302417 -0.237594   \n",
       "99  7.138593e-20    0.0  0.001317  ...  110.918720 -0.295908 -0.229464   \n",
       "99 -3.905100e-19    0.0  0.000686  ...  110.907659 -0.289498 -0.232649   \n",
       "\n",
       "       V5088     V5089      V5090  V5115         V5118  V5119  label  \n",
       "0  -0.199740 -0.155360  43.204967   60.0  1.421620e-05   85.4    110  \n",
       "0  -0.183798 -0.149832  43.189223   60.0 -6.114455e-06   85.4    110  \n",
       "0  -0.173975 -0.160714  43.193726   60.0 -1.813291e-05   85.4    110  \n",
       "0  -0.135186 -0.147648  43.207052   60.0 -5.745568e-07   85.4    110  \n",
       "0  -0.193827 -0.141245  43.200405   60.0  8.437883e-06   85.4    110  \n",
       "..       ...       ...        ...    ...           ...    ...    ...  \n",
       "99 -0.160873 -0.147279  43.192200   60.0 -5.678521e-06   85.4    156  \n",
       "99 -0.208819 -0.175458  43.206268   60.0  9.612709e-06   85.4    156  \n",
       "99 -0.186483 -0.143880  43.198456   60.0 -1.285006e-05   85.4    156  \n",
       "99 -0.177796 -0.148053  43.206099   60.0  2.867083e-05   85.4    156  \n",
       "99 -0.189393 -0.147538  43.202258   60.0  1.162793e-05   85.4    156  \n",
       "\n",
       "[24780 rows x 3221 columns]"
      ]
     },
     "execution_count": 58,
     "metadata": {},
     "output_type": "execute_result"
    }
   ],
   "source": [
    "train.loc[:, num_unique !=1]"
   ]
  },
  {
   "cell_type": "code",
   "execution_count": 59,
   "metadata": {},
   "outputs": [
    {
     "data": {
      "text/html": [
       "<div>\n",
       "<style scoped>\n",
       "    .dataframe tbody tr th:only-of-type {\n",
       "        vertical-align: middle;\n",
       "    }\n",
       "\n",
       "    .dataframe tbody tr th {\n",
       "        vertical-align: top;\n",
       "    }\n",
       "\n",
       "    .dataframe thead th {\n",
       "        text-align: right;\n",
       "    }\n",
       "</style>\n",
       "<table border=\"1\" class=\"dataframe\">\n",
       "  <thead>\n",
       "    <tr style=\"text-align: right;\">\n",
       "      <th></th>\n",
       "      <th>V0000</th>\n",
       "      <th>V0001</th>\n",
       "      <th>V0002</th>\n",
       "      <th>V0003</th>\n",
       "      <th>V0004</th>\n",
       "      <th>V0005</th>\n",
       "      <th>V0006</th>\n",
       "      <th>V0007</th>\n",
       "      <th>V0008</th>\n",
       "      <th>V0009</th>\n",
       "      <th>...</th>\n",
       "      <th>V5084</th>\n",
       "      <th>V5085</th>\n",
       "      <th>V5086</th>\n",
       "      <th>V5087</th>\n",
       "      <th>V5088</th>\n",
       "      <th>V5089</th>\n",
       "      <th>V5090</th>\n",
       "      <th>V5115</th>\n",
       "      <th>V5118</th>\n",
       "      <th>V5119</th>\n",
       "    </tr>\n",
       "  </thead>\n",
       "  <tbody>\n",
       "    <tr>\n",
       "      <th>1000</th>\n",
       "      <td>30.465741</td>\n",
       "      <td>8.618514</td>\n",
       "      <td>8.705075</td>\n",
       "      <td>8.730912</td>\n",
       "      <td>8.699214</td>\n",
       "      <td>181.327530</td>\n",
       "      <td>201.889419</td>\n",
       "      <td>2.393806e-19</td>\n",
       "      <td>0.0</td>\n",
       "      <td>0.003496</td>\n",
       "      <td>...</td>\n",
       "      <td>110.940222</td>\n",
       "      <td>110.849652</td>\n",
       "      <td>-0.294763</td>\n",
       "      <td>-0.229694</td>\n",
       "      <td>-0.172642</td>\n",
       "      <td>-0.181698</td>\n",
       "      <td>43.203640</td>\n",
       "      <td>60.0</td>\n",
       "      <td>0.000004</td>\n",
       "      <td>85.4</td>\n",
       "    </tr>\n",
       "    <tr>\n",
       "      <th>1000</th>\n",
       "      <td>30.477302</td>\n",
       "      <td>8.642689</td>\n",
       "      <td>8.713423</td>\n",
       "      <td>8.732450</td>\n",
       "      <td>8.694666</td>\n",
       "      <td>203.347675</td>\n",
       "      <td>155.790045</td>\n",
       "      <td>-1.808861e-19</td>\n",
       "      <td>0.0</td>\n",
       "      <td>0.001969</td>\n",
       "      <td>...</td>\n",
       "      <td>110.767512</td>\n",
       "      <td>110.853183</td>\n",
       "      <td>-0.286671</td>\n",
       "      <td>-0.232155</td>\n",
       "      <td>-0.177659</td>\n",
       "      <td>-0.164828</td>\n",
       "      <td>43.195677</td>\n",
       "      <td>60.0</td>\n",
       "      <td>0.000005</td>\n",
       "      <td>85.4</td>\n",
       "    </tr>\n",
       "    <tr>\n",
       "      <th>1000</th>\n",
       "      <td>30.478336</td>\n",
       "      <td>8.675928</td>\n",
       "      <td>8.729837</td>\n",
       "      <td>8.672877</td>\n",
       "      <td>8.710215</td>\n",
       "      <td>196.673652</td>\n",
       "      <td>227.039249</td>\n",
       "      <td>6.236627e-19</td>\n",
       "      <td>0.0</td>\n",
       "      <td>-0.002462</td>\n",
       "      <td>...</td>\n",
       "      <td>110.831842</td>\n",
       "      <td>110.935070</td>\n",
       "      <td>-0.299707</td>\n",
       "      <td>-0.249112</td>\n",
       "      <td>-0.193733</td>\n",
       "      <td>-0.170861</td>\n",
       "      <td>43.192395</td>\n",
       "      <td>60.0</td>\n",
       "      <td>0.000016</td>\n",
       "      <td>85.4</td>\n",
       "    </tr>\n",
       "    <tr>\n",
       "      <th>1000</th>\n",
       "      <td>30.462904</td>\n",
       "      <td>8.733765</td>\n",
       "      <td>8.706455</td>\n",
       "      <td>8.691974</td>\n",
       "      <td>8.696285</td>\n",
       "      <td>194.365551</td>\n",
       "      <td>167.436935</td>\n",
       "      <td>2.845012e-20</td>\n",
       "      <td>0.0</td>\n",
       "      <td>-0.000045</td>\n",
       "      <td>...</td>\n",
       "      <td>110.936369</td>\n",
       "      <td>110.873987</td>\n",
       "      <td>-0.284462</td>\n",
       "      <td>-0.240052</td>\n",
       "      <td>-0.166091</td>\n",
       "      <td>-0.164244</td>\n",
       "      <td>43.195476</td>\n",
       "      <td>60.0</td>\n",
       "      <td>-0.000010</td>\n",
       "      <td>85.4</td>\n",
       "    </tr>\n",
       "    <tr>\n",
       "      <th>1000</th>\n",
       "      <td>30.483675</td>\n",
       "      <td>8.807382</td>\n",
       "      <td>8.680733</td>\n",
       "      <td>8.713651</td>\n",
       "      <td>8.664766</td>\n",
       "      <td>205.369347</td>\n",
       "      <td>154.245975</td>\n",
       "      <td>-2.085638e-19</td>\n",
       "      <td>0.0</td>\n",
       "      <td>-0.000713</td>\n",
       "      <td>...</td>\n",
       "      <td>110.987712</td>\n",
       "      <td>110.927734</td>\n",
       "      <td>-0.283827</td>\n",
       "      <td>-0.230030</td>\n",
       "      <td>-0.228277</td>\n",
       "      <td>-0.139462</td>\n",
       "      <td>43.193896</td>\n",
       "      <td>60.0</td>\n",
       "      <td>-0.000008</td>\n",
       "      <td>85.4</td>\n",
       "    </tr>\n",
       "    <tr>\n",
       "      <th>...</th>\n",
       "      <td>...</td>\n",
       "      <td>...</td>\n",
       "      <td>...</td>\n",
       "      <td>...</td>\n",
       "      <td>...</td>\n",
       "      <td>...</td>\n",
       "      <td>...</td>\n",
       "      <td>...</td>\n",
       "      <td>...</td>\n",
       "      <td>...</td>\n",
       "      <td>...</td>\n",
       "      <td>...</td>\n",
       "      <td>...</td>\n",
       "      <td>...</td>\n",
       "      <td>...</td>\n",
       "      <td>...</td>\n",
       "      <td>...</td>\n",
       "      <td>...</td>\n",
       "      <td>...</td>\n",
       "      <td>...</td>\n",
       "      <td>...</td>\n",
       "    </tr>\n",
       "    <tr>\n",
       "      <th>999</th>\n",
       "      <td>30.496147</td>\n",
       "      <td>8.741427</td>\n",
       "      <td>8.653808</td>\n",
       "      <td>8.691350</td>\n",
       "      <td>8.726794</td>\n",
       "      <td>194.343888</td>\n",
       "      <td>202.876145</td>\n",
       "      <td>1.498980e-19</td>\n",
       "      <td>0.0</td>\n",
       "      <td>0.000421</td>\n",
       "      <td>...</td>\n",
       "      <td>110.880615</td>\n",
       "      <td>110.878885</td>\n",
       "      <td>-0.294877</td>\n",
       "      <td>-0.244443</td>\n",
       "      <td>-0.178633</td>\n",
       "      <td>-0.170736</td>\n",
       "      <td>43.204551</td>\n",
       "      <td>60.0</td>\n",
       "      <td>-0.000003</td>\n",
       "      <td>85.4</td>\n",
       "    </tr>\n",
       "    <tr>\n",
       "      <th>999</th>\n",
       "      <td>30.465789</td>\n",
       "      <td>8.738011</td>\n",
       "      <td>8.692180</td>\n",
       "      <td>8.687480</td>\n",
       "      <td>8.713029</td>\n",
       "      <td>227.858869</td>\n",
       "      <td>194.443682</td>\n",
       "      <td>-2.037335e-19</td>\n",
       "      <td>0.0</td>\n",
       "      <td>0.000515</td>\n",
       "      <td>...</td>\n",
       "      <td>110.882186</td>\n",
       "      <td>110.933750</td>\n",
       "      <td>-0.279949</td>\n",
       "      <td>-0.235735</td>\n",
       "      <td>-0.212362</td>\n",
       "      <td>-0.158467</td>\n",
       "      <td>43.195530</td>\n",
       "      <td>60.0</td>\n",
       "      <td>-0.000002</td>\n",
       "      <td>85.4</td>\n",
       "    </tr>\n",
       "    <tr>\n",
       "      <th>999</th>\n",
       "      <td>30.497398</td>\n",
       "      <td>8.789116</td>\n",
       "      <td>8.699522</td>\n",
       "      <td>8.644117</td>\n",
       "      <td>8.688202</td>\n",
       "      <td>173.354241</td>\n",
       "      <td>196.747357</td>\n",
       "      <td>3.434190e-19</td>\n",
       "      <td>0.0</td>\n",
       "      <td>0.002840</td>\n",
       "      <td>...</td>\n",
       "      <td>110.851891</td>\n",
       "      <td>110.861816</td>\n",
       "      <td>-0.302651</td>\n",
       "      <td>-0.253262</td>\n",
       "      <td>-0.192765</td>\n",
       "      <td>-0.141668</td>\n",
       "      <td>43.194715</td>\n",
       "      <td>60.0</td>\n",
       "      <td>-0.000005</td>\n",
       "      <td>85.4</td>\n",
       "    </tr>\n",
       "    <tr>\n",
       "      <th>999</th>\n",
       "      <td>30.477553</td>\n",
       "      <td>8.777890</td>\n",
       "      <td>8.692916</td>\n",
       "      <td>8.706419</td>\n",
       "      <td>8.721933</td>\n",
       "      <td>185.847562</td>\n",
       "      <td>183.511220</td>\n",
       "      <td>-2.195834e-19</td>\n",
       "      <td>0.0</td>\n",
       "      <td>0.000403</td>\n",
       "      <td>...</td>\n",
       "      <td>110.881880</td>\n",
       "      <td>110.846852</td>\n",
       "      <td>-0.289960</td>\n",
       "      <td>-0.242089</td>\n",
       "      <td>-0.217050</td>\n",
       "      <td>-0.155638</td>\n",
       "      <td>43.203071</td>\n",
       "      <td>60.0</td>\n",
       "      <td>0.000002</td>\n",
       "      <td>85.4</td>\n",
       "    </tr>\n",
       "    <tr>\n",
       "      <th>999</th>\n",
       "      <td>30.461397</td>\n",
       "      <td>8.765551</td>\n",
       "      <td>8.706180</td>\n",
       "      <td>8.734635</td>\n",
       "      <td>8.707176</td>\n",
       "      <td>174.794079</td>\n",
       "      <td>140.769596</td>\n",
       "      <td>2.587088e-19</td>\n",
       "      <td>0.0</td>\n",
       "      <td>0.000032</td>\n",
       "      <td>...</td>\n",
       "      <td>110.906786</td>\n",
       "      <td>110.842422</td>\n",
       "      <td>-0.299932</td>\n",
       "      <td>-0.232855</td>\n",
       "      <td>-0.213361</td>\n",
       "      <td>-0.189634</td>\n",
       "      <td>43.192680</td>\n",
       "      <td>60.0</td>\n",
       "      <td>0.000001</td>\n",
       "      <td>85.4</td>\n",
       "    </tr>\n",
       "  </tbody>\n",
       "</table>\n",
       "<p>21540 rows × 3220 columns</p>\n",
       "</div>"
      ],
      "text/plain": [
       "          V0000     V0001     V0002     V0003     V0004       V0005  \\\n",
       "1000  30.465741  8.618514  8.705075  8.730912  8.699214  181.327530   \n",
       "1000  30.477302  8.642689  8.713423  8.732450  8.694666  203.347675   \n",
       "1000  30.478336  8.675928  8.729837  8.672877  8.710215  196.673652   \n",
       "1000  30.462904  8.733765  8.706455  8.691974  8.696285  194.365551   \n",
       "1000  30.483675  8.807382  8.680733  8.713651  8.664766  205.369347   \n",
       "...         ...       ...       ...       ...       ...         ...   \n",
       "999   30.496147  8.741427  8.653808  8.691350  8.726794  194.343888   \n",
       "999   30.465789  8.738011  8.692180  8.687480  8.713029  227.858869   \n",
       "999   30.497398  8.789116  8.699522  8.644117  8.688202  173.354241   \n",
       "999   30.477553  8.777890  8.692916  8.706419  8.721933  185.847562   \n",
       "999   30.461397  8.765551  8.706180  8.734635  8.707176  174.794079   \n",
       "\n",
       "           V0006         V0007  V0008     V0009  ...       V5084       V5085  \\\n",
       "1000  201.889419  2.393806e-19    0.0  0.003496  ...  110.940222  110.849652   \n",
       "1000  155.790045 -1.808861e-19    0.0  0.001969  ...  110.767512  110.853183   \n",
       "1000  227.039249  6.236627e-19    0.0 -0.002462  ...  110.831842  110.935070   \n",
       "1000  167.436935  2.845012e-20    0.0 -0.000045  ...  110.936369  110.873987   \n",
       "1000  154.245975 -2.085638e-19    0.0 -0.000713  ...  110.987712  110.927734   \n",
       "...          ...           ...    ...       ...  ...         ...         ...   \n",
       "999   202.876145  1.498980e-19    0.0  0.000421  ...  110.880615  110.878885   \n",
       "999   194.443682 -2.037335e-19    0.0  0.000515  ...  110.882186  110.933750   \n",
       "999   196.747357  3.434190e-19    0.0  0.002840  ...  110.851891  110.861816   \n",
       "999   183.511220 -2.195834e-19    0.0  0.000403  ...  110.881880  110.846852   \n",
       "999   140.769596  2.587088e-19    0.0  0.000032  ...  110.906786  110.842422   \n",
       "\n",
       "         V5086     V5087     V5088     V5089      V5090  V5115     V5118  \\\n",
       "1000 -0.294763 -0.229694 -0.172642 -0.181698  43.203640   60.0  0.000004   \n",
       "1000 -0.286671 -0.232155 -0.177659 -0.164828  43.195677   60.0  0.000005   \n",
       "1000 -0.299707 -0.249112 -0.193733 -0.170861  43.192395   60.0  0.000016   \n",
       "1000 -0.284462 -0.240052 -0.166091 -0.164244  43.195476   60.0 -0.000010   \n",
       "1000 -0.283827 -0.230030 -0.228277 -0.139462  43.193896   60.0 -0.000008   \n",
       "...        ...       ...       ...       ...        ...    ...       ...   \n",
       "999  -0.294877 -0.244443 -0.178633 -0.170736  43.204551   60.0 -0.000003   \n",
       "999  -0.279949 -0.235735 -0.212362 -0.158467  43.195530   60.0 -0.000002   \n",
       "999  -0.302651 -0.253262 -0.192765 -0.141668  43.194715   60.0 -0.000005   \n",
       "999  -0.289960 -0.242089 -0.217050 -0.155638  43.203071   60.0  0.000002   \n",
       "999  -0.299932 -0.232855 -0.213361 -0.189634  43.192680   60.0  0.000001   \n",
       "\n",
       "      V5119  \n",
       "1000   85.4  \n",
       "1000   85.4  \n",
       "1000   85.4  \n",
       "1000   85.4  \n",
       "1000   85.4  \n",
       "...     ...  \n",
       "999    85.4  \n",
       "999    85.4  \n",
       "999    85.4  \n",
       "999    85.4  \n",
       "999    85.4  \n",
       "\n",
       "[21540 rows x 3220 columns]"
      ]
     },
     "execution_count": 59,
     "metadata": {},
     "output_type": "execute_result"
    }
   ],
   "source": [
    "test.loc[:, num_unique != 1]"
   ]
  },
  {
   "cell_type": "markdown",
   "metadata": {},
   "source": [
    "### Ablation Study(두 실험의 차이를 봄으로써 특정 변수의 영향력을 파악하는 실험)를 위한 함수 정의\n",
    "\n",
    "1. 약 5000개의 변수를 사용했을 때보다, 3000개의 변수만 사용하면 성능이 좋아질까?\n",
    "2. 주어진 모델 조건은 동일, 사용하는 훈련데이터셋만 변경"
   ]
  },
  {
   "cell_type": "code",
   "execution_count": 60,
   "metadata": {},
   "outputs": [],
   "source": [
    "# 실험할 때마다 코드를 짜면 비효율적이므로 함수를 정의해서 사용\n",
    "def validate_model(df):#df가 입력값\n",
    "    \n",
    "    model = RandomForestClassifier(random_state=0, verbose=1, n_jobs=-1)\n",
    "    \n",
    "    X_train = df.drop('label', axis = 1)\n",
    "    y_train = df['label']\n",
    "    \n",
    "    \n",
    "    model.fit(X_train, y_train)\n",
    "    \n",
    "    \n",
    "    return model "
   ]
  },
  {
   "cell_type": "code",
   "execution_count": 63,
   "metadata": {},
   "outputs": [
    {
     "name": "stderr",
     "output_type": "stream",
     "text": [
      "[Parallel(n_jobs=-1)]: Using backend ThreadingBackend with 8 concurrent workers.\n",
      "[Parallel(n_jobs=-1)]: Done  34 tasks      | elapsed:  1.5min\n",
      "[Parallel(n_jobs=-1)]: Done 100 out of 100 | elapsed:  3.8min finished\n"
     ]
    }
   ],
   "source": [
    "model_1 = validate_model(train.loc[:, train.nunique() != 1])\n",
    "# 칼럼별 unique한 값이 1인 것을 제외하고 train "
   ]
  },
  {
   "cell_type": "code",
   "execution_count": 64,
   "metadata": {},
   "outputs": [],
   "source": [
    "def predict_model(model, df):\n",
    "    \n",
    "    pred = model.predict_proba(df)\n",
    "    submission = pd.DataFrame(data=pred)\n",
    "    submission.index = df.index\n",
    "    submission.index.name = 'id'\n",
    "    submission = submission.sort_index()\n",
    "    submission = submission.groupby('id').mean()\n",
    "    \n",
    "    return submission"
   ]
  },
  {
   "cell_type": "code",
   "execution_count": 65,
   "metadata": {},
   "outputs": [
    {
     "name": "stderr",
     "output_type": "stream",
     "text": [
      "[Parallel(n_jobs=8)]: Using backend ThreadingBackend with 8 concurrent workers.\n",
      "[Parallel(n_jobs=8)]: Done  34 tasks      | elapsed:    1.4s\n",
      "[Parallel(n_jobs=8)]: Done 100 out of 100 | elapsed:    3.7s finished\n"
     ]
    }
   ],
   "source": [
    "submit = predict_model(model_1, test.loc[:, train.nunique() != 1])"
   ]
  },
  {
   "cell_type": "markdown",
   "metadata": {
    "colab_type": "text",
    "id": "jwLtCHGC2lnb",
    "toc-hr-collapsed": false
   },
   "source": [
    "# 모델 평가지표\n",
    "- 관측치별로 실제답안에 해당하는 확률값을 음의로그 취하고, 평균을 낸다.\n",
    "- loss가 들어간 지표는 값이 작을수록 좋은 성능.\n",
    "- 단순히 accuracy로 성능을 평가하면 확률이 반영이 안됨. 따라서 적합하지 않을 수도 있다. 예를들어 99%의 확률로 문제를 맞춘 사람과 20%확률로 문제를 맞춘 사람은 분명 다른 성능을 가져야 하지만 단순히 accuracy로 성능을 평가하면 이 두사람이 같은 성능으로 평가 될 수 있기 때문\n",
    "- 따라서 log loss 개념을 도입\n",
    "- Log loss : 모델이 예측한 확률값을 직접적으로 반영하여 평가, 확률값을 음의log함수에 넣어서 변환을 시킨 값으로 평가 ->잘못예측할수록, 패널티를부여하기위함(직관적 해석)"
   ]
  },
  {
   "cell_type": "code",
   "execution_count": 1,
   "metadata": {},
   "outputs": [],
   "source": [
    "y_pred = [[0.99, 0, 0.01, 0, 0],\n",
    "[0.2, 0.1, 0.3, 0.2 , 0.2],\n",
    "[0.1, 0.6, 0.1, 0.1, 0.1],\n",
    "[0.5, 0.2, 0.1, 0.1, 0.1]]"
   ]
  },
  {
   "cell_type": "code",
   "execution_count": 2,
   "metadata": {},
   "outputs": [],
   "source": [
    "y_true = [[1,0,0,0,0],\n",
    "[0,0,1,0,0],\n",
    "[0,1,0,0,0],\n",
    "[0,0,0,0,1]]\n",
    "#1이 위치해있는 곳이 정답 레이블"
   ]
  },
  {
   "cell_type": "code",
   "execution_count": 28,
   "metadata": {},
   "outputs": [],
   "source": [
    "from sklearn.metrics import log_loss"
   ]
  },
  {
   "cell_type": "code",
   "execution_count": 4,
   "metadata": {},
   "outputs": [
    {
     "data": {
      "text/plain": [
       "1.0068584642348692"
      ]
     },
     "execution_count": 4,
     "metadata": {},
     "output_type": "execute_result"
    }
   ],
   "source": [
    "log_loss(y_true, y_pred)"
   ]
  },
  {
   "cell_type": "code",
   "execution_count": 30,
   "metadata": {},
   "outputs": [],
   "source": [
    "from math import log"
   ]
  },
  {
   "cell_type": "code",
   "execution_count": 29,
   "metadata": {},
   "outputs": [],
   "source": [
    "import numpy as np"
   ]
  },
  {
   "cell_type": "code",
   "execution_count": 7,
   "metadata": {},
   "outputs": [
    {
     "data": {
      "text/plain": [
       "1.0068584642348684"
      ]
     },
     "execution_count": 7,
     "metadata": {},
     "output_type": "execute_result"
    }
   ],
   "source": [
    "-(log(0.99) + log(0.3) + log(0.6) + log(0.1)) / 4"
   ]
  },
  {
   "cell_type": "markdown",
   "metadata": {},
   "source": [
    "# 검증셋 구축"
   ]
  },
  {
   "cell_type": "markdown",
   "metadata": {},
   "source": [
    "CV 스코어랑 LB 스코어가 어떻게 되시나요?\n",
    "\n",
    "- cross validation score\n",
    "- leaderboard score\n",
    "- A변화를 줬을 때, CV가 올라갔다, LB가 올라갔다 (이상적인) -> CV내려갈 때, LB도 내려가는 경우\n",
    "- A변화를 줬을 때, CV가 올라갈 때 LB가 내려가는 혹은 CV가 내려갈 때 LB가 올라가는 -> (최악)\n",
    "- validation을 통해 평가지표 성능평가 가능(제출안하고 자체적으로)"
   ]
  },
  {
   "cell_type": "code",
   "execution_count": 6,
   "metadata": {},
   "outputs": [],
   "source": [
    "import os\n",
    "import pandas as pd \n",
    "import numpy as np\n",
    "import multiprocessing # 여러 개의 일꾼 (cpu)들에게 작업을 분산시키는 역할\n",
    "from multiprocessing import Pool \n",
    "from functools import partial # 함수가 받는 인자들 중 몇개를 고정 시켜서 새롭게 파생된 함수를 형성하는 역할\n",
    "from data_loader_v2 import data_loader_v2 # 자체적으로 만든 data loader version 2.0 ([데이콘 15회 대회] 데이터 설명 및 데이터 불러오기 영상 참조)\n",
    "from tqdm import tqdm"
   ]
  },
  {
   "cell_type": "code",
   "execution_count": 7,
   "metadata": {},
   "outputs": [],
   "source": [
    "train_folder = '../train/'\n",
    "test_folder = '../test/'\n",
    "train_label_path = '../etc/train_label.csv'\n",
    "\n",
    "train_list = os.listdir(train_folder)\n",
    "test_list = os.listdir(test_folder)\n",
    "train_label = pd.read_csv(train_label_path, index_col=0)"
   ]
  },
  {
   "cell_type": "code",
   "execution_count": 8,
   "metadata": {},
   "outputs": [],
   "source": [
    "# 모든 csv 파일의 상태_B로 변화는 시점이 같다라고 가정\n",
    "# 하지만, 개별 csv파일의 상태_B로 변화는 시점은 상이할 수 있음\n",
    "def data_loader_all_v2(func, files, folder='', train_label=None, event_time=10, nrows=60):   \n",
    "    func_fixed = partial(func, folder=folder, train_label=train_label, event_time=event_time, nrows=nrows)     \n",
    "    if __name__ == '__main__':\n",
    "        pool = Pool(processes=multiprocessing.cpu_count()) \n",
    "        df_list = list(tqdm(pool.imap(func_fixed, files), total = len(files)))\n",
    "        pool.close()\n",
    "        pool.join()       \n",
    "    combined_df = pd.concat(df_list)    \n",
    "    return combined_df"
   ]
  },
  {
   "cell_type": "markdown",
   "metadata": {},
   "source": [
    "## 데이터 불러오기"
   ]
  },
  {
   "cell_type": "code",
   "execution_count": 9,
   "metadata": {},
   "outputs": [
    {
     "name": "stderr",
     "output_type": "stream",
     "text": [
      "100%|██████████| 826/826 [01:47<00:00,  7.65it/s]\n"
     ]
    }
   ],
   "source": [
    "train = data_loader_all_v2(data_loader_v2, train_list, folder=train_folder, train_label=train_label, event_time=10, nrows=40)"
   ]
  },
  {
   "cell_type": "code",
   "execution_count": 10,
   "metadata": {},
   "outputs": [
    {
     "name": "stderr",
     "output_type": "stream",
     "text": [
      "100%|██████████| 718/718 [01:33<00:00,  7.68it/s]\n"
     ]
    }
   ],
   "source": [
    "test = data_loader_all_v2(data_loader_v2, test_list, folder=test_folder, train_label=None, event_time=10, nrows=40)"
   ]
  },
  {
   "cell_type": "code",
   "execution_count": 11,
   "metadata": {},
   "outputs": [],
   "source": [
    "import time\n",
    "import pandas as pd"
   ]
  },
  {
   "cell_type": "code",
   "execution_count": null,
   "metadata": {},
   "outputs": [],
   "source": [
    "#start = time.time()\n",
    "#train = pd.read_csv('../train.csv', index_col = 0)\n",
    "#test = pd.read_csv('../test.csv', index_col = 0)\n",
    "#print(time.time() - start)"
   ]
  },
  {
   "cell_type": "markdown",
   "metadata": {},
   "source": [
    "## 데이터 분리 (train, val)"
   ]
  },
  {
   "cell_type": "code",
   "execution_count": 13,
   "metadata": {},
   "outputs": [
    {
     "data": {
      "text/plain": [
       "110    0.029056\n",
       "17     0.025424\n",
       "118    0.024213\n",
       "114    0.024213\n",
       "117    0.023002\n",
       "         ...   \n",
       "137    0.001211\n",
       "153    0.001211\n",
       "185    0.001211\n",
       "42     0.001211\n",
       "135    0.001211\n",
       "Name: label, Length: 198, dtype: float64"
      ]
     },
     "execution_count": 13,
     "metadata": {},
     "output_type": "execute_result"
    }
   ],
   "source": [
    "train['label'].value_counts() / train['label'].value_counts().sum()"
   ]
  },
  {
   "cell_type": "markdown",
   "metadata": {},
   "source": [
    "### 랜덤하게 train test split"
   ]
  },
  {
   "cell_type": "code",
   "execution_count": 14,
   "metadata": {},
   "outputs": [],
   "source": [
    "from sklearn.model_selection import train_test_split #한번만 분리"
   ]
  },
  {
   "cell_type": "code",
   "execution_count": 15,
   "metadata": {},
   "outputs": [],
   "source": [
    "X_train = train.drop(['label'], axis=1)\n",
    "y_train = train['label']"
   ]
  },
  {
   "cell_type": "code",
   "execution_count": 16,
   "metadata": {},
   "outputs": [],
   "source": [
    "X_trn, X_val, y_trn, y_val = train_test_split(X_train, y_train, test_size = 0.2, shuffle = True, random_state = 0)\n",
    "#test_size = 0.2 비율로(20%)->여기서는 X_val이랑 y_val이 test의 예측값이랑 label값, 순서에 영향이 없으니까 shuffle을 해줌"
   ]
  },
  {
   "cell_type": "code",
   "execution_count": 17,
   "metadata": {},
   "outputs": [
    {
     "data": {
      "text/plain": [
       "((19824, 5121), (4956, 5121), (19824,), (4956,))"
      ]
     },
     "execution_count": 17,
     "metadata": {},
     "output_type": "execute_result"
    }
   ],
   "source": [
    "X_trn.shape, X_val.shape, y_trn.shape, y_val.shape"
   ]
  },
  {
   "cell_type": "code",
   "execution_count": 18,
   "metadata": {},
   "outputs": [],
   "source": [
    "from sklearn.ensemble import RandomForestClassifier"
   ]
  },
  {
   "cell_type": "code",
   "execution_count": 19,
   "metadata": {},
   "outputs": [],
   "source": [
    "# 모델 학습 사용자 함수로 따로 정의(편의를 위해)\n",
    "def train_model(X, y):\n",
    "    \n",
    "    model = RandomForestClassifier(random_state=0, verbose=1, n_jobs=-1)\n",
    "    model.fit(X, y)\n",
    "    \n",
    "    return model"
   ]
  },
  {
   "cell_type": "code",
   "execution_count": 20,
   "metadata": {},
   "outputs": [
    {
     "name": "stderr",
     "output_type": "stream",
     "text": [
      "[Parallel(n_jobs=-1)]: Using backend ThreadingBackend with 8 concurrent workers.\n",
      "[Parallel(n_jobs=-1)]: Done  34 tasks      | elapsed:   52.7s\n",
      "[Parallel(n_jobs=-1)]: Done 100 out of 100 | elapsed:  2.2min finished\n"
     ]
    }
   ],
   "source": [
    "model = train_model(X_trn, y_trn)"
   ]
  },
  {
   "cell_type": "code",
   "execution_count": 21,
   "metadata": {},
   "outputs": [
    {
     "data": {
      "text/plain": [
       "137    26\n",
       "153    27\n",
       "42     24\n",
       "Name: label, dtype: int64"
      ]
     },
     "execution_count": 21,
     "metadata": {},
     "output_type": "execute_result"
    }
   ],
   "source": [
    "y_trn.value_counts()[[137, 153, 42]]"
   ]
  },
  {
   "cell_type": "markdown",
   "metadata": {},
   "source": [
    "다행히도 198개의 라벨이 모두 있습니다."
   ]
  },
  {
   "cell_type": "code",
   "execution_count": 22,
   "metadata": {},
   "outputs": [
    {
     "name": "stderr",
     "output_type": "stream",
     "text": [
      "[Parallel(n_jobs=8)]: Using backend ThreadingBackend with 8 concurrent workers.\n",
      "[Parallel(n_jobs=8)]: Done  34 tasks      | elapsed:    0.2s\n",
      "[Parallel(n_jobs=8)]: Done 100 out of 100 | elapsed:    0.8s finished\n"
     ]
    }
   ],
   "source": [
    "y_pred = model.predict_proba(X_val)"
   ]
  },
  {
   "cell_type": "code",
   "execution_count": 23,
   "metadata": {},
   "outputs": [
    {
     "data": {
      "text/plain": [
       "array([180, 110,  80, ..., 166, 134, 116], dtype=int64)"
      ]
     },
     "execution_count": 23,
     "metadata": {},
     "output_type": "execute_result"
    }
   ],
   "source": [
    "y_val.values \n",
    "# 현재 data형태가 y_pred랑 다름 따라서 67, 68, 83...번째 값에 1이 들어가게 형태 변환해야 함.(위에 코드 y_true처럼)"
   ]
  },
  {
   "cell_type": "code",
   "execution_count": 25,
   "metadata": {},
   "outputs": [],
   "source": [
    "from sklearn.preprocessing import label_binarize \n",
    "y_val_binarize = label_binarize(y_val, classes = range(198))\n",
    "# 현재 data형태가 y_pred랑 다름 따라서 67, 68, 83...번째 값에 1이 들어가게 형태 변환 -> 이 일을 label_binarize 이 친구가 해줌."
   ]
  },
  {
   "cell_type": "code",
   "execution_count": 26,
   "metadata": {},
   "outputs": [
    {
     "data": {
      "text/plain": [
       "array([0, 0, 0, 0, 0, 0, 0, 0, 0, 0, 0, 0, 0, 0, 0, 0, 0, 0, 0, 0, 0, 0,\n",
       "       0, 0, 0, 0, 0, 0, 0, 0, 0, 0, 0, 0, 0, 0, 0, 0, 0, 0, 0, 0, 0, 0,\n",
       "       0, 0, 0, 0, 0, 0, 0, 0, 0, 0, 0, 0, 0, 0, 0, 0, 0, 0, 0, 0, 0, 0,\n",
       "       0, 0, 0, 0, 0, 0, 0, 0, 0, 0, 0, 0, 0, 0, 0, 0, 0, 0, 0, 0, 0, 0,\n",
       "       0, 0, 0, 0, 0, 0, 0, 0, 0, 0, 0, 0, 0, 0, 0, 0, 0, 0, 0, 0, 0, 0,\n",
       "       0, 0, 0, 0, 0, 0, 1, 0, 0, 0, 0, 0, 0, 0, 0, 0, 0, 0, 0, 0, 0, 0,\n",
       "       0, 0, 0, 0, 0, 0, 0, 0, 0, 0, 0, 0, 0, 0, 0, 0, 0, 0, 0, 0, 0, 0,\n",
       "       0, 0, 0, 0, 0, 0, 0, 0, 0, 0, 0, 0, 0, 0, 0, 0, 0, 0, 0, 0, 0, 0,\n",
       "       0, 0, 0, 0, 0, 0, 0, 0, 0, 0, 0, 0, 0, 0, 0, 0, 0, 0, 0, 0, 0, 0])"
      ]
     },
     "execution_count": 26,
     "metadata": {},
     "output_type": "execute_result"
    }
   ],
   "source": [
    "y_val_binarize[-1]"
   ]
  },
  {
   "cell_type": "code",
   "execution_count": 31,
   "metadata": {},
   "outputs": [
    {
     "data": {
      "text/plain": [
       "0.85681037774004"
      ]
     },
     "execution_count": 31,
     "metadata": {},
     "output_type": "execute_result"
    }
   ],
   "source": [
    "log_loss(y_val_binarize, y_pred)"
   ]
  },
  {
   "cell_type": "markdown",
   "metadata": {},
   "source": [
    "### Stratified K fold\n",
    "- 8대2로 나누는 걸 총 5번해서 k-fold 교차 검증 cross-validation을 해준다. →데이터의 편향적인 문제에서 벗어나서 모델을 객관적으로 평가 가능."
   ]
  },
  {
   "cell_type": "code",
   "execution_count": 32,
   "metadata": {},
   "outputs": [],
   "source": [
    "from sklearn.model_selection import StratifiedKFold \n",
    "skf = StratifiedKFold(n_splits=5) #skf라는 객체 생성\n",
    "# y_train에서 데이터 개수가 다르기 때문에 특히 적은 개수의 데이터에서 분리 할때 훈련할 데이터랑 label데이터랑 적합하게 분리 해야함.\n",
    "# y_train에서 y_val 비율을 똑같이 줘서 split하기위해 StratifiedKFold을 도입."
   ]
  },
  {
   "cell_type": "code",
   "execution_count": 33,
   "metadata": {},
   "outputs": [
    {
     "name": "stderr",
     "output_type": "stream",
     "text": [
      "[Parallel(n_jobs=-1)]: Using backend ThreadingBackend with 8 concurrent workers.\n",
      "[Parallel(n_jobs=-1)]: Done  34 tasks      | elapsed:   51.2s\n",
      "[Parallel(n_jobs=-1)]: Done 100 out of 100 | elapsed:  2.3min finished\n",
      "[Parallel(n_jobs=8)]: Using backend ThreadingBackend with 8 concurrent workers.\n",
      "[Parallel(n_jobs=8)]: Done  34 tasks      | elapsed:    0.2s\n",
      "[Parallel(n_jobs=8)]: Done 100 out of 100 | elapsed:    0.7s finished\n"
     ]
    },
    {
     "name": "stdout",
     "output_type": "stream",
     "text": [
      "2.5810973867760394\n"
     ]
    },
    {
     "name": "stderr",
     "output_type": "stream",
     "text": [
      "[Parallel(n_jobs=-1)]: Using backend ThreadingBackend with 8 concurrent workers.\n",
      "[Parallel(n_jobs=-1)]: Done  34 tasks      | elapsed:   45.8s\n",
      "[Parallel(n_jobs=-1)]: Done 100 out of 100 | elapsed:  2.1min finished\n",
      "[Parallel(n_jobs=8)]: Using backend ThreadingBackend with 8 concurrent workers.\n",
      "[Parallel(n_jobs=8)]: Done  34 tasks      | elapsed:    0.2s\n",
      "[Parallel(n_jobs=8)]: Done 100 out of 100 | elapsed:    0.7s finished\n"
     ]
    },
    {
     "name": "stdout",
     "output_type": "stream",
     "text": [
      "1.2979184622826172\n"
     ]
    },
    {
     "name": "stderr",
     "output_type": "stream",
     "text": [
      "[Parallel(n_jobs=-1)]: Using backend ThreadingBackend with 8 concurrent workers.\n",
      "[Parallel(n_jobs=-1)]: Done  34 tasks      | elapsed:   47.7s\n",
      "[Parallel(n_jobs=-1)]: Done 100 out of 100 | elapsed:  2.0min finished\n",
      "[Parallel(n_jobs=8)]: Using backend ThreadingBackend with 8 concurrent workers.\n",
      "[Parallel(n_jobs=8)]: Done  34 tasks      | elapsed:    0.2s\n",
      "[Parallel(n_jobs=8)]: Done 100 out of 100 | elapsed:    0.7s finished\n"
     ]
    },
    {
     "name": "stdout",
     "output_type": "stream",
     "text": [
      "1.4759451623544992\n"
     ]
    },
    {
     "name": "stderr",
     "output_type": "stream",
     "text": [
      "[Parallel(n_jobs=-1)]: Using backend ThreadingBackend with 8 concurrent workers.\n",
      "[Parallel(n_jobs=-1)]: Done  34 tasks      | elapsed:   47.9s\n",
      "[Parallel(n_jobs=-1)]: Done 100 out of 100 | elapsed:  2.2min finished\n",
      "[Parallel(n_jobs=8)]: Using backend ThreadingBackend with 8 concurrent workers.\n",
      "[Parallel(n_jobs=8)]: Done  34 tasks      | elapsed:    0.2s\n",
      "[Parallel(n_jobs=8)]: Done 100 out of 100 | elapsed:    0.7s finished\n"
     ]
    },
    {
     "name": "stdout",
     "output_type": "stream",
     "text": [
      "1.076387031999419\n"
     ]
    },
    {
     "name": "stderr",
     "output_type": "stream",
     "text": [
      "[Parallel(n_jobs=-1)]: Using backend ThreadingBackend with 8 concurrent workers.\n",
      "[Parallel(n_jobs=-1)]: Done  34 tasks      | elapsed:   47.1s\n",
      "[Parallel(n_jobs=-1)]: Done 100 out of 100 | elapsed:  2.1min finished\n",
      "[Parallel(n_jobs=8)]: Using backend ThreadingBackend with 8 concurrent workers.\n",
      "[Parallel(n_jobs=8)]: Done  34 tasks      | elapsed:    0.3s\n",
      "[Parallel(n_jobs=8)]: Done 100 out of 100 | elapsed:    0.8s finished\n"
     ]
    },
    {
     "name": "stdout",
     "output_type": "stream",
     "text": [
      "1.6458908916313975\n"
     ]
    }
   ],
   "source": [
    "loss_list = []\n",
    "\n",
    "for trn_idx, val_idx in skf.split(X_train, y_train):\n",
    "    \n",
    "    X_trn, X_val, y_trn, y_val = X_train.iloc[trn_idx], X_train.iloc[val_idx], y_train.iloc[trn_idx], y_train.iloc[val_idx]\n",
    "    trained_model = train_model(X_trn, y_trn)\n",
    "    y_pred = trained_model.predict_proba(X_val)\n",
    "    y_val_binarize = label_binarize(y_val, classes = range(198))\n",
    "    loss = log_loss(y_val_binarize, y_pred)\n",
    "    print(loss)\n",
    "    loss_list.append(loss)"
   ]
  },
  {
   "cell_type": "code",
   "execution_count": 34,
   "metadata": {},
   "outputs": [
    {
     "name": "stdout",
     "output_type": "stream",
     "text": [
      "[2.5810973867760394, 1.2979184622826172, 1.4759451623544992, 1.076387031999419, 1.6458908916313975]\n",
      "1.6154477870087944\n"
     ]
    }
   ],
   "source": [
    "print(loss_list)\n",
    "print(np.mean(loss_list))"
   ]
  },
  {
   "cell_type": "code",
   "execution_count": 35,
   "metadata": {},
   "outputs": [
    {
     "data": {
      "text/plain": [
       "110    720\n",
       "17     630\n",
       "118    600\n",
       "114    600\n",
       "117    570\n",
       "      ... \n",
       "137     30\n",
       "153     30\n",
       "185     30\n",
       "42      30\n",
       "135     30\n",
       "Name: label, Length: 198, dtype: int64"
      ]
     },
     "execution_count": 35,
     "metadata": {},
     "output_type": "execute_result"
    }
   ],
   "source": [
    "y_train.value_counts()"
   ]
  },
  {
   "cell_type": "code",
   "execution_count": 36,
   "metadata": {},
   "outputs": [
    {
     "data": {
      "text/plain": [
       "576.0"
      ]
     },
     "execution_count": 36,
     "metadata": {},
     "output_type": "execute_result"
    }
   ],
   "source": [
    "720 * 0.8"
   ]
  },
  {
   "cell_type": "code",
   "execution_count": null,
   "metadata": {},
   "outputs": [],
   "source": [
    "y_trn.value_counts()"
   ]
  },
  {
   "cell_type": "code",
   "execution_count": null,
   "metadata": {},
   "outputs": [],
   "source": [
    "y_val.value_counts()"
   ]
  },
  {
   "cell_type": "markdown",
   "metadata": {},
   "source": [
    "밑부분은 아직 안배운것...들.."
   ]
  },
  {
   "cell_type": "code",
   "execution_count": 60,
   "metadata": {},
   "outputs": [],
   "source": [
    "import lightgbm as lgb"
   ]
  },
  {
   "cell_type": "code",
   "execution_count": 82,
   "metadata": {},
   "outputs": [],
   "source": [
    "model_lgb = lgb.LGBMClassifier(n_estimators=100)"
   ]
  },
  {
   "cell_type": "code",
   "execution_count": 94,
   "metadata": {},
   "outputs": [
    {
     "data": {
      "text/plain": [
       "LGBMClassifier()"
      ]
     },
     "execution_count": 94,
     "metadata": {},
     "output_type": "execute_result"
    }
   ],
   "source": [
    "model_lgb.fit(X_trn.iloc[:,:1000], y_trn, verbose = 10)"
   ]
  },
  {
   "cell_type": "code",
   "execution_count": 95,
   "metadata": {},
   "outputs": [],
   "source": [
    "lgb_pred = model_lgb.predict_proba(X_val.iloc[:,:1000])"
   ]
  }
 ],
 "metadata": {
  "kernelspec": {
   "display_name": "Python 3",
   "language": "python",
   "name": "python3"
  },
  "language_info": {
   "codemirror_mode": {
    "name": "ipython",
    "version": 3
   },
   "file_extension": ".py",
   "mimetype": "text/x-python",
   "name": "python",
   "nbconvert_exporter": "python",
   "pygments_lexer": "ipython3",
   "version": "3.8.3"
  },
  "toc": {
   "base_numbering": 1,
   "nav_menu": {},
   "number_sections": true,
   "sideBar": true,
   "skip_h1_title": false,
   "title_cell": "Table of Contents",
   "title_sidebar": "Contents",
   "toc_cell": false,
   "toc_position": {},
   "toc_section_display": true,
   "toc_window_display": true
  }
 },
 "nbformat": 4,
 "nbformat_minor": 4
}
