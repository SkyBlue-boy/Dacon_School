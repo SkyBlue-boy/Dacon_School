{
 "cells": [
  {
   "cell_type": "code",
   "execution_count": 1,
   "metadata": {},
   "outputs": [],
   "source": [
    "import pandas as pd\n",
    "from checker import *"
   ]
  },
  {
   "cell_type": "markdown",
   "metadata": {},
   "source": [
    "### 문제 1. pd.DataFrame의 행과 열의 수를 출력하는 명령어를 적어보세요"
   ]
  },
  {
   "cell_type": "markdown",
   "metadata": {},
   "source": [
    "None을 지우고 알맞은 답을 적어주세요"
   ]
  },
  {
   "cell_type": "code",
   "execution_count": 2,
   "metadata": {},
   "outputs": [],
   "source": [
    "def answer1(DataFrame) :\n",
    "    return DataFrame.shape # None을 지우고 알맞은 답을 적어주세요"
   ]
  },
  {
   "cell_type": "code",
   "execution_count": 3,
   "metadata": {},
   "outputs": [
    {
     "name": "stdout",
     "output_type": "stream",
     "text": [
      "정답입니다!! 다음 단계로 넘어가셔도 좋습니다.\n"
     ]
    }
   ],
   "source": [
    "# shift + enter를 눌러서 답이 맞는지 확인해보세요 \n",
    "checker1(answer1)"
   ]
  },
  {
   "cell_type": "markdown",
   "metadata": {},
   "source": [
    "### 문제 2. pd.DataFrame의 상위 5개의 행을 출력하는 명령어를 적어보세요"
   ]
  },
  {
   "cell_type": "code",
   "execution_count": 4,
   "metadata": {},
   "outputs": [],
   "source": [
    "def answer2(DataFrame) :\n",
    "    return DataFrame.head() # None을 지우고 알맞은 답을 적어주세요"
   ]
  },
  {
   "cell_type": "code",
   "execution_count": 5,
   "metadata": {},
   "outputs": [
    {
     "name": "stdout",
     "output_type": "stream",
     "text": [
      "정답입니다!! 다음 단계로 넘어가셔도 좋습니다.\n"
     ]
    }
   ],
   "source": [
    "# shift + enter를 눌러서 답이 맞는지 확인해보세요 \n",
    "checker2(answer2)"
   ]
  },
  {
   "cell_type": "markdown",
   "metadata": {},
   "source": [
    "### 문제 3. pd.Series의 고유값별 개수를 출력하는 명령어를 적어보세요."
   ]
  },
  {
   "cell_type": "code",
   "execution_count": 6,
   "metadata": {},
   "outputs": [],
   "source": [
    "def answer3(Series) :\n",
    "    return Series.value_counts() # None을 지우고 알맞은 답을 적어주세요"
   ]
  },
  {
   "cell_type": "code",
   "execution_count": 7,
   "metadata": {},
   "outputs": [
    {
     "name": "stdout",
     "output_type": "stream",
     "text": [
      "정답입니다!! 다음 단계로 넘어가셔도 좋습니다.\n"
     ]
    }
   ],
   "source": [
    "# shift + enter를 눌러서 답이 맞는지 확인해보세요 \n",
    "checker3(answer3)"
   ]
  },
  {
   "cell_type": "markdown",
   "metadata": {},
   "source": [
    "### 향후 문제를 위한 환경 설정"
   ]
  },
  {
   "cell_type": "code",
   "execution_count": 2,
   "metadata": {},
   "outputs": [],
   "source": [
    "import pandas as pd"
   ]
  },
  {
   "cell_type": "code",
   "execution_count": 17,
   "metadata": {},
   "outputs": [],
   "source": [
    "# 한글 나올 수 있도록 환경 설정 해주기 \n",
    "from matplotlib import font_manager, rc\n",
    "font_name = font_manager.FontProperties(fname=\"c:/Windows/Fonts/malgun.ttf\").get_name()\n",
    "rc('font', family=font_name)"
   ]
  },
  {
   "cell_type": "code",
   "execution_count": 3,
   "metadata": {},
   "outputs": [],
   "source": [
    "# column 여러개 볼 수 있도록 환경 설정 해주기 \n",
    "pd.set_option('display.max_columns', 500)\n",
    "pd.set_option('display.max_rows', 500)"
   ]
  },
  {
   "cell_type": "markdown",
   "metadata": {},
   "source": [
    "**서울특별시 표준지공시지가정보**\n",
    "- 데이터 출처: http://openapi.nsdi.go.kr/nsdi/eios/ServiceDetail.do?svcSe=F&svcId=F013&provOrg=NIDO"
   ]
  },
  {
   "cell_type": "code",
   "execution_count": 5,
   "metadata": {},
   "outputs": [
    {
     "name": "stderr",
     "output_type": "stream",
     "text": [
      "C:\\Users\\AhnSungJin\\Anaconda3\\lib\\site-packages\\IPython\\core\\interactiveshell.py:3063: DtypeWarning: Columns (0) have mixed types.Specify dtype option on import or set low_memory=False.\n",
      "  interactivity=interactivity, compiler=compiler, result=result)\n"
     ]
    }
   ],
   "source": [
    "budongsan = pd.read_csv('AL_11_D153_20190529.csv')"
   ]
  },
  {
   "cell_type": "markdown",
   "metadata": {},
   "source": [
    "### 문제 4. 부동산 데이터의 컬럼명을 확인해주세요."
   ]
  },
  {
   "cell_type": "code",
   "execution_count": 12,
   "metadata": {},
   "outputs": [
    {
     "data": {
      "text/plain": [
       "Index(['고유번호', '법정동코드', '법정동명', '특수지구분코드', '특수지구분명', '지번', '표준지일련번호', '기준년도',\n",
       "       '사업지구면적', '지목코드', '지목', '실제지목코드', '실제지목', '토지면적', '용도지역코드1', '용도지역명1',\n",
       "       '용도지역코드2', '용도지역명2', '용도지구코드1', '용도지구명1', '용도지구코드2', '용도지구명2', '저촉율',\n",
       "       '토지이용상황코드', '토지이용상황', '지형높이코드', '지형높이', '지형형상코드', '지형형상', '도로측면코드',\n",
       "       '도로측면', '도로거리코드', '도로거리', '공시지가', '표준지소유구분코드', '표준지소유구분명', '소유형태코드',\n",
       "       '소유형태명', '데이터기준일자'],\n",
       "      dtype='object')"
      ]
     },
     "execution_count": 12,
     "metadata": {},
     "output_type": "execute_result"
    }
   ],
   "source": [
    "budongsan.columns"
   ]
  },
  {
   "cell_type": "markdown",
   "metadata": {},
   "source": [
    "- 법정동명 중에서 행정구 이름만 따로 빼내어서 column 추가해주는 코드입니다. shift + enter로 한 번만 실행 시켜주세요"
   ]
  },
  {
   "cell_type": "code",
   "execution_count": 6,
   "metadata": {},
   "outputs": [
    {
     "data": {
      "text/plain": [
       "0         서울특별시 종로구 청운동\n",
       "1         서울특별시 종로구 청운동\n",
       "2         서울특별시 종로구 청운동\n",
       "3         서울특별시 종로구 청운동\n",
       "4         서울특별시 종로구 청운동\n",
       "              ...      \n",
       "233622    서울특별시 강동구 강일동\n",
       "233623    서울특별시 강동구 강일동\n",
       "233624    서울특별시 강동구 강일동\n",
       "233625    서울특별시 강동구 강일동\n",
       "233626    서울특별시 강동구 강일동\n",
       "Name: 법정동명, Length: 233627, dtype: object"
      ]
     },
     "execution_count": 6,
     "metadata": {},
     "output_type": "execute_result"
    }
   ],
   "source": [
    "budongsan.법정동명"
   ]
  },
  {
   "cell_type": "code",
   "execution_count": 11,
   "metadata": {},
   "outputs": [],
   "source": [
    "gu = []\n",
    "\n",
    "for text in budongsan.법정동명 :\n",
    "    gu.append(text.split()[1])\n",
    "    \n",
    "budongsan.insert(3, \"행정구\", gu)"
   ]
  },
  {
   "cell_type": "code",
   "execution_count": 12,
   "metadata": {},
   "outputs": [
    {
     "data": {
      "text/html": [
       "<div>\n",
       "<style scoped>\n",
       "    .dataframe tbody tr th:only-of-type {\n",
       "        vertical-align: middle;\n",
       "    }\n",
       "\n",
       "    .dataframe tbody tr th {\n",
       "        vertical-align: top;\n",
       "    }\n",
       "\n",
       "    .dataframe thead th {\n",
       "        text-align: right;\n",
       "    }\n",
       "</style>\n",
       "<table border=\"1\" class=\"dataframe\">\n",
       "  <thead>\n",
       "    <tr style=\"text-align: right;\">\n",
       "      <th></th>\n",
       "      <th>고유번호</th>\n",
       "      <th>법정동코드</th>\n",
       "      <th>법정동명</th>\n",
       "      <th>행정구</th>\n",
       "      <th>특수지구분코드</th>\n",
       "      <th>특수지구분명</th>\n",
       "      <th>지번</th>\n",
       "      <th>표준지일련번호</th>\n",
       "      <th>기준년도</th>\n",
       "      <th>사업지구면적</th>\n",
       "      <th>지목코드</th>\n",
       "      <th>지목</th>\n",
       "      <th>실제지목코드</th>\n",
       "      <th>실제지목</th>\n",
       "      <th>토지면적</th>\n",
       "      <th>용도지역코드1</th>\n",
       "      <th>용도지역명1</th>\n",
       "      <th>용도지역코드2</th>\n",
       "      <th>용도지역명2</th>\n",
       "      <th>용도지구코드1</th>\n",
       "      <th>용도지구명1</th>\n",
       "      <th>용도지구코드2</th>\n",
       "      <th>용도지구명2</th>\n",
       "      <th>저촉율</th>\n",
       "      <th>토지이용상황코드</th>\n",
       "      <th>토지이용상황</th>\n",
       "      <th>지형높이코드</th>\n",
       "      <th>지형높이</th>\n",
       "      <th>지형형상코드</th>\n",
       "      <th>지형형상</th>\n",
       "      <th>도로측면코드</th>\n",
       "      <th>도로측면</th>\n",
       "      <th>도로거리코드</th>\n",
       "      <th>도로거리</th>\n",
       "      <th>공시지가</th>\n",
       "      <th>표준지소유구분코드</th>\n",
       "      <th>표준지소유구분명</th>\n",
       "      <th>소유형태코드</th>\n",
       "      <th>소유형태명</th>\n",
       "      <th>데이터기준일자</th>\n",
       "    </tr>\n",
       "  </thead>\n",
       "  <tbody>\n",
       "    <tr>\n",
       "      <th>0</th>\n",
       "      <td>1111010100100030052</td>\n",
       "      <td>1111010100</td>\n",
       "      <td>서울특별시 종로구 청운동</td>\n",
       "      <td>종로구</td>\n",
       "      <td>1</td>\n",
       "      <td>일반</td>\n",
       "      <td>3-52</td>\n",
       "      <td>1</td>\n",
       "      <td>2012</td>\n",
       "      <td>0</td>\n",
       "      <td>22</td>\n",
       "      <td>공원</td>\n",
       "      <td>0.0</td>\n",
       "      <td>NaN</td>\n",
       "      <td>1021.5</td>\n",
       "      <td>43</td>\n",
       "      <td>자연녹지지역</td>\n",
       "      <td>0</td>\n",
       "      <td>지정되지않음</td>\n",
       "      <td>0</td>\n",
       "      <td>지정되지않음</td>\n",
       "      <td>0</td>\n",
       "      <td>지정되지않음</td>\n",
       "      <td>100</td>\n",
       "      <td>930</td>\n",
       "      <td>공원등</td>\n",
       "      <td>4</td>\n",
       "      <td>급경사</td>\n",
       "      <td>7</td>\n",
       "      <td>부정형</td>\n",
       "      <td>10</td>\n",
       "      <td>세로한면(불)</td>\n",
       "      <td>0</td>\n",
       "      <td>지정되지않음</td>\n",
       "      <td>346000</td>\n",
       "      <td>4.0</td>\n",
       "      <td>시.도유지</td>\n",
       "      <td>1</td>\n",
       "      <td>단독소유</td>\n",
       "      <td>2016-11-08</td>\n",
       "    </tr>\n",
       "    <tr>\n",
       "      <th>1</th>\n",
       "      <td>1111010100100030052</td>\n",
       "      <td>1111010100</td>\n",
       "      <td>서울특별시 종로구 청운동</td>\n",
       "      <td>종로구</td>\n",
       "      <td>1</td>\n",
       "      <td>일반</td>\n",
       "      <td>3-52</td>\n",
       "      <td>1</td>\n",
       "      <td>2013</td>\n",
       "      <td>0</td>\n",
       "      <td>22</td>\n",
       "      <td>공원</td>\n",
       "      <td>0.0</td>\n",
       "      <td>NaN</td>\n",
       "      <td>1021.5</td>\n",
       "      <td>43</td>\n",
       "      <td>자연녹지지역</td>\n",
       "      <td>0</td>\n",
       "      <td>지정되지않음</td>\n",
       "      <td>0</td>\n",
       "      <td>지정되지않음</td>\n",
       "      <td>0</td>\n",
       "      <td>지정되지않음</td>\n",
       "      <td>100</td>\n",
       "      <td>930</td>\n",
       "      <td>공원등</td>\n",
       "      <td>4</td>\n",
       "      <td>급경사</td>\n",
       "      <td>7</td>\n",
       "      <td>부정형</td>\n",
       "      <td>10</td>\n",
       "      <td>세로한면(불)</td>\n",
       "      <td>0</td>\n",
       "      <td>지정되지않음</td>\n",
       "      <td>350000</td>\n",
       "      <td>4.0</td>\n",
       "      <td>시.도유지</td>\n",
       "      <td>1</td>\n",
       "      <td>단독소유</td>\n",
       "      <td>2016-11-08</td>\n",
       "    </tr>\n",
       "  </tbody>\n",
       "</table>\n",
       "</div>"
      ],
      "text/plain": [
       "                  고유번호       법정동코드           법정동명  행정구  특수지구분코드 특수지구분명    지번  \\\n",
       "0  1111010100100030052  1111010100  서울특별시 종로구 청운동  종로구        1     일반  3-52   \n",
       "1  1111010100100030052  1111010100  서울특별시 종로구 청운동  종로구        1     일반  3-52   \n",
       "\n",
       "   표준지일련번호  기준년도  사업지구면적  지목코드  지목  실제지목코드 실제지목    토지면적  용도지역코드1  용도지역명1  \\\n",
       "0        1  2012       0    22  공원     0.0  NaN  1021.5       43  자연녹지지역   \n",
       "1        1  2013       0    22  공원     0.0  NaN  1021.5       43  자연녹지지역   \n",
       "\n",
       "   용도지역코드2  용도지역명2  용도지구코드1  용도지구명1  용도지구코드2  용도지구명2  저촉율  토지이용상황코드 토지이용상황  \\\n",
       "0        0  지정되지않음        0  지정되지않음        0  지정되지않음  100       930    공원등   \n",
       "1        0  지정되지않음        0  지정되지않음        0  지정되지않음  100       930    공원등   \n",
       "\n",
       "   지형높이코드 지형높이  지형형상코드 지형형상  도로측면코드     도로측면  도로거리코드    도로거리    공시지가  \\\n",
       "0       4  급경사       7  부정형      10  세로한면(불)       0  지정되지않음  346000   \n",
       "1       4  급경사       7  부정형      10  세로한면(불)       0  지정되지않음  350000   \n",
       "\n",
       "   표준지소유구분코드 표준지소유구분명  소유형태코드 소유형태명     데이터기준일자  \n",
       "0        4.0    시.도유지       1  단독소유  2016-11-08  \n",
       "1        4.0    시.도유지       1  단독소유  2016-11-08  "
      ]
     },
     "execution_count": 12,
     "metadata": {},
     "output_type": "execute_result"
    }
   ],
   "source": [
    "budongsan.head(2)"
   ]
  },
  {
   "cell_type": "code",
   "execution_count": 15,
   "metadata": {},
   "outputs": [
    {
     "data": {
      "text/plain": [
       "Index(['고유번호', '법정동코드', '법정동명', '행정구', '특수지구분코드', '특수지구분명', '지번', '표준지일련번호',\n",
       "       '기준년도', '사업지구면적', '지목코드', '지목', '실제지목코드', '실제지목', '토지면적', '용도지역코드1',\n",
       "       '용도지역명1', '용도지역코드2', '용도지역명2', '용도지구코드1', '용도지구명1', '용도지구코드2', '용도지구명2',\n",
       "       '저촉율', '토지이용상황코드', '토지이용상황', '지형높이코드', '지형높이', '지형형상코드', '지형형상',\n",
       "       '도로측면코드', '도로측면', '도로거리코드', '도로거리', '공시지가', '표준지소유구분코드', '표준지소유구분명',\n",
       "       '소유형태코드', '소유형태명', '데이터기준일자'],\n",
       "      dtype='object')"
      ]
     },
     "execution_count": 15,
     "metadata": {},
     "output_type": "execute_result"
    }
   ],
   "source": [
    "budongsan.columns"
   ]
  },
  {
   "cell_type": "markdown",
   "metadata": {},
   "source": [
    "### 문제 5. 공시지가의 분포를 히스토그램으로 확인해보세요.\n",
    "- bins는 50으로 설정해주세요.\n",
    "- 아래와 같은 답이 나와야 할 것입니다.\n",
    "\n",
    "![문제4](https://trello-attachments.s3.amazonaws.com/5c358486d947131b2985f510/5dd2a7df77d1306f0e489dbe/d0dc0b6805e79851c5cb8e5e01c3be30/%EB%AC%B8%EC%A0%9C4.png)"
   ]
  },
  {
   "cell_type": "code",
   "execution_count": 16,
   "metadata": {},
   "outputs": [
    {
     "data": {
      "text/plain": [
       "<matplotlib.axes._subplots.AxesSubplot at 0x2130650d5c0>"
      ]
     },
     "execution_count": 16,
     "metadata": {},
     "output_type": "execute_result"
    },
    {
     "data": {
      "image/png": "[encoded data removed]",
      "text/plain": [
       "<Figure size 432x288 with 1 Axes>"
      ]
     },
     "metadata": {
      "needs_background": "light"
     },
     "output_type": "display_data"
    }
   ],
   "source": [
    "# 답을 입력해 주세요\n",
    "budongsan['공시지가'].plot(kind = 'hist', bins = 50, grid = True)"
   ]
  },
  {
   "cell_type": "markdown",
   "metadata": {},
   "source": [
    "### 문제 6. 행정구별 공시지가 평균을 막대그래프로 시각화 해보세요.\n",
    "- 강의에서는 plot.bar을 배웠지만, 가로 막대 그래프를 그리기 위해서 본 문제에서는 plot.barh를 사용하세요.\n",
    "- figsize 는 (7,8)로 설정해주세요\n",
    "- 아래와 같은 답이 나와야 할 것입니다.\n",
    "\n",
    "![문제5](https://trello-attachments.s3.amazonaws.com/5c358486d947131b2985f510/5dd2a7df77d1306f0e489dbe/038c8334ba237f74b65258adcd738158/%EB%AC%B8%EC%A0%9C5.png)"
   ]
  },
  {
   "cell_type": "code",
   "execution_count": 19,
   "metadata": {},
   "outputs": [
    {
     "data": {
      "text/plain": [
       "행정구\n",
       "강남구     9.460946e+06\n",
       "강동구     4.095945e+06\n",
       "강북구     2.495818e+06\n",
       "강서구     2.934294e+06\n",
       "관악구     3.665058e+06\n",
       "광진구     3.839893e+06\n",
       "구로구     2.889085e+06\n",
       "금천구     2.614011e+06\n",
       "노원구     2.603418e+06\n",
       "도봉구     2.397304e+06\n",
       "동대문구    3.539751e+06\n",
       "동작구     3.830357e+06\n",
       "마포구     4.982502e+06\n",
       "서대문구    3.740735e+06\n",
       "서초구     6.432363e+06\n",
       "성동구     3.913231e+06\n",
       "성북구     3.086730e+06\n",
       "송파구     5.690023e+06\n",
       "양천구     3.236575e+06\n",
       "영등포구    3.806882e+06\n",
       "용산구     5.821773e+06\n",
       "은평구     2.961711e+06\n",
       "종로구     6.899769e+06\n",
       "중구      9.472921e+06\n",
       "중랑구     2.693566e+06\n",
       "Name: 공시지가, dtype: float64"
      ]
     },
     "execution_count": 19,
     "metadata": {},
     "output_type": "execute_result"
    }
   ],
   "source": [
    "budongsan.groupby('행정구')['공시지가'].mean()"
   ]
  },
  {
   "cell_type": "code",
   "execution_count": 22,
   "metadata": {},
   "outputs": [
    {
     "data": {
      "text/plain": [
       "<matplotlib.axes._subplots.AxesSubplot at 0x21306011f28>"
      ]
     },
     "execution_count": 22,
     "metadata": {},
     "output_type": "execute_result"
    },
    {
     "data": {
      "image/png": "[encoded data removed]",
      "text/plain": [
       "<Figure size 504x576 with 1 Axes>"
      ]
     },
     "metadata": {
      "needs_background": "light"
     },
     "output_type": "display_data"
    }
   ],
   "source": [
    "# 답을 입력해 주세요.\n",
    "budongsan.groupby('행정구')['공시지가'].mean().sort_values().plot(figsize = (7,8), kind = 'barh')"
   ]
  },
  {
   "cell_type": "markdown",
   "metadata": {},
   "source": [
    "### 문제 7. 기준년도별 공시지가 박스플롯을 그려보세요\n",
    "- figsize는 (7,8)로 설정해주세요\n",
    "- 아래와 같은 답이 나와야 할 것입니다. \n",
    "\n",
    "![문제 6](https://trello-attachments.s3.amazonaws.com/5c358486d947131b2985f510/5dd2a7df77d1306f0e489dbe/836bb00697885ff5a69ad49ed978458e/%EB%AC%B8%EC%A0%9C6.png)"
   ]
  },
  {
   "cell_type": "code",
   "execution_count": 20,
   "metadata": {},
   "outputs": [
    {
     "data": {
      "text/plain": [
       "<matplotlib.axes._subplots.AxesSubplot at 0x179b97d6518>"
      ]
     },
     "execution_count": 20,
     "metadata": {},
     "output_type": "execute_result"
    },
    {
     "data": {
      "image/png": "[encoded data removed]",
      "text/plain": [
       "<Figure size 504x576 with 1 Axes>"
      ]
     },
     "metadata": {
      "needs_background": "light"
     },
     "output_type": "display_data"
    }
   ],
   "source": [
    "# 답을 입력해 주세요.\n",
    "budongsan.boxplot(by = '기준년도', column = '공시지가', figsize = (7,8))"
   ]
  },
  {
   "cell_type": "markdown",
   "metadata": {},
   "source": [
    "### 문제 8. 토지면적과 공시지가 사이의 관계를 보여주는 산점도를 그려주세요."
   ]
  },
  {
   "cell_type": "code",
   "execution_count": 23,
   "metadata": {},
   "outputs": [
    {
     "data": {
      "text/plain": [
       "<matplotlib.axes._subplots.AxesSubplot at 0x1e92da74d30>"
      ]
     },
     "execution_count": 23,
     "metadata": {},
     "output_type": "execute_result"
    },
    {
     "data": {
      "image/png": "[encoded data removed]",
      "text/plain": [
       "<Figure size 432x288 with 1 Axes>"
      ]
     },
     "metadata": {
      "needs_background": "light"
     },
     "output_type": "display_data"
    }
   ],
   "source": [
    "budongsan.plot('토지면적', '공시지가', kind = 'scatter', alpha = 0.1)"
   ]
  },
  {
   "cell_type": "markdown",
   "metadata": {},
   "source": [
    "### 문제 9. 지형높이와 공시지가 간의 관계를 박스플롯으로 보여주세요."
   ]
  },
  {
   "cell_type": "code",
   "execution_count": 24,
   "metadata": {},
   "outputs": [
    {
     "data": {
      "text/plain": [
       "<matplotlib.axes._subplots.AxesSubplot at 0x179b9b07390>"
      ]
     },
     "execution_count": 24,
     "metadata": {},
     "output_type": "execute_result"
    },
    {
     "data": {
      "image/png": "[encoded data removed]",
      "text/plain": [
       "<Figure size 432x288 with 1 Axes>"
      ]
     },
     "metadata": {
      "needs_background": "light"
     },
     "output_type": "display_data"
    }
   ],
   "source": [
    "budongsan.boxplot(by ='지형높이', column='공시지가')"
   ]
  },
  {
   "cell_type": "markdown",
   "metadata": {},
   "source": [
    "### 문제 10. 공시지가와 지목 간의 관계를 박스플롯으로 보여주세요."
   ]
  },
  {
   "cell_type": "code",
   "execution_count": 25,
   "metadata": {},
   "outputs": [
    {
     "data": {
      "text/plain": [
       "<matplotlib.axes._subplots.AxesSubplot at 0x179b9de8160>"
      ]
     },
     "execution_count": 25,
     "metadata": {},
     "output_type": "execute_result"
    },
    {
     "data": {
      "image/png": "[encoded data removed]",
      "text/plain": [
       "<Figure size 1440x576 with 1 Axes>"
      ]
     },
     "metadata": {
      "needs_background": "light"
     },
     "output_type": "display_data"
    }
   ],
   "source": [
    "budongsan.boxplot('공시지가', '지목', figsize = (20, 8))"
   ]
  },
  {
   "cell_type": "markdown",
   "metadata": {},
   "source": [
    "### 문제 11. 토지면적과 지목간의 관계를 박스플롯으로 보여주세요."
   ]
  },
  {
   "cell_type": "code",
   "execution_count": 26,
   "metadata": {},
   "outputs": [
    {
     "data": {
      "text/plain": [
       "<matplotlib.axes._subplots.AxesSubplot at 0x179be33b908>"
      ]
     },
     "execution_count": 26,
     "metadata": {},
     "output_type": "execute_result"
    },
    {
     "data": {
      "image/png": "[encoded data removed]",
      "text/plain": [
       "<Figure size 1440x576 with 1 Axes>"
      ]
     },
     "metadata": {
      "needs_background": "light"
     },
     "output_type": "display_data"
    }
   ],
   "source": [
    "budongsan.boxplot('토지면적', '지목', figsize = (20, 8))"
   ]
  },
  {
   "cell_type": "markdown",
   "metadata": {},
   "source": [
    "### 문제 12. 8번 ~ 11번 문제를 풀면서 지형높이, 토지면적, 지목과 공시지가 사이의 관계에 대해서 알게 된 점을 서술해주세요."
   ]
  },
  {
   "cell_type": "markdown",
   "metadata": {},
   "source": [
    "- 평지에 있는 땅의 공시지가가 높은 편이다. 활용성이 높기 때문이라고 추측된다. \n",
    "- 토지면적이 넓은 땅은 상대적으로 값어치가 떨어지는 지목이기 때문에 공시지가가 낮게 측정 된다고 보여진다."
   ]
  },
  {
   "cell_type": "markdown",
   "metadata": {},
   "source": [
    "### 문제 13번. 지형높이, 토지면적, 지목, 공시지가 컬럼만 추출하여 train 변수에 저장해보세요."
   ]
  },
  {
   "cell_type": "code",
   "execution_count": 27,
   "metadata": {},
   "outputs": [
    {
     "data": {
      "text/html": [
       "<div>\n",
       "<style scoped>\n",
       "    .dataframe tbody tr th:only-of-type {\n",
       "        vertical-align: middle;\n",
       "    }\n",
       "\n",
       "    .dataframe tbody tr th {\n",
       "        vertical-align: top;\n",
       "    }\n",
       "\n",
       "    .dataframe thead th {\n",
       "        text-align: right;\n",
       "    }\n",
       "</style>\n",
       "<table border=\"1\" class=\"dataframe\">\n",
       "  <thead>\n",
       "    <tr style=\"text-align: right;\">\n",
       "      <th></th>\n",
       "      <th>지형높이</th>\n",
       "      <th>토지면적</th>\n",
       "      <th>지목</th>\n",
       "      <th>공시지가</th>\n",
       "    </tr>\n",
       "  </thead>\n",
       "  <tbody>\n",
       "    <tr>\n",
       "      <th>0</th>\n",
       "      <td>급경사</td>\n",
       "      <td>1021.5</td>\n",
       "      <td>공원</td>\n",
       "      <td>346000</td>\n",
       "    </tr>\n",
       "    <tr>\n",
       "      <th>1</th>\n",
       "      <td>급경사</td>\n",
       "      <td>1021.5</td>\n",
       "      <td>공원</td>\n",
       "      <td>350000</td>\n",
       "    </tr>\n",
       "    <tr>\n",
       "      <th>2</th>\n",
       "      <td>급경사</td>\n",
       "      <td>1021.5</td>\n",
       "      <td>공원</td>\n",
       "      <td>358000</td>\n",
       "    </tr>\n",
       "    <tr>\n",
       "      <th>3</th>\n",
       "      <td>급경사</td>\n",
       "      <td>1021.5</td>\n",
       "      <td>공원</td>\n",
       "      <td>373000</td>\n",
       "    </tr>\n",
       "    <tr>\n",
       "      <th>4</th>\n",
       "      <td>급경사</td>\n",
       "      <td>1021.5</td>\n",
       "      <td>공원</td>\n",
       "      <td>384000</td>\n",
       "    </tr>\n",
       "    <tr>\n",
       "      <th>...</th>\n",
       "      <td>...</td>\n",
       "      <td>...</td>\n",
       "      <td>...</td>\n",
       "      <td>...</td>\n",
       "    </tr>\n",
       "    <tr>\n",
       "      <th>233622</th>\n",
       "      <td>평지</td>\n",
       "      <td>660.0</td>\n",
       "      <td>종교용지</td>\n",
       "      <td>3110000</td>\n",
       "    </tr>\n",
       "    <tr>\n",
       "      <th>233623</th>\n",
       "      <td>평지</td>\n",
       "      <td>37445.4</td>\n",
       "      <td>대</td>\n",
       "      <td>5300000</td>\n",
       "    </tr>\n",
       "    <tr>\n",
       "      <th>233624</th>\n",
       "      <td>평지</td>\n",
       "      <td>362.2</td>\n",
       "      <td>대</td>\n",
       "      <td>5250000</td>\n",
       "    </tr>\n",
       "    <tr>\n",
       "      <th>233625</th>\n",
       "      <td>완경사</td>\n",
       "      <td>1240.0</td>\n",
       "      <td>임야</td>\n",
       "      <td>295000</td>\n",
       "    </tr>\n",
       "    <tr>\n",
       "      <th>233626</th>\n",
       "      <td>평지</td>\n",
       "      <td>24550.0</td>\n",
       "      <td>대</td>\n",
       "      <td>4700000</td>\n",
       "    </tr>\n",
       "  </tbody>\n",
       "</table>\n",
       "<p>233627 rows × 4 columns</p>\n",
       "</div>"
      ],
      "text/plain": [
       "       지형높이     토지면적    지목     공시지가\n",
       "0       급경사   1021.5    공원   346000\n",
       "1       급경사   1021.5    공원   350000\n",
       "2       급경사   1021.5    공원   358000\n",
       "3       급경사   1021.5    공원   373000\n",
       "4       급경사   1021.5    공원   384000\n",
       "...     ...      ...   ...      ...\n",
       "233622   평지    660.0  종교용지  3110000\n",
       "233623   평지  37445.4     대  5300000\n",
       "233624   평지    362.2     대  5250000\n",
       "233625  완경사   1240.0    임야   295000\n",
       "233626   평지  24550.0     대  4700000\n",
       "\n",
       "[233627 rows x 4 columns]"
      ]
     },
     "execution_count": 27,
     "metadata": {},
     "output_type": "execute_result"
    }
   ],
   "source": [
    "train = budongsan[['지형높이', '토지면적', '지목', '공시지가']]\n",
    "train"
   ]
  }
 ],
 "metadata": {
  "kernelspec": {
   "display_name": "Python 3",
   "language": "python",
   "name": "python3"
  },
  "language_info": {
   "codemirror_mode": {
    "name": "ipython",
    "version": 3
   },
   "file_extension": ".py",
   "mimetype": "text/x-python",
   "name": "python",
   "nbconvert_exporter": "python",
   "pygments_lexer": "ipython3",
   "version": "3.7.3"
  },
  "toc": {
   "base_numbering": 1,
   "nav_menu": {},
   "number_sections": true,
   "sideBar": true,
   "skip_h1_title": false,
   "title_cell": "Table of Contents",
   "title_sidebar": "Contents",
   "toc_cell": false,
   "toc_position": {},
   "toc_section_display": true,
   "toc_window_display": false
  },
  "varInspector": {
   "cols": {
    "lenName": 16,
    "lenType": 16,
    "lenVar": 40
   },
   "kernels_config": {
    "python": {
     "delete_cmd_postfix": "",
     "delete_cmd_prefix": "del ",
     "library": "var_list.py",
     "varRefreshCmd": "print(var_dic_list())"
    },
    "r": {
     "delete_cmd_postfix": ") ",
     "delete_cmd_prefix": "rm(",
     "library": "var_list.r",
     "varRefreshCmd": "cat(var_dic_list()) "
    }
   },
   "types_to_exclude": [
    "module",
    "function",
    "builtin_function_or_method",
    "instance",
    "_Feature"
   ],
   "window_display": false
  }
 },
 "nbformat": 4,
 "nbformat_minor": 4
}
