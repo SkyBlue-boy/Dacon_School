{
 "cells": [
  {
   "cell_type": "markdown",
   "metadata": {},
   "source": [
    "### 문제 1. 아래 링크에 접속하여 퇴근시간 버스승차인원 예측 경진대회 데이터를 다운로드 받아주세요.\n",
    "\n",
    "- https://dacon.io/competitions/official/229255/data/"
   ]
  },
  {
   "cell_type": "markdown",
   "metadata": {},
   "source": [
    "### 문제 2. train.csv, test.csv, submission_sample.csv를 읽어서 각각 train, test, submission 변수에 저장해주세요."
   ]
  },
  {
   "cell_type": "code",
   "execution_count": 1,
   "metadata": {},
   "outputs": [],
   "source": [
    "import pandas as pd\n",
    "train = pd.read_csv('../../../Google 드라이브/데이콘/06. 데이콘 제주대학교/제주대/data13/train.csv')\n",
    "test = pd.read_csv('../../../Google 드라이브/데이콘/06. 데이콘 제주대학교/제주대/data13/test.csv')\n",
    "submission = pd.read_csv('../../../Google 드라이브/데이콘/06. 데이콘 제주대학교/제주대/data13/submission_sample.csv')"
   ]
  },
  {
   "cell_type": "markdown",
   "metadata": {},
   "source": [
    "### 문제 3. train, test, submission에 저장된 데이터프레임의 열 이름을 각각 확인해보세요."
   ]
  },
  {
   "cell_type": "code",
   "execution_count": 2,
   "metadata": {},
   "outputs": [
    {
     "name": "stdout",
     "output_type": "stream",
     "text": [
      "Index(['id', 'date', 'bus_route_id', 'in_out', 'station_code', 'station_name',\n",
      "       'latitude', 'longitude', '6~7_ride', '7~8_ride', '8~9_ride',\n",
      "       '9~10_ride', '10~11_ride', '11~12_ride', '6~7_takeoff', '7~8_takeoff',\n",
      "       '8~9_takeoff', '9~10_takeoff', '10~11_takeoff', '11~12_takeoff',\n",
      "       '18~20_ride'],\n",
      "      dtype='object')\n",
      "Index(['id', 'date', 'bus_route_id', 'in_out', 'station_code', 'station_name',\n",
      "       'latitude', 'longitude', '6~7_ride', '7~8_ride', '8~9_ride',\n",
      "       '9~10_ride', '10~11_ride', '11~12_ride', '6~7_takeoff', '7~8_takeoff',\n",
      "       '8~9_takeoff', '9~10_takeoff', '10~11_takeoff', '11~12_takeoff'],\n",
      "      dtype='object')\n",
      "Index(['id', '18~20_ride'], dtype='object')\n"
     ]
    }
   ],
   "source": [
    "print(train.columns)\n",
    "print(test.columns)\n",
    "print(submission.columns)"
   ]
  },
  {
   "cell_type": "markdown",
   "metadata": {},
   "source": [
    "### 문제 4. 아래 조건에 맞게 train, test 데이터에서 일부 칼럼만 추출하여 각각 변수에 저장해보세요.\n",
    "\n",
    "- X_train = train 데이터의 18~20_ride를 제외한 모든 ride 칼럼, 모든 takeoff 칼럼\n",
    "- y_train = train 데이터의 18~20_ride 칼럼\n",
    "- X_test = test 데이터의 모든 ride 칼럼, takeoff 칼럼"
   ]
  },
  {
   "cell_type": "code",
   "execution_count": 3,
   "metadata": {},
   "outputs": [],
   "source": [
    "features = ['6~7_ride', '7~8_ride', '8~9_ride', '9~10_ride', '10~11_ride', '11~12_ride', '6~7_takeoff', '7~8_takeoff', \n",
    "            '8~9_takeoff', '9~10_takeoff', '10~11_takeoff', '11~12_takeoff']\n",
    "\n",
    "X_train = train[features]\n",
    "y_train = train['18~20_ride']\n",
    "X_test = test[features]"
   ]
  },
  {
   "cell_type": "markdown",
   "metadata": {},
   "source": [
    "### 문제 5. kfold 변수에 sklearn.model_selection에서 제공하는 KFold 클래스를 저장해주세요.\n",
    "- 수업시간에 StratifiedKFold를 정의한 것과 같은 방식입니다.\n",
    "- n_splits = 5, shuffle = True, random_state = 0 조건 입력"
   ]
  },
  {
   "cell_type": "code",
   "execution_count": 4,
   "metadata": {},
   "outputs": [],
   "source": [
    "from sklearn.model_selection import KFold\n",
    "kfold = KFold(n_splits = 5, shuffle = True, random_state = 0)"
   ]
  },
  {
   "cell_type": "markdown",
   "metadata": {},
   "source": [
    "### 문제 6. model 변수에 sklearn.ensemble에서 제공하는 RandomForestRegressor 클래스를 저장해주세요.\n",
    "\n",
    "- n_estimators = 50\n",
    "- min_samples_leaf = 1000\n",
    "- random_state = 0\n",
    "- n_jobs = -1\n",
    "- verbose = 1"
   ]
  },
  {
   "cell_type": "code",
   "execution_count": 5,
   "metadata": {},
   "outputs": [],
   "source": [
    "from sklearn.ensemble import RandomForestRegressor\n",
    "model = RandomForestRegressor(n_estimators = 50, min_samples_leaf = 1000, random_state =0, n_jobs = -1, verbose = 1)"
   ]
  },
  {
   "cell_type": "markdown",
   "metadata": {},
   "source": [
    "### 문제 7. 5번 문제에서 정의한 kfold를 활용해 model에 대한 교차 검증을 실시해주세요.\n",
    "- 교차 검증 시 loss 는 RMSE를 사용합니다. \n",
    "- RMSE = (실제값 - 예측값)^2 의 평균을 루트 씌운 값\n",
    "- 검증 할 때마다 loss 값을 loss_list라는 리스트에 저장해주세요. "
   ]
  },
  {
   "cell_type": "code",
   "execution_count": 6,
   "metadata": {},
   "outputs": [],
   "source": [
    "import numpy as np"
   ]
  },
  {
   "cell_type": "code",
   "execution_count": 7,
   "metadata": {},
   "outputs": [
    {
     "name": "stderr",
     "output_type": "stream",
     "text": [
      "[Parallel(n_jobs=-1)]: Using backend ThreadingBackend with 8 concurrent workers.\n",
      "[Parallel(n_jobs=-1)]: Done  34 tasks      | elapsed:    8.6s\n",
      "[Parallel(n_jobs=-1)]: Done  50 out of  50 | elapsed:   11.4s finished\n",
      "[Parallel(n_jobs=8)]: Using backend ThreadingBackend with 8 concurrent workers.\n",
      "[Parallel(n_jobs=8)]: Done  34 tasks      | elapsed:    0.0s\n",
      "[Parallel(n_jobs=8)]: Done  50 out of  50 | elapsed:    0.0s finished\n",
      "[Parallel(n_jobs=-1)]: Using backend ThreadingBackend with 8 concurrent workers.\n"
     ]
    },
    {
     "name": "stdout",
     "output_type": "stream",
     "text": [
      "3.686529626208303\n"
     ]
    },
    {
     "name": "stderr",
     "output_type": "stream",
     "text": [
      "[Parallel(n_jobs=-1)]: Done  34 tasks      | elapsed:    8.8s\n",
      "[Parallel(n_jobs=-1)]: Done  50 out of  50 | elapsed:   12.4s finished\n",
      "[Parallel(n_jobs=8)]: Using backend ThreadingBackend with 8 concurrent workers.\n",
      "[Parallel(n_jobs=8)]: Done  34 tasks      | elapsed:    0.0s\n",
      "[Parallel(n_jobs=8)]: Done  50 out of  50 | elapsed:    0.0s finished\n"
     ]
    },
    {
     "name": "stdout",
     "output_type": "stream",
     "text": [
      "3.7211659421348346\n"
     ]
    },
    {
     "name": "stderr",
     "output_type": "stream",
     "text": [
      "[Parallel(n_jobs=-1)]: Using backend ThreadingBackend with 8 concurrent workers.\n",
      "[Parallel(n_jobs=-1)]: Done  34 tasks      | elapsed:    8.9s\n",
      "[Parallel(n_jobs=-1)]: Done  50 out of  50 | elapsed:   12.3s finished\n",
      "[Parallel(n_jobs=8)]: Using backend ThreadingBackend with 8 concurrent workers.\n",
      "[Parallel(n_jobs=8)]: Done  34 tasks      | elapsed:    0.0s\n",
      "[Parallel(n_jobs=8)]: Done  50 out of  50 | elapsed:    0.0s finished\n"
     ]
    },
    {
     "name": "stdout",
     "output_type": "stream",
     "text": [
      "4.116116632567244\n"
     ]
    },
    {
     "name": "stderr",
     "output_type": "stream",
     "text": [
      "[Parallel(n_jobs=-1)]: Using backend ThreadingBackend with 8 concurrent workers.\n",
      "[Parallel(n_jobs=-1)]: Done  34 tasks      | elapsed:    8.9s\n",
      "[Parallel(n_jobs=-1)]: Done  50 out of  50 | elapsed:   12.9s finished\n",
      "[Parallel(n_jobs=8)]: Using backend ThreadingBackend with 8 concurrent workers.\n",
      "[Parallel(n_jobs=8)]: Done  34 tasks      | elapsed:    0.0s\n",
      "[Parallel(n_jobs=8)]: Done  50 out of  50 | elapsed:    0.0s finished\n"
     ]
    },
    {
     "name": "stdout",
     "output_type": "stream",
     "text": [
      "3.7555963893926685\n"
     ]
    },
    {
     "name": "stderr",
     "output_type": "stream",
     "text": [
      "[Parallel(n_jobs=-1)]: Using backend ThreadingBackend with 8 concurrent workers.\n",
      "[Parallel(n_jobs=-1)]: Done  34 tasks      | elapsed:   11.0s\n"
     ]
    },
    {
     "name": "stdout",
     "output_type": "stream",
     "text": [
      "3.697919147484447\n"
     ]
    },
    {
     "name": "stderr",
     "output_type": "stream",
     "text": [
      "[Parallel(n_jobs=-1)]: Done  50 out of  50 | elapsed:   15.1s finished\n",
      "[Parallel(n_jobs=8)]: Using backend ThreadingBackend with 8 concurrent workers.\n",
      "[Parallel(n_jobs=8)]: Done  34 tasks      | elapsed:    0.0s\n",
      "[Parallel(n_jobs=8)]: Done  50 out of  50 | elapsed:    0.0s finished\n"
     ]
    }
   ],
   "source": [
    "loss_list = []\n",
    "\n",
    "for trn_idx, val_idx in kfold.split(X_train, y_train):\n",
    "    \n",
    "    X_trn, X_val, y_trn, y_val = X_train.iloc[trn_idx], X_train.iloc[val_idx], y_train.iloc[trn_idx], y_train.iloc[val_idx]\n",
    "    model = RandomForestRegressor(n_estimators = 50, min_samples_leaf = 1000, random_state =0, n_jobs = -1, verbose = 1)\n",
    "    model.fit(X_trn, y_trn)\n",
    "    y_pred = model.predict(X_val)\n",
    "    loss = np.mean((y_val.values - y_pred)**2)**0.5\n",
    "    print(loss)\n",
    "    loss_list.append(loss)"
   ]
  },
  {
   "cell_type": "markdown",
   "metadata": {},
   "source": [
    "### 문제 8. loss_list에 기록된 값들의 평균을 구해주세요."
   ]
  },
  {
   "cell_type": "code",
   "execution_count": 8,
   "metadata": {},
   "outputs": [
    {
     "data": {
      "text/plain": [
       "3.7954655475574994"
      ]
     },
     "execution_count": 8,
     "metadata": {},
     "output_type": "execute_result"
    }
   ],
   "source": [
    "np.mean(loss_list)"
   ]
  },
  {
   "cell_type": "code",
   "execution_count": null,
   "metadata": {},
   "outputs": [],
   "source": []
  }
 ],
 "metadata": {
  "kernelspec": {
   "display_name": "Python 3",
   "language": "python",
   "name": "python3"
  },
  "language_info": {
   "codemirror_mode": {
    "name": "ipython",
    "version": 3
   },
   "file_extension": ".py",
   "mimetype": "text/x-python",
   "name": "python",
   "nbconvert_exporter": "python",
   "pygments_lexer": "ipython3",
   "version": "3.8.5"
  }
 },
 "nbformat": 4,
 "nbformat_minor": 4
}
